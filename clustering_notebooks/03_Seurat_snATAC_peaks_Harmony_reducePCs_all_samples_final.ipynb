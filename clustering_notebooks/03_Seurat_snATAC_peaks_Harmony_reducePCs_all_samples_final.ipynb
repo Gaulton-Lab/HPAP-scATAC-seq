{
 "cells": [
  {
   "cell_type": "markdown",
   "id": "0486ef34",
   "metadata": {},
   "source": []
  },
  {
   "cell_type": "code",
   "execution_count": null,
   "id": "af466112",
   "metadata": {
    "scrolled": true
   },
   "outputs": [],
   "source": [
    "#source activate newEnv\n",
    "install.packages(\"broom\")\n",
    "if (!requireNamespace('BiocManager', quietly = TRUE))\n",
    "    install.packages('BiocManager')\n",
    "BiocManager::install('parallelly')\n",
    "install.packages(\"Seurat\")\n",
    "\n",
    "library(dplyr)\n",
    "library(ggplot2)\n",
    "library(sctransform)\n",
    "library(scater)\n",
    "library(reticulate)\n",
    "library(future)\n",
    "#library('gPCA')\n",
    "library('Biobase')\n",
    "library(pheatmap)\n",
    "#library(\"ggfortify\")\n",
    "#library('qvalue')\n",
    "library(gplots)\n",
    "#library('DESeq2')\n",
    "#library(VennDiagram)\n",
    "library('hdf5r')\n",
    "library(EnsDb.Hsapiens.v86)\n",
    "\n",
    "library(BiocParallel)\n",
    "library(tictoc)\n",
    "library(Seurat)\n",
    "library(Signac)\n",
    "library(EnsDb.Hsapiens.v86)\n",
    "library(ggplot2)\n",
    "library(cowplot)\n",
    "library(GenomeInfoDb)\n",
    "\n",
    "suppressMessages(library(hdf5r))\n",
    "suppressMessages(library(Seurat))\n",
    "suppressMessages(library(Signac))\n",
    "suppressMessages(library(EnsDb.Hsapiens.v86))\n",
    "suppressMessages(library(dplyr))\n",
    "suppressMessages(library(ggplot2))\n",
    "suppressMessages(library(Matrix))\n",
    "suppressMessages(library(harmony))\n",
    "suppressMessages(library(data.table))\n",
    "suppressMessages(library(ggpubr))\n",
    "suppressMessages(library(future))\n",
    "library(tidyr)"
   ]
  },
  {
   "cell_type": "code",
   "execution_count": null,
   "id": "f2aeacbc",
   "metadata": {},
   "outputs": [],
   "source": [
    "install.packages(\"ggpubr\")\n",
    "install.packages(\"ggbreak\")\n",
    "install.packages(\"gridExtra\")\n",
    "install.packages(\"grid\")\n",
    "install.packages(\"ggh4x\")\n",
    "library(ggpubr)\n",
    "library(ggbreak)\n",
    "library(gridExtra)\n",
    "library(grid)\n",
    "library(ggh4x)\n",
    "library(ggplot2)\n",
    "library(ggforce)"
   ]
  },
  {
   "cell_type": "markdown",
   "id": "7f73327f",
   "metadata": {},
   "source": [
    "### Read in the  peaks  lfm\n"
   ]
  },
  {
   "cell_type": "code",
   "execution_count": null,
   "id": "24c5b85d",
   "metadata": {},
   "outputs": [],
   "source": [
    "samples <- c('HPAP-035', 'HPAP-036', 'HPAP-039', 'HPAP-040', 'HPAP-044', 'HPAP-045', 'HPAP-047', 'HPAP-049', 'HPAP-050', 'HPAP-051', 'HPAP-052', 'HPAP-053', 'HPAP-054', 'HPAP-055', 'HPAP-056', 'HPAP-059', 'HPAP-061', 'HPAP-062', 'HPAP-063', 'HPAP-064', 'HPAP-067', 'HPAP-069', 'HPAP-072', 'HPAP-075', 'HPAP-077', 'HPAP-079', 'HPAP-080', 'HPAP-081', 'HPAP-083', 'HPAP-084', 'HPAP-085', 'HPAP-088', 'HPAP-092', 'HPAP-099', 'HPAP-100', 'HPAP-101', 'HPAP-103', 'HPAP-104', 'HPAP-105', 'HPAP-106', 'HPAP-109')\n"
   ]
  },
  {
   "cell_type": "markdown",
   "id": "97f5a5ff",
   "metadata": {},
   "source": [
    "### Read in long fmt mtx V1 should be windows, V2 should be barcodes"
   ]
  },
  {
   "cell_type": "code",
   "execution_count": null,
   "id": "011d7441",
   "metadata": {
    "scrolled": false
   },
   "outputs": [],
   "source": [
    ".libPaths()"
   ]
  },
  {
   "cell_type": "code",
   "execution_count": null,
   "id": "4de0c7b8",
   "metadata": {
    "scrolled": true
   },
   "outputs": [],
   "source": [
    "BiocManager::install(\"Bioconductor/GenomeInfoDb\",lib = \"/home/parulk/R/x86_64-pc-linux-gnu-library/4.1\",force = TRUE)"
   ]
  },
  {
   "cell_type": "code",
   "execution_count": null,
   "id": "45132b13",
   "metadata": {},
   "outputs": [],
   "source": [
    "library(GenomeInfoDb,lib.loc=\"/home/parulk/R/x86_64-pc-linux-gnu-library/4.1\")"
   ]
  },
  {
   "cell_type": "code",
   "execution_count": null,
   "id": "aa89b8f2",
   "metadata": {},
   "outputs": [],
   "source": [
    "packageVersion(\"GenomeInfoDb\",lib.loc=\"/home/parulk/R/x86_64-pc-linux-gnu-library/4.1\")"
   ]
  },
  {
   "cell_type": "code",
   "execution_count": null,
   "id": "ee4a6f0e",
   "metadata": {},
   "outputs": [],
   "source": [
    "GenomeInfoDb::getChromInfoFromUCSC(\"hg38\")"
   ]
  },
  {
   "cell_type": "code",
   "execution_count": null,
   "id": "9623e077",
   "metadata": {
    "scrolled": true
   },
   "outputs": [],
   "source": [
    "#### Read in the ATAC data to Seurat using the new lfm matrices\n",
    "#read in ATAC data from the lfm matrices (sm workaround method for now)\n",
    "# load in starting ATAC long format matrices to a list \n",
    "atacs_OG <- list()\n",
    "atacs_FINAL <- list()\n",
    "\n",
    "for (sample in samples) {\n",
    "    #print(sample)\n",
    "    wd <- sprintf('/nfs/lab/parulk/HPAP_scATAC/peak_calls_leiden/lfm/', sample)\n",
    "    atacs_OG[[sample]] <- read.table(file.path(wd, sprintf('%s.long_fmt_mtx.txt.gz',sample)), sep='\\t', header=FALSE, stringsAsFactors=FALSE)\n",
    "    #atacs_OG[[sample]]$V1 <- as.factor(atacs_OG[[sample]]$V1)\n",
    "    #atacs_OG[[sample]]$V2 <- as.factor(atacs_OG[[sample]]$V2)\n",
    "    atacs_FINAL[[sample]] <- read.table(file.path(wd, sprintf('%s.long_fmt_mtx.txt.gz',sample)), sep='\\t', header=FALSE, stringsAsFactors=FALSE)\n",
    "    atacs_FINAL[[sample]]$V1 <- as.factor(atacs_OG[[sample]]$V2)\n",
    "    atacs_FINAL[[sample]]$V2 <- as.factor(atacs_OG[[sample]]$V1)\n",
    "    atacs_OG[[sample]] <- NULL\n",
    "    #atacs_FINAL[[sample]] <- atacs_FINAL[[sample]][atacs_FINAL[[sample]]$V2 %in% good,]\n",
    "}"
   ]
  },
  {
   "cell_type": "code",
   "execution_count": null,
   "id": "73c4725e",
   "metadata": {},
   "outputs": [],
   "source": [
    "atac_mod <- atacs_FINAL\n",
    "head(atac_mod)"
   ]
  },
  {
   "cell_type": "code",
   "execution_count": null,
   "id": "c50a4fa2",
   "metadata": {},
   "outputs": [],
   "source": [
    "#### ADD '-1' TO THE BARCODES FROM JOSHS MATRICES \n",
    "# THIS IS ALL BECAUSE THE FRAGMENT FILE FROM CELLRANGER IS IN THIS FORMAT AND SEURAT NEEDS THEM TO MATCH\n",
    "atac_mod$`HPAP-035`$V2 <- paste0(atac_mod$`HPAP-035`$V2, \"-1\")\n",
    "atac_mod$`HPAP-036`$V2 <- paste0(atac_mod$`HPAP-036`$V2, \"-1\")\n",
    "atac_mod$`HPAP-039`$V2 <- paste0(atac_mod$`HPAP-039`$V2, \"-1\")\n",
    "atac_mod$`HPAP-040`$V2 <- paste0(atac_mod$`HPAP-040`$V2, \"-1\")\n",
    "atac_mod$`HPAP-044`$V2 <- paste0(atac_mod$`HPAP-044`$V2, \"-1\")\n",
    "atac_mod$`HPAP-045`$V2 <- paste0(atac_mod$`HPAP-045`$V2, \"-1\")\n",
    "atac_mod$`HPAP-047`$V2 <- paste0(atac_mod$`HPAP-047`$V2, \"-1\")\n",
    "atac_mod$`HPAP-049`$V2 <- paste0(atac_mod$`HPAP-049`$V2, \"-1\")\n",
    "atac_mod$`HPAP-050`$V2 <- paste0(atac_mod$`HPAP-050`$V2, \"-1\")\n",
    "atac_mod$`HPAP-051`$V2 <- paste0(atac_mod$`HPAP-051`$V2, \"-1\")\n",
    "atac_mod$`HPAP-052`$V2 <- paste0(atac_mod$`HPAP-052`$V2, \"-1\")\n",
    "atac_mod$`HPAP-053`$V2 <- paste0(atac_mod$`HPAP-053`$V2, \"-1\")\n",
    "atac_mod$`HPAP-054`$V2 <- paste0(atac_mod$`HPAP-054`$V2, \"-1\")\n",
    "atac_mod$`HPAP-055`$V2 <- paste0(atac_mod$`HPAP-055`$V2, \"-1\")\n",
    "atac_mod$`HPAP-056`$V2 <- paste0(atac_mod$`HPAP-056`$V2, \"-1\")\n",
    "atac_mod$`HPAP-059`$V2 <- paste0(atac_mod$`HPAP-059`$V2, \"-1\")\n",
    "atac_mod$`HPAP-061`$V2 <- paste0(atac_mod$`HPAP-061`$V2, \"-1\")\n",
    "atac_mod$`HPAP-062`$V2 <- paste0(atac_mod$`HPAP-062`$V2, \"-1\")\n",
    "atac_mod$`HPAP-063`$V2 <- paste0(atac_mod$`HPAP-063`$V2, \"-1\")\n",
    "atac_mod$`HPAP-064`$V2 <- paste0(atac_mod$`HPAP-064`$V2, \"-1\")\n",
    "atac_mod$`HPAP-067`$V2 <- paste0(atac_mod$`HPAP-067`$V2, \"-1\")\n",
    "atac_mod$`HPAP-069`$V2 <- paste0(atac_mod$`HPAP-069`$V2, \"-1\")\n",
    "atac_mod$`HPAP-072`$V2 <- paste0(atac_mod$`HPAP-072`$V2, \"-1\")\n",
    "atac_mod$`HPAP-075`$V2 <- paste0(atac_mod$`HPAP-075`$V2, \"-1\")\n",
    "atac_mod$`HPAP-077`$V2 <- paste0(atac_mod$`HPAP-077`$V2, \"-1\")\n",
    "atac_mod$`HPAP-079`$V2 <- paste0(atac_mod$`HPAP-079`$V2, \"-1\")\n",
    "atac_mod$`HPAP-080`$V2 <- paste0(atac_mod$`HPAP-080`$V2, \"-1\")\n",
    "atac_mod$`HPAP-081`$V2 <- paste0(atac_mod$`HPAP-081`$V2, \"-1\")\n",
    "atac_mod$`HPAP-083`$V2 <- paste0(atac_mod$`HPAP-083`$V2, \"-1\")\n",
    "atac_mod$`HPAP-084`$V2 <- paste0(atac_mod$`HPAP-084`$V2, \"-1\")\n",
    "atac_mod$`HPAP-085`$V2 <- paste0(atac_mod$`HPAP-085`$V2, \"-1\")\n",
    "atac_mod$`HPAP-088`$V2 <- paste0(atac_mod$`HPAP-088`$V2, \"-1\")\n",
    "atac_mod$`HPAP-092`$V2 <- paste0(atac_mod$`HPAP-092`$V2, \"-1\")\n",
    "atac_mod$`HPAP-099`$V2 <- paste0(atac_mod$`HPAP-099`$V2, \"-1\")\n",
    "atac_mod$`HPAP-100`$V2 <- paste0(atac_mod$`HPAP-100`$V2, \"-1\")\n",
    "atac_mod$`HPAP-101`$V2 <- paste0(atac_mod$`HPAP-101`$V2, \"-1\")\n",
    "atac_mod$`HPAP-103`$V2 <- paste0(atac_mod$`HPAP-103`$V2, \"-1\")\n",
    "atac_mod$`HPAP-104`$V2 <- paste0(atac_mod$`HPAP-104`$V2, \"-1\")\n",
    "atac_mod$`HPAP-105`$V2 <- paste0(atac_mod$`HPAP-105`$V2, \"-1\")\n",
    "atac_mod$`HPAP-106`$V2 <- paste0(atac_mod$`HPAP-106`$V2, \"-1\")\n",
    "atac_mod$`HPAP-109`$V2 <- paste0(atac_mod$`HPAP-109`$V2, \"-1\")"
   ]
  },
  {
   "cell_type": "markdown",
   "id": "332f8b47",
   "metadata": {},
   "source": [
    "### Read in peaks file"
   ]
  },
  {
   "cell_type": "code",
   "execution_count": null,
   "id": "d443bef6",
   "metadata": {
    "scrolled": true
   },
   "outputs": [],
   "source": [
    "#read in the HVWs set, we'll cut down all samples to be these windows\n",
    "hvw_fp2 <- '/nfs/lab/parulk/HPAP_scATAC/peak_calls_leiden/peaks/mergedPeak_formatted.txt'\n",
    "hvws2 <- scan(hvw_fp2, what=\"\", sep=\"\\n\")\n",
    "print(head(hvws2))\n",
    "\n",
    "#sort alphanumerically\n",
    "hvws_fin2 <- sort(hvws2)\n",
    "print(tail(hvws_fin2))"
   ]
  },
  {
   "cell_type": "code",
   "execution_count": null,
   "id": "0e9408e2",
   "metadata": {},
   "outputs": [],
   "source": [
    "#function which takes in a list of long format atac_fragment dfs with \n",
    "#sample names (df), an overall windows file (windows) or peaks file and then makes these \n",
    "#into sparse matrices and merges them together\n",
    "\n",
    "#modified to take in the hvws set and use those... will still check if \n",
    "#there's any missing windows and add those, so only a few changes!\n",
    "\n",
    "merge_sparse_matrices_hvws <- function(dfs, windows){\n",
    "    samples <- names(dfs)\n",
    "    for (sample in samples){\n",
    "        #get missing windows list for this sample\n",
    "        print(paste(sample,Sys.time(),sep=': '))\n",
    "        df <- dfs[[sample]]\n",
    "        mis_windows <- windows[!windows %in% levels(df$V1)]\n",
    "        \n",
    "        #make sure there are missing_windows\n",
    "        if (length(mis_windows) > 0){\n",
    "            print('Adding missing windows')\n",
    "            #create a new long format matrix (sm) with the missing windows added as 0 counts\n",
    "            filler_bc <- as.character(df$V2[[1]])\n",
    "            print(paste(\"Using filler BC:\",filler_bc,sep=\" \"))\n",
    "            new_rows <- cbind(as.data.frame(mis_windows),\n",
    "                              as.data.frame(rep(filler_bc),length(mis_windows)),\n",
    "                              as.data.frame(rep(0,length(mis_windows))))\n",
    "            colnames(new_rows) <- c(\"V1\",\"V2\",\"V3\")\n",
    "            lfm <- rbind(df,new_rows)\n",
    "        #if there aren't, set lfm to df\n",
    "        } else {\n",
    "            print('No windows were missing')\n",
    "            lfm <- df\n",
    "        }\n",
    "        \n",
    "        #cut down lfm to just be the hvws (windows)\n",
    "        lfm_cut <- lfm[lfm$V1 %in% windows,]\n",
    "        \n",
    "        #cut down barcodes to keep those in final set \n",
    "        #lfm_cut <- lfm_cut[lfm_cut$V2 %in% good,]\n",
    "        #lfm_cut <- lfm[,lfm$V2 %in% good]\n",
    "        #atacs_FINAL[[sample]] <- atacs_FINAL[[sample]][atacs_FINAL[[sample]]$V2 %in% good,]\n",
    "        #set the levels of the lfm based on the desired bc order and reorder V1\n",
    "        lfm_cut$V1 <- factor(lfm_cut$V1, levels=windows)\n",
    "        lfm2 <- lfm_cut[order(lfm_cut$V1),]\n",
    "        lfm2$V2 <- as.factor(lfm2$V2)\n",
    "        \n",
    "        if (sample == samples[1]){\n",
    "            #if first sample, will make the overall sparse matrix \n",
    "            overall_sm <- with(lfm2,sparseMatrix(i=as.numeric(V1), j=as.numeric(V2), x=V3, dimnames=list(levels(V1), levels(V2))))\n",
    "            print(dim(overall_sm))\n",
    "            \n",
    "        } else {\n",
    "            #lfm2 <- lfm2[lfm2$V2 %in% good,]\n",
    "\n",
    "            #otherwise, convert into a sparse matrix and add to the overall one\n",
    "            sm = with(lfm2,sparseMatrix(i=as.numeric(V1), j=as.numeric(V2), x=V3, dimnames=list(levels(V1), levels(V2))))\n",
    "            print(dim(sm))\n",
    "            overall_sm = cbind(overall_sm, sm) \n",
    "        }\n",
    "    }\n",
    "    return(overall_sm)\n",
    "}"
   ]
  },
  {
   "cell_type": "code",
   "execution_count": null,
   "id": "e3ea4062",
   "metadata": {
    "scrolled": true
   },
   "outputs": [],
   "source": [
    "overall_sm2 <- merge_sparse_matrices_hvws(atac_mod,hvws_fin2)\n",
    "dim(overall_sm2)\n",
    "head(overall_sm2)"
   ]
  },
  {
   "cell_type": "code",
   "execution_count": null,
   "id": "d9deecea",
   "metadata": {},
   "outputs": [],
   "source": [
    "#check if the windows of overall_sm are sorted (they should be)\n",
    "sorted_windows2 <- sort(row.names(overall_sm2))\n",
    "table(sorted_windows2 == row.names(overall_sm2))"
   ]
  },
  {
   "cell_type": "code",
   "execution_count": null,
   "id": "cbb5df94",
   "metadata": {},
   "outputs": [],
   "source": [
    "## atac == giant matrix of barcodes by highly varibale windows\n",
    "atac <- overall_sm2\n"
   ]
  },
  {
   "cell_type": "code",
   "execution_count": null,
   "id": "6eb4802a",
   "metadata": {
    "scrolled": true
   },
   "outputs": [],
   "source": [
    "#continue to make Seurat compatible object\n",
    "suppressMessages(annotations <- GetGRangesFromEnsDb(ensdb=EnsDb.Hsapiens.v86))\n",
    "seqlevelsStyle(annotations) <- 'UCSC'\n",
    "genome(annotations) <- 'hg38'\n"
   ]
  },
  {
   "cell_type": "code",
   "execution_count": null,
   "id": "547b048a",
   "metadata": {},
   "outputs": [],
   "source": [
    "frag.file ='/nfs/lab/parulk/HPAP_scATAC/merged_samples-new.bed.gz'\n",
    "head(frag.file)"
   ]
  },
  {
   "cell_type": "code",
   "execution_count": null,
   "id": "7a542c98",
   "metadata": {},
   "outputs": [],
   "source": [
    "atac_assay <- CreateChromatinAssay(counts=atac, sep=c(':', '-'), genome='hg38', fragments=frag.file, min.cells=0, min.features=-1, annotation=annotations)\n",
    "head(atac_assay)"
   ]
  },
  {
   "cell_type": "code",
   "execution_count": null,
   "id": "dc1f1c49",
   "metadata": {
    "scrolled": true
   },
   "outputs": [],
   "source": [
    "Atac <-CreateSeuratObject(atac_assay, project = \"HPAP\", assay = \"ATAC_peaks\",\n",
    "  min.cells = 0, min.features = 0, names.field = 2,\n",
    "  names.delim = \"_\")\n",
    "head(Atac)\n",
    "str(Atac)"
   ]
  },
  {
   "cell_type": "code",
   "execution_count": null,
   "id": "cd05c3ce",
   "metadata": {},
   "outputs": [],
   "source": [
    "### Since our sampleIDs are structured HPAP- we cut off the barcode bit of each row and store as the library\n",
    "Atac$library <- gsub('.{19}$', '', rownames(Atac@meta.data))\n",
    "head(Atac$library)"
   ]
  },
  {
   "cell_type": "code",
   "execution_count": null,
   "id": "080b419a",
   "metadata": {},
   "outputs": [],
   "source": [
    "### add whatever metadata for harmony\n",
    "### add whatever metadata for harmony\n",
    "sex_F = list('HPAP-036', 'HPAP-039', 'HPAP-044','HPAP-045', 'HPAP-050', 'HPAP-051', 'HPAP-053', 'HPAP-054', 'HPAP-062', 'HPAP-063', 'HPAP-069', 'HPAP-079', 'HPAP-081', 'HPAP-084', 'HPAP-085', 'HPAP-099', 'HPAP-101', 'HPAP-103', 'HPAP-105', 'HPAP-109')\n",
    "cond_t1d = list('HPAP-055', 'HPAP-064', 'HPAP-084')\n",
    "cond_t2d = list('HPAP-051', 'HPAP-061', 'HPAP-062', 'HPAP-079', 'HPAP-081', 'HPAP-083', 'HPAP-085', 'HPAP-088', 'HPAP-100', 'HPAP-106', 'HPAP-109')\n",
    "cond_ctrl = list('HPAP-035', 'HPAP-036', 'HPAP-039', 'HPAP-040', 'HPAP-044', 'HPAP-045', 'HPAP-047', 'HPAP-049', 'HPAP-050', 'HPAP-052', 'HPAP-053', 'HPAP-054', 'HPAP-056', 'HPAP-059', 'HPAP-063', 'HPAP-067', 'HPAP-069', 'HPAP-072', 'HPAP-075', 'HPAP-077', 'HPAP-080', 'HPAP-092', 'HPAP-099', 'HPAP-101', 'HPAP-103', 'HPAP-104', 'HPAP-105')           \n",
    "\n",
    "\n",
    "\n",
    "\n",
    "Atac@meta.data$sex[Atac@meta.data$library %in% sex_F] <- 'F'\n",
    "Atac@meta.data$sex[!Atac@meta.data$library %in% sex_F] <- 'M'\n",
    "\n",
    "Atac@meta.data$condition[Atac@meta.data$library %in% cond_t1d] <- 'T1D'\n",
    "Atac@meta.data$condition[Atac@meta.data$library %in% cond_t2d] <- 'T2D'\n",
    "Atac@meta.data$condition[Atac@meta.data$library %in% cond_ctrl] <- 'Control'\n",
    "head(Atac@meta.data)\n",
    "head(Atac@meta.data$condition)\n",
    "head(Atac@meta.data$sex)"
   ]
  },
  {
   "cell_type": "code",
   "execution_count": null,
   "id": "ac2c144d",
   "metadata": {},
   "outputs": [],
   "source": [
    "#### I save everything up to here because Seurat likes to crash and its annoying to re do everything\n",
    "\n",
    "saveRDS(Atac, file='/nfs/lab/parulk/HPAP_scATAC/peak_based_intermediate.rds')\n",
    "\n"
   ]
  },
  {
   "cell_type": "code",
   "execution_count": null,
   "id": "f4826871",
   "metadata": {},
   "outputs": [],
   "source": [
    "Atac <- readRDS('/nfs/lab/parulk/HPAP_scATAC/peak_based_intermediate.rds')"
   ]
  },
  {
   "cell_type": "code",
   "execution_count": null,
   "id": "950afa39",
   "metadata": {
    "scrolled": true
   },
   "outputs": [],
   "source": [
    "Atac"
   ]
  },
  {
   "cell_type": "code",
   "execution_count": null,
   "id": "57f36dc5",
   "metadata": {
    "scrolled": true
   },
   "outputs": [],
   "source": [
    "head(Atac)"
   ]
  },
  {
   "cell_type": "code",
   "execution_count": null,
   "id": "295300e4",
   "metadata": {
    "scrolled": false
   },
   "outputs": [],
   "source": [
    "DefaultAssay(Atac) <- 'ATAC_peaks'\n",
    "Atac <- RunTFIDF(Atac)\n",
    "Atac <- FindTopFeatures(Atac, min.cutoff='q0', verbose=FALSE)\n",
    "\n",
    "\n",
    "\n"
   ]
  },
  {
   "cell_type": "code",
   "execution_count": null,
   "id": "b19053c0",
   "metadata": {
    "scrolled": false
   },
   "outputs": [],
   "source": [
    "Atac <- RunSVD(Atac)"
   ]
  },
  {
   "cell_type": "code",
   "execution_count": null,
   "id": "ec47a31e",
   "metadata": {},
   "outputs": [],
   "source": [
    "DepthCor(Atac)"
   ]
  },
  {
   "cell_type": "code",
   "execution_count": null,
   "id": "4e55a960",
   "metadata": {
    "scrolled": false
   },
   "outputs": [],
   "source": [
    "hm_atac <- HarmonyMatrix(Embeddings(Atac, reduction='lsi'),Atac@meta.data,  c(\"library\",\"sex\"), do_pca=FALSE,plot_convergence = TRUE, verbose = TRUE)\n"
   ]
  },
  {
   "cell_type": "code",
   "execution_count": null,
   "id": "a9a93b6f",
   "metadata": {
    "scrolled": false
   },
   "outputs": [],
   "source": [
    "Atac[['harmony.atac']] <- CreateDimReducObject(embeddings=hm_atac, key='LSI_', assay= 'ATAC_peaks')"
   ]
  },
  {
   "cell_type": "code",
   "execution_count": null,
   "id": "cce56ded",
   "metadata": {
    "scrolled": true
   },
   "outputs": [],
   "source": [
    "Atac <- RunUMAP(Atac, dims=2:30, reduction='harmony.atac', reduction.name='umap.atac', reduction.key='atacUMAP_')\n"
   ]
  },
  {
   "cell_type": "code",
   "execution_count": null,
   "id": "c3803d70",
   "metadata": {},
   "outputs": [],
   "source": [
    "options(repr.plot.width=10, repr.plot.height=10)\n",
    "p3 <- DimPlot(Atac, reduction='umap.atac', group.by = 'library', label=TRUE, label.size=6, repel=TRUE, raster=FALSE) + ggtitle('WNN')\n",
    "p3 <- p3 + xlab('UMAP 1') + ylab('UMAP 2') + ggtitle('ATAC')\n",
    "p3"
   ]
  },
  {
   "cell_type": "code",
   "execution_count": null,
   "id": "0ca42691",
   "metadata": {
    "scrolled": true
   },
   "outputs": [],
   "source": [
    "Atac@reductions"
   ]
  },
  {
   "cell_type": "code",
   "execution_count": null,
   "id": "4b158dd9",
   "metadata": {},
   "outputs": [],
   "source": [
    "DepthCor(Atac, reduction = 'harmony.atac')"
   ]
  },
  {
   "cell_type": "code",
   "execution_count": null,
   "id": "ccf31204",
   "metadata": {
    "scrolled": true
   },
   "outputs": [],
   "source": [
    "Atac <- FindNeighbors(object = Atac, reduction = 'harmony.atac', dims = 2:30)"
   ]
  },
  {
   "cell_type": "code",
   "execution_count": null,
   "id": "1378461c",
   "metadata": {
    "scrolled": true
   },
   "outputs": [],
   "source": [
    "Atac <- FindClusters(object = Atac, algorithm=4,resolution = 1.5,method = \"igraph\") "
   ]
  },
  {
   "cell_type": "code",
   "execution_count": null,
   "id": "2be03973",
   "metadata": {
    "scrolled": true
   },
   "outputs": [],
   "source": [
    "DimPlot(object = Atac, label = TRUE) + NoLegend()\n"
   ]
  },
  {
   "cell_type": "code",
   "execution_count": null,
   "id": "ed8e1c32",
   "metadata": {
    "scrolled": true
   },
   "outputs": [],
   "source": [
    "options(repr.plot.width=10, repr.plot.height=10)\n",
    "#DimPlot(object = Atac, group.by = 'technology',label = FALSE)# + NoLegend()\n",
    "DimPlot(object = Atac, group.by = 'library',label = FALSE)# + NoLegend()\n",
    "DimPlot(object = Atac, group.by = 'condition',label = FALSE)# + NoLegend()\n",
    "\n"
   ]
  },
  {
   "cell_type": "code",
   "execution_count": null,
   "id": "7b7dcae1",
   "metadata": {},
   "outputs": [],
   "source": [
    "saveRDS(Atac, file='/nfs/lab/parulk/HPAP_scATAC/peaks_all_samples_harmony_reduced_final.rds')\n"
   ]
  },
  {
   "cell_type": "code",
   "execution_count": null,
   "id": "1154895a",
   "metadata": {},
   "outputs": [],
   "source": [
    "#Read object after processing\n",
    "atac_obj <- readRDS('/nfs/lab/parulk/HPAP_scATAC/peaks_all_samples_harmony_reduced_final.rds')"
   ]
  },
  {
   "cell_type": "code",
   "execution_count": null,
   "id": "be76f0e4",
   "metadata": {
    "scrolled": true
   },
   "outputs": [],
   "source": [
    "options(repr.plot.width=20, repr.plot.height=10)\n",
    "DimPlot(atac_obj, label = TRUE, repel=TRUE)"
   ]
  },
  {
   "cell_type": "code",
   "execution_count": null,
   "id": "b1330de8",
   "metadata": {},
   "outputs": [],
   "source": [
    "atac_obj"
   ]
  },
  {
   "cell_type": "code",
   "execution_count": null,
   "id": "4b386bc4",
   "metadata": {
    "scrolled": true
   },
   "outputs": [],
   "source": [
    "#gene activity\n",
    "gene.activities <- GeneActivity(atac_obj)\n",
    "# add the gene activity matrix to the Seurat object as a new assay and normalize it\n",
    "atac_obj[['RNA']] <- CreateAssayObject(counts = gene.activities)\n",
    "atac_obj <- NormalizeData(\n",
    "  object = atac_obj,\n",
    "  assay = 'RNA',\n",
    "  normalization.method = 'LogNormalize',\n",
    "  scale.factor = median(atac_obj$nCount_RNA)\n",
    ")"
   ]
  },
  {
   "cell_type": "code",
   "execution_count": null,
   "id": "514426c8",
   "metadata": {
    "scrolled": true
   },
   "outputs": [],
   "source": [
    "atac_obj <- NucleosomeSignal(object = atac_obj)\n",
    "atac_obj <- TSSEnrichment(object = atac_obj, fast = FALSE)\n",
    "head(atac_obj@meta.data)"
   ]
  },
  {
   "cell_type": "code",
   "execution_count": null,
   "id": "a5f088a1",
   "metadata": {},
   "outputs": [],
   "source": [
    "#check\n",
    "# add qc metrics from josh\n",
    "samples <- c('HPAP-035', 'HPAP-036', 'HPAP-039', 'HPAP-040', 'HPAP-044', 'HPAP-045', 'HPAP-047', 'HPAP-049', 'HPAP-050', 'HPAP-051', 'HPAP-052', 'HPAP-053', 'HPAP-054', 'HPAP-055', 'HPAP-056', 'HPAP-059', 'HPAP-061', 'HPAP-062', 'HPAP-063', 'HPAP-064', 'HPAP-067', 'HPAP-069', 'HPAP-072', 'HPAP-075', 'HPAP-077', 'HPAP-079', 'HPAP-080', 'HPAP-081', 'HPAP-083', 'HPAP-084', 'HPAP-085', 'HPAP-088', 'HPAP-092', 'HPAP-099', 'HPAP-100', 'HPAP-101', 'HPAP-103', 'HPAP-104', 'HPAP-105', 'HPAP-106', 'HPAP-109')\n",
    "qcs <- list()\n",
    "for (sample in samples) {\n",
    "    wd <- sprintf('/nfs/lab/parulk/HPAP_scATAC/lfm1/')\n",
    "    qc <- read.table(file.path(wd, sprintf('%s.qc_metrics.txt', sample, sample)), sep='\\t', header=TRUE, stringsAsFactors=FALSE)\n",
    "    #qc <- qc[qc$is_cell==1,]\n",
    "    #qc$X <- paste0(sample, '_', qc$barcodes)\n",
    "    qcs[[sample]] <- qc\n",
    "}\n",
    "qc <- as.data.frame(rbindlist(qcs))\n",
    "qc$X <- paste0(qc$X, \"-1\")\n",
    "\n",
    "head(qc)\n",
    "rownames(qc) <- qc$X\n",
    "qc <- qc[Cells(atac_obj), 6:length(colnames(qc))]\n",
    "atac_obj <- AddMetaData(object=atac_obj, metadata=qc)\n",
    "qc <- qcs <- NULL\n",
    "gc()\n",
    "head(atac_obj)\n",
    "metadata <- atac_obj@meta.data\n",
    "head(atac_obj@meta.data)"
   ]
  },
  {
   "cell_type": "code",
   "execution_count": null,
   "id": "11e6fdc2",
   "metadata": {
    "scrolled": true
   },
   "outputs": [],
   "source": [
    "atac_obj"
   ]
  },
  {
   "cell_type": "code",
   "execution_count": null,
   "id": "fafd7619",
   "metadata": {
    "scrolled": true
   },
   "outputs": [],
   "source": [
    "metadata <- atac_obj@meta.data\n",
    "frac_reads_in_peaks <- atac_obj@meta.data$frac_reads_in_peaks\n",
    "quantile(frac_reads_in_peaks)\n",
    "ggplot(data=metadata, mapping = aes(x=frac_reads_in_peaks)) +  geom_density(alpha = 0.2, color=\"green\", fill=\"lightgreen\")  + \n",
    "theme_linedraw()"
   ]
  },
  {
   "cell_type": "code",
   "execution_count": null,
   "id": "5280ebf0",
   "metadata": {},
   "outputs": [],
   "source": [
    "frac_reads_in_promoters <- atac_obj@meta.data$frac_reads_in_promoters\n",
    "quantile(frac_reads_in_promoters)\n",
    "ggplot(data=metadata, mapping = aes(x=frac_reads_in_promoters)) +  geom_density(alpha = 0.2, fill= 'lightpink', color=\"pink\") +\n",
    "theme_linedraw()"
   ]
  },
  {
   "cell_type": "code",
   "execution_count": null,
   "id": "b4908375",
   "metadata": {
    "scrolled": false
   },
   "outputs": [],
   "source": [
    "TSS.enrichment <- atac_obj@meta.data$TSS.enrichment\n",
    "quantile(TSS.enrichment)\n",
    "ggplot(data=metadata, mapping = aes(x=TSS.enrichment)) +  geom_density(alpha = 0.2, color=\"blue\", fill=\"lightblue\") + \n",
    "theme_linedraw()\n",
    "atac_obj$high.tss <- ifelse(atac_obj$TSS.enrichment > 2, 'High', 'Low')\n",
    "TSSPlot(atac_obj, group.by = 'high.tss') + NoLegend()"
   ]
  },
  {
   "cell_type": "code",
   "execution_count": null,
   "id": "d30e04e2",
   "metadata": {
    "scrolled": true
   },
   "outputs": [],
   "source": [
    "ggplot(data=metadata, mapping = aes(x=nucleosome_signal)) +  geom_density(alpha = 0.2,color=\"yellow\", fill=\"yellow\") + \n",
    "theme_linedraw()\n",
    "atac_obj$nucleosome_group <- ifelse(atac_obj$nucleosome_signal > 4, 'NS > 4', 'NS < 4')\n",
    "FragmentHistogram(object = atac_obj, group.by = 'nucleosome_group')"
   ]
  },
  {
   "cell_type": "code",
   "execution_count": null,
   "id": "69aef77c",
   "metadata": {
    "scrolled": true
   },
   "outputs": [],
   "source": [
    "head(atac_obj)\n",
    "ggplot(data=metadata, mapping = aes(x=frac_mito_reads)) +  geom_density(alpha = 0.2, color=\"orange\", fill=\"orange\") + \n",
    "theme_linedraw() \n",
    "frac_mito_reads <- atac_obj@meta.data$frac_mito_reads\n",
    "quantile(frac_mito_reads)\n"
   ]
  },
  {
   "cell_type": "code",
   "execution_count": null,
   "id": "92d9d493",
   "metadata": {
    "scrolled": true
   },
   "outputs": [],
   "source": [
    "options(repr.plot.width=20, repr.plot.height=15)\n",
    "p1 <- VlnPlot(atac_obj, features='TSS.enrichment',  pt.size=0, log = TRUE, split.by = 'seurat_clusters' ) + geom_boxplot(width=.6, fill='white', alpha=.6) + geom_hline(yintercept=median(atac_obj$TSS.enrichment), linetype='dashed')#\n",
    "p2 <- VlnPlot(atac_obj, features='nucleosome_signal',  pt.size=0, log = TRUE, split.by = 'seurat_clusters' ) + geom_boxplot(width=.6, fill='white', alpha=.6) + geom_hline(yintercept=median(atac_obj$nucleosome_signal), linetype='dashed')#\n",
    "p3 <- VlnPlot(atac_obj, features='frac_reads_in_peaks',  pt.size=0,  split.by = 'seurat_clusters') + geom_boxplot(width=.6, fill='white', alpha=.6) + geom_hline(yintercept=median(atac_obj$frac_reads_in_peaks), linetype='dashed')#\n",
    "p4 <- VlnPlot(atac_obj, features='frac_reads_in_promoters',  pt.size=0, split.by = 'seurat_clusters') + geom_boxplot(width=.6, fill='white', alpha=.6) + geom_hline(yintercept=median(atac_obj$frac_reads_in_promoters), linetype='dashed')#\n",
    "p5 <- VlnPlot(atac_obj, features='frac_mito_reads',  pt.size=0, split.by = 'seurat_clusters') + geom_boxplot(width=.6, fill='white', alpha=.6) + geom_hline(yintercept=median(atac_obj$frac_mito_reads), linetype='dashed')#\n",
    "\n",
    "p1/p2/p3/p4/p5"
   ]
  },
  {
   "cell_type": "code",
   "execution_count": null,
   "id": "6fe451b5",
   "metadata": {},
   "outputs": [],
   "source": [
    "atac_obj@reductions"
   ]
  },
  {
   "cell_type": "code",
   "execution_count": null,
   "id": "323f2a0f",
   "metadata": {
    "scrolled": false
   },
   "outputs": [],
   "source": [
    "atac_obj"
   ]
  },
  {
   "cell_type": "code",
   "execution_count": null,
   "id": "20a4ef99",
   "metadata": {},
   "outputs": [],
   "source": [
    "saveRDS(atac_obj,'/nfs/lab/parulk/HPAP_scATAC/peak_based_metadata_geneactivity_TSS_added.rds')"
   ]
  },
  {
   "cell_type": "code",
   "execution_count": null,
   "id": "f22d42a9",
   "metadata": {},
   "outputs": [],
   "source": [
    "atac_obj <- readRDS('/nfs/lab/parulk/HPAP_scATAC/peak_based_metadata_geneactivity_TSS_added.rds')"
   ]
  },
  {
   "cell_type": "code",
   "execution_count": null,
   "id": "2ca5a393",
   "metadata": {},
   "outputs": [],
   "source": [
    "names(atac_obj@graphs)"
   ]
  },
  {
   "cell_type": "code",
   "execution_count": null,
   "id": "05e6a634",
   "metadata": {
    "scrolled": true
   },
   "outputs": [],
   "source": [
    "table(atac_obj[[]]$library)"
   ]
  },
  {
   "cell_type": "code",
   "execution_count": null,
   "id": "16eb9e8f",
   "metadata": {},
   "outputs": [],
   "source": [
    "table(Idents(atac_obj))"
   ]
  },
  {
   "cell_type": "code",
   "execution_count": null,
   "id": "9dfa6879",
   "metadata": {},
   "outputs": [],
   "source": [
    "# Load markers list\n",
    "project.dir = \"/nfs/lab/parulk/HPAP_scATAC/\"\n",
    "cell.markers = read.table(\"/nfs/lab/parulk/HPAP_scATAC/Cell.markers.txt\", sep = ',', header = TRUE)\n",
    "# Make it long, remove useless column and void markers\n",
    "cell.markers <- cell.markers %>% gather(Key, marker, c(3:ncol(cell.markers)))\n",
    "cell.markers = cell.markers[,-3]\n",
    "cell.markers = cell.markers[cell.markers$marker != \"\", ]\n",
    "head(cell.markers)\n",
    "# Factorize columns\n",
    "cell.markersCompartment <- cell.markers$cell.markersCompartment\n",
    "cell.markersCellType <- cell.markers$cell.markersCellType\n",
    "cell.markersCompartment = factor(cell.markersCompartment, levels = c(\"Endocrine cells\", \"Non-endocrine cells\"))\n",
    "cell.markersCellType = factor(cell.markersCellType, levels = c(\"Beta\", \"Alpha\", \"Delta\", \"Gamma\", \"Epsilon\", \"Ductal\", \"MUC5B Ductal\", \"Acinar\", \"Stellate\", \"Act. Stellate\", \"Q. Stellate\", \"Endothelial\", \"T Cell\", \"Schwann\", \"Macrophages\", \"Dividing Cells\"))"
   ]
  },
  {
   "cell_type": "code",
   "execution_count": null,
   "id": "9a37e004",
   "metadata": {},
   "outputs": [],
   "source": [
    "g = DotPlot(atac_obj, assay='RNA', features=cell.markers$marker, cluster.idents=TRUE, col.min=0) +\n",
    "        theme(axis.text.x=element_text(angle=45, hjust=1)) + xlab('') + ylab('')\n",
    "    meta_summary = g$data\n",
    "    colnames(meta_summary)[3] = \"marker\"\n",
    "    meta_summary = merge(meta_summary, cell.markers, by = \"marker\")\n",
    "\n",
    "    options(repr.plot.width=25, repr.plot.height=10)\n",
    "    figure <- ggplot(meta_summary, aes(x = marker, y = id)) +\n",
    "      geom_point(aes(size = pct.exp, fill = avg.exp.scaled, stroke=NA),\n",
    "                 shape = 21) +\n",
    "      scale_size(\"% detected\", range = c(0, 6)) +\n",
    "      scale_fill_gradient(low = \"lightgray\", high = \"blue\",\n",
    "                           guide = guide_colorbar(nbin = 200,\n",
    "                                                  ticks.colour = \"black\", frame.colour = \"black\"),\n",
    "                           name = \"Average\\nexpression\") +\n",
    "      ylab(\"Cluster\") + xlab(\"\") +\n",
    "      theme_bw() +\n",
    "      theme(axis.text = element_text(size = 100),\n",
    "            axis.text.x = element_text(size = 10, angle = 45, hjust = 1, color = \"black\"),\n",
    "            strip.text.x = element_text(size = 10),\n",
    "            axis.text.y = element_text(size = 12, color = \"black\"),\n",
    "            axis.title = element_text(size = 14)) +\n",
    "facet_nested(~ Compartment + CellType, scales = \"free\")\n",
    "\n",
    "figure"
   ]
  },
  {
   "cell_type": "code",
   "execution_count": null,
   "id": "63d00005",
   "metadata": {},
   "outputs": [],
   "source": [
    "options(repr.plot.width=8, repr.plot.height=10)\n",
    "sample.abundance = as.data.frame(table(atac_obj$seurat_clusters, atac_obj$library))\n",
    "colnames(sample.abundance) = c(\"cluster\", \"sample\", \"Freq\")\n",
    "ggplot(sample.abundance, aes(fill = sample, y = Freq, x = cluster)) +\n",
    "  theme_bw() +\n",
    "  coord_flip() +\n",
    "  geom_bar(position = position_fill(reverse = TRUE), stat = 'identity', color = 'black', size = 0.2) +\n",
    "  xlab('') + ylab('percentage')"
   ]
  },
  {
   "cell_type": "code",
   "execution_count": null,
   "id": "b39f8a6f",
   "metadata": {},
   "outputs": [],
   "source": [
    "# Visualize integration\n",
    "gg1 = DimPlot(atac_obj, group.by = \"library\", label = FALSE, pt.size = .7)\n",
    "gg2 = DimPlot(atac_obj, group.by = \"condition\", label = FALSE, pt.size = .7)\n",
    "gg3 = DimPlot(atac_obj, group.by = \"sex\", label = FALSE, pt.size = .7)"
   ]
  },
  {
   "cell_type": "code",
   "execution_count": null,
   "id": "78c4bb6c",
   "metadata": {
    "scrolled": true
   },
   "outputs": [],
   "source": [
    "options(repr.plot.height = 20, repr.plot.width = 40)\n",
    "combined_plot <- gg1 + gg2 + gg3\n",
    "combined_plot"
   ]
  },
  {
   "cell_type": "code",
   "execution_count": null,
   "id": "b938a56e",
   "metadata": {},
   "outputs": [],
   "source": [
    "covariant.ls = c(\"library\", \"sex\", \"condition\")"
   ]
  },
  {
   "cell_type": "code",
   "execution_count": null,
   "id": "1e4de35a",
   "metadata": {},
   "outputs": [],
   "source": [
    "gg.ls = list()\n",
    "\n",
    "# Library\n",
    "    i = 1\n",
    "    covariant = covariant.ls[i]\n",
    "    Covariant.table = as.data.frame(table(atac_obj$seurat_clusters, atac_obj$library))\n",
    "    colnames(Covariant.table) = c(\"cluster\", \"covariant\", \"Freq\")\n",
    "    gg.ls[[i]] = ggplot(Covariant.table, aes(fill = covariant, y = Freq, x = cluster)) +\n",
    "      theme_bw() +\n",
    "      coord_flip() +\n",
    "      geom_bar(position = position_fill(reverse = TRUE), stat = 'identity', color = 'black', size = 0.2) +\n",
    "      labs(y= \"\\n Percentage\", x = \"\", title = covariant) + \n",
    "      theme(axis.text = element_text(size = 12), axis.title = element_text(size = 12, face = \"bold\"),\n",
    "                      axis.text.x = element_text(angle = 90),\n",
    "                                 plot.title = element_text(size = 18, face = \"bold\", , hjust = 0.5))\n",
    "\n",
    "# Sex\n",
    "    i = 2\n",
    "    covariant = covariant.ls[i]\n",
    "    Covariant.table = as.data.frame(table(atac_obj$seurat_clusters, atac_obj$sex))\n",
    "    colnames(Covariant.table) = c(\"cluster\", \"covariant\", \"Freq\")\n",
    "    gg.ls[[i]] = ggplot(Covariant.table, aes(fill = covariant, y = Freq, x = cluster)) +\n",
    "      theme_bw() +\n",
    "      coord_flip() +\n",
    "      geom_bar(position = position_fill(reverse = TRUE), stat = 'identity', color = 'black', size = 0.2) +\n",
    "      labs(y= \"\\n Percentage\", x = \"\", title = covariant) + \n",
    "      theme(axis.text = element_text(size = 12), axis.title = element_text(size = 12, face = \"bold\"),\n",
    "                      axis.text.x = element_text(angle = 90),\n",
    "                                 plot.title = element_text(size = 18, face = \"bold\", , hjust = 0.5))\n",
    "\n",
    "# Condition\n",
    "    i = 3\n",
    "    covariant = covariant.ls[i]\n",
    "    Covariant.table = as.data.frame(table(atac_obj$seurat_clusters, atac_obj$condition))\n",
    "    colnames(Covariant.table) = c(\"cluster\", \"covariant\", \"Freq\")\n",
    "    gg.ls[[i]] = ggplot(Covariant.table, aes(fill = covariant, y = Freq, x = cluster)) +\n",
    "      theme_bw() +\n",
    "      coord_flip() +\n",
    "      geom_bar(position = position_fill(reverse = TRUE), stat = 'identity', color = 'black', size = 0.2) +\n",
    "      labs(y= \"\\n Percentage\", x = \"\", title = covariant) + \n",
    "      theme(axis.text = element_text(size = 12), axis.title = element_text(size = 12, face = \"bold\"),\n",
    "                      axis.text.x = element_text(angle = 90),\n",
    "                                 plot.title = element_text(size = 18, face = \"bold\", , hjust = 0.5))"
   ]
  },
  {
   "cell_type": "code",
   "execution_count": null,
   "id": "22a63958",
   "metadata": {},
   "outputs": [],
   "source": [
    "options(repr.plot.height = 20, repr.plot.width = 40)\n",
    "cp <- gg.ls[[1]] + gg.ls[[2]] + gg.ls[[3]]\n",
    "cp"
   ]
  },
  {
   "cell_type": "code",
   "execution_count": null,
   "id": "0db2c0c9",
   "metadata": {},
   "outputs": [],
   "source": [
    "cell.sample = as.data.frame(table(atac_obj$library))\n",
    "colnames(cell.sample)[1] = \"sample.ID\""
   ]
  },
  {
   "cell_type": "code",
   "execution_count": null,
   "id": "e771ef0a",
   "metadata": {},
   "outputs": [],
   "source": [
    "options(repr.plot.width=15, repr.plot.height=15)\n",
    "\n",
    "width = 0.8\n",
    "position = position_dodge(width = width)\n",
    "gg1 = ggplot(cell.sample, aes(x= sample.ID, y = Freq, label = Freq)) + \n",
    "            theme_bw () +\n",
    "            labs(y= \"\", x = \"\", title = paste(\"Final Cells: \", length(colnames(atac_obj[[\"RNA\"]])))) +\n",
    "            geom_bar(stat=\"identity\", \n",
    "                     position = position, width = width,\n",
    "                     colour=\"black\") +\n",
    "            ylim(0, 20000)+\n",
    "            theme(axis.text = element_text(size = 12), axis.title = element_text(size = 12, face = \"bold\"),\n",
    "                  axis.text.x = element_text(angle = 90),\n",
    "                             plot.title = element_text(size = 18, face = \"bold\", , hjust = 0.5))+\n",
    "            geom_text(hjust = -0.3, size = 2.9, position = position_dodge(width = width))+\n",
    "            coord_flip()\n",
    "gg1"
   ]
  },
  {
   "cell_type": "code",
   "execution_count": null,
   "id": "1f9f5979",
   "metadata": {},
   "outputs": [],
   "source": []
  },
  {
   "cell_type": "code",
   "execution_count": null,
   "id": "cdfea63e",
   "metadata": {},
   "outputs": [],
   "source": [
    "gc(reset = TRUE)\n",
    "\n",
    "# Subcluster cluster 16\n",
    "atac_obj_16_subcluster <- FindSubCluster(atac_obj, \n",
    "                                 cluster=16,\n",
    "                                 resolution = 0.25,\n",
    "                                 algorithm = 4,\n",
    "                                 graph.name = 'ATAC_peaks_snn')\n",
    "# Subset the tmp obj 4 visualization\n",
    "atac_obj_16_subcluster <- subset(atac_obj_16_subcluster, subset=seurat_clusters == 16)\n",
    "    "
   ]
  },
  {
   "cell_type": "code",
   "execution_count": null,
   "id": "044fd999",
   "metadata": {},
   "outputs": [],
   "source": [
    "cell.cluster = as.data.frame(table(atac_obj_16_subcluster$sub.cluster))\n",
    "colnames(cell.cluster)[1] = \"sub.cluster\"\n",
    "cell.cluster$sub.cluster = factor(cell.cluster$sub.cluster)\n",
    "\n",
    "width = 0.8\n",
    "position = position_dodge(width = width)\n",
    "gg0 = ggplot(cell.cluster, aes(x= sub.cluster, y = Freq, label = Freq)) + \n",
    "            theme_bw () +\n",
    "            labs(y= \"\", x = \"\", title = paste(\"Total Cells: \", length(colnames(atac_obj_16_subcluster[[\"RNA\"]])))) +\n",
    "            geom_bar(stat=\"identity\", \n",
    "                     position = position, width = width,\n",
    "                     colour=\"black\") +\n",
    "            theme(axis.text = element_text(size = 12), axis.title = element_text(size = 12, face = \"bold\"),\n",
    "                  axis.text.x = element_text(angle = 90),\n",
    "                             plot.title = element_text(size = 18, face = \"bold\", , hjust = 0.5))\n",
    "     \n"
   ]
  },
  {
   "cell_type": "code",
   "execution_count": null,
   "id": "410cdb5b",
   "metadata": {},
   "outputs": [],
   "source": [
    "# Install and load the cowplot package\n",
    "install.packages(\"cowplot\")\n",
    "library(cowplot)"
   ]
  },
  {
   "cell_type": "code",
   "execution_count": null,
   "id": "601ed972",
   "metadata": {},
   "outputs": [],
   "source": [
    "options(repr.plot.height = 10, repr.plot.width = 14)\n",
    "gg1 = DimPlot(atac_obj_16_subcluster,  group.by='sub.cluster', \n",
    "              label = TRUE, pt.size = .2)\n",
    "    p1 <- VlnPlot(atac_obj_16_subcluster, features='frac_reads_in_peaks', group.by='sub.cluster', pt.size=0, log=TRUE) + geom_boxplot(width=.6, fill='white', alpha=.6, pt.size=0) + geom_hline(yintercept=median(atac_obj_16_subcluster$frac_reads_in_peaks), linetype='dashed', lw=2) + \n",
    "      theme(plot.title = element_text(size = 25), axis.text = element_text(size=20))\n",
    "    p2 <- VlnPlot(atac_obj_16_subcluster, features='frac_reads_in_promoters', group.by='sub.cluster', pt.size=0, log=TRUE) + geom_boxplot(width=.6, fill='white', alpha=.6, pt.size=0) + geom_hline(yintercept=median(atac_obj_16_subcluster$frac_reads_in_promoters), linetype='dashed', lw=2) + \n",
    "      theme(plot.title = element_text(size = 25), axis.text = element_text(size=20))\n",
    "    p3 <- VlnPlot(atac_obj_16_subcluster, features='TSS.enrichment', group.by='sub.cluster', pt.size=0, log=TRUE) + geom_boxplot(width=.6, fill='white', alpha=.6, pt.size=0) + geom_hline(yintercept=median(atac_obj_16_subcluster$TSS.enrichment), linetype='dashed', lw=2) + \n",
    "      theme(plot.title = element_text(size = 25), axis.text = element_text(size=20))\n",
    "    p4 <- VlnPlot(atac_obj_16_subcluster, features='nucleosome_signal', group.by='sub.cluster', pt.size=0, log=TRUE) + geom_boxplot(width=.6, fill='white', alpha=.6, pt.size=0) + geom_hline(yintercept=median(atac_obj_16_subcluster$nucleosome_signal), linetype='dashed', lw=2) + \n",
    "      theme(plot.title = element_text(size = 25), axis.text = element_text(size=20))\n",
    "    p5 = gg0\n",
    "   combined_plot <- plot_grid(gg1, p5, ncol = 2)\n",
    "\n",
    "   combined_plot "
   ]
  },
  {
   "cell_type": "code",
   "execution_count": null,
   "id": "ec8c53c6",
   "metadata": {},
   "outputs": [],
   "source": [
    "g = DotPlot(atac_obj_16_subcluster, assay='RNA', group.by = \"sub.cluster\",\n",
    "            features=cell.markers$marker, cluster.idents=TRUE, col.min=0) +\n",
    "        theme(axis.text.x=element_text(angle=45, hjust=1)) + xlab('') + ylab('')\n",
    "    meta_summary = g$data\n",
    "    colnames(meta_summary)[3] = \"marker\"\n",
    "    meta_summary = merge(meta_summary, cell.markers, by = \"marker\")\n",
    "\n",
    "    gg2 <- ggplot(meta_summary, aes(x = marker, reorder(id, -id)))+\n",
    "      geom_point(aes(size = pct.exp, fill = avg.exp.scaled, stroke=NA),\n",
    "                 shape = 21) +\n",
    "      scale_size(\"% detected\", range = c(0, 6)) +\n",
    "      scale_fill_gradient(low = \"lightgray\", high = \"blue\",\n",
    "                           guide = guide_colorbar(nbin = 200,\n",
    "                                                  ticks.colour = \"black\", frame.colour = \"black\"),\n",
    "                           name = \"Average\\nexpression\") +\n",
    "    labs(y= \"Cluster_ID \\n\", x = \"\", title = \"Markers's plot\") + \n",
    "      theme_bw() +\n",
    "      theme(axis.text = element_text(size = 100),\n",
    "            axis.text.x = element_text(size = 10, angle = 45, hjust = 1, color = \"black\"),\n",
    "            strip.text.x = element_text(size = 10),\n",
    "            axis.text.y = element_text(size = 12, color = \"black\"),\n",
    "            axis.title = element_text(size = 14)) +\n",
    "      facet_nested(~ Compartment + CellType, scales = \"free\")    "
   ]
  },
  {
   "cell_type": "code",
   "execution_count": null,
   "id": "3f41e142",
   "metadata": {},
   "outputs": [],
   "source": [
    "# Library\n",
    "    Covariant.table = as.data.frame(table(atac_obj_16_subcluster$sub.cluster, atac_obj_16_subcluster$library))\n",
    "    colnames(Covariant.table) = c(\"cluster\", \"covariant\", \"Freq\")\n",
    "    gg3 = ggplot(Covariant.table, aes(fill = covariant, y = Freq, x = cluster)) +\n",
    "      theme_bw() +\n",
    "      coord_flip() +\n",
    "      geom_bar(position = position_fill(reverse = TRUE), stat = 'identity', color = 'black', size = 0.2) +\n",
    "      labs(y= \"\\n Percentage\", x = \"\", title = \"Library\") + \n",
    "      theme(axis.text = element_text(size = 12), axis.title = element_text(size = 12, face = \"bold\"),\n",
    "                      axis.text.x = element_text(angle = 90),\n",
    "                                 plot.title = element_text(size = 18, face = \"bold\", , hjust = 0.5))"
   ]
  },
  {
   "cell_type": "code",
   "execution_count": null,
   "id": "26f86cf1",
   "metadata": {},
   "outputs": [],
   "source": [
    "# Condition\n",
    "    Covariant.table = as.data.frame(table(atac_obj_16_subcluster$sub.cluster, atac_obj_16_subcluster$condition))\n",
    "    colnames(Covariant.table) = c(\"cluster\", \"covariant\", \"Freq\")\n",
    "    gg4 = ggplot(Covariant.table, aes(fill = covariant, y = Freq, x = cluster)) +\n",
    "      theme_bw() +\n",
    "      coord_flip() +\n",
    "      geom_bar(position = position_fill(reverse = TRUE), stat = 'identity', color = 'black', size = 0.2) +\n",
    "      labs(y= \"\\n Percentage\", x = \"\", title = \"Condition\") + \n",
    "      theme(axis.text = element_text(size = 12), axis.title = element_text(size = 12, face = \"bold\"),\n",
    "                      axis.text.x = element_text(angle = 90),\n",
    "                                 plot.title = element_text(size = 18, face = \"bold\", , hjust = 0.5))"
   ]
  },
  {
   "cell_type": "code",
   "execution_count": null,
   "id": "d48ec466",
   "metadata": {
    "scrolled": true
   },
   "outputs": [],
   "source": [
    " combined_plot <- plot_grid(gg2, gg3, gg4, ncol = 1)\n",
    "\n",
    "   combined_plot "
   ]
  },
  {
   "cell_type": "code",
   "execution_count": null,
   "id": "7164cb06",
   "metadata": {
    "scrolled": true
   },
   "outputs": [],
   "source": [
    "gc(reset = TRUE)\n",
    "\n",
    "# Subcluster 28\n",
    "atac_obj_28_subcluster <- FindSubCluster(atac_obj, \n",
    "                                 cluster=28,\n",
    "                                 resolution = 0.25,\n",
    "                                 algorithm = 4,\n",
    "                                 graph.name = 'ATAC_peaks_snn')\n",
    "# Subset the tmp obj 4 visualization\n",
    "atac_obj_28_subcluster <- subset(atac_obj_28_subcluster, subset=seurat_clusters == 28)\n",
    "    "
   ]
  },
  {
   "cell_type": "code",
   "execution_count": null,
   "id": "da7c5cb8",
   "metadata": {},
   "outputs": [],
   "source": [
    "cell.cluster = as.data.frame(table(atac_obj_28_subcluster$sub.cluster))\n",
    "colnames(cell.cluster)[1] = \"sub.cluster\"\n",
    "cell.cluster$sub.cluster = factor(cell.cluster$sub.cluster)\n",
    "\n",
    "width = 0.8\n",
    "position = position_dodge(width = width)\n",
    "gg0 = ggplot(cell.cluster, aes(x= sub.cluster, y = Freq, label = Freq)) + \n",
    "            theme_bw () +\n",
    "            labs(y= \"\", x = \"\", title = paste(\"Total Cells: \", length(colnames(atac_obj_28_subcluster[[\"RNA\"]])))) +\n",
    "            geom_bar(stat=\"identity\", \n",
    "                     position = position, width = width,\n",
    "                     colour=\"black\") +\n",
    "            theme(axis.text = element_text(size = 12), axis.title = element_text(size = 12, face = \"bold\"),\n",
    "                  axis.text.x = element_text(angle = 90),\n",
    "                             plot.title = element_text(size = 18, face = \"bold\", , hjust = 0.5))"
   ]
  },
  {
   "cell_type": "code",
   "execution_count": null,
   "id": "043d3582",
   "metadata": {},
   "outputs": [],
   "source": [
    "options(repr.plot.height = 10, repr.plot.width = 14)\n",
    "gg1 = DimPlot(atac_obj_28_subcluster,  group.by='sub.cluster', \n",
    "              label = TRUE, pt.size = .2)\n",
    "combined_plot <- plot_grid(gg1, gg0, ncol = 2)\n",
    "\n",
    "   combined_plot"
   ]
  },
  {
   "cell_type": "code",
   "execution_count": null,
   "id": "c6910a77",
   "metadata": {},
   "outputs": [],
   "source": [
    "g = DotPlot(atac_obj_28_subcluster, assay='RNA', group.by = \"sub.cluster\",\n",
    "            features=cell.markers$marker, cluster.idents=TRUE, col.min=0) +\n",
    "        theme(axis.text.x=element_text(angle=45, hjust=1)) + xlab('') + ylab('')\n",
    "    meta_summary = g$data\n",
    "    colnames(meta_summary)[3] = \"marker\"\n",
    "    meta_summary = merge(meta_summary, cell.markers, by = \"marker\")\n",
    "\n",
    "    gg2 <- ggplot(meta_summary, aes(x = marker, reorder(id, -id)))+\n",
    "      geom_point(aes(size = pct.exp, fill = avg.exp.scaled, stroke=NA),\n",
    "                 shape = 21) +\n",
    "      scale_size(\"% detected\", range = c(0, 6)) +\n",
    "      scale_fill_gradient(low = \"lightgray\", high = \"blue\",\n",
    "                           guide = guide_colorbar(nbin = 200,\n",
    "                                                  ticks.colour = \"black\", frame.colour = \"black\"),\n",
    "                           name = \"Average\\nexpression\") +\n",
    "    labs(y= \"Cluster_ID \\n\", x = \"\", title = \"Markers's plot\") + \n",
    "      theme_bw() +\n",
    "      theme(axis.text = element_text(size = 100),\n",
    "            axis.text.x = element_text(size = 10, angle = 45, hjust = 1, color = \"black\"),\n",
    "            strip.text.x = element_text(size = 10),\n",
    "            axis.text.y = element_text(size = 12, color = \"black\"),\n",
    "            axis.title = element_text(size = 14)) +\n",
    "      facet_nested(~ Compartment + CellType, scales = \"free\")    "
   ]
  },
  {
   "cell_type": "code",
   "execution_count": null,
   "id": "b3f665d1",
   "metadata": {},
   "outputs": [],
   "source": [
    "# Library\n",
    "    Covariant.table = as.data.frame(table(atac_obj_28_subcluster$sub.cluster, atac_obj_28_subcluster$library))\n",
    "    colnames(Covariant.table) = c(\"cluster\", \"covariant\", \"Freq\")\n",
    "    gg3 = ggplot(Covariant.table, aes(fill = covariant, y = Freq, x = cluster)) +\n",
    "      theme_bw() +\n",
    "      coord_flip() +\n",
    "      geom_bar(position = position_fill(reverse = TRUE), stat = 'identity', color = 'black', size = 0.2) +\n",
    "      labs(y= \"\\n Percentage\", x = \"\", title = \"Library\") + \n",
    "      theme(axis.text = element_text(size = 12), axis.title = element_text(size = 12, face = \"bold\"),\n",
    "                      axis.text.x = element_text(angle = 90),\n",
    "                                 plot.title = element_text(size = 18, face = \"bold\", , hjust = 0.5))"
   ]
  },
  {
   "cell_type": "code",
   "execution_count": null,
   "id": "cc27027c",
   "metadata": {},
   "outputs": [],
   "source": []
  },
  {
   "cell_type": "code",
   "execution_count": null,
   "id": "2760e831",
   "metadata": {},
   "outputs": [],
   "source": [
    "# Condition\n",
    "    Covariant.table = as.data.frame(table(atac_obj_28_subcluster$sub.cluster, atac_obj_28_subcluster$condition))\n",
    "    colnames(Covariant.table) = c(\"cluster\", \"covariant\", \"Freq\")\n",
    "    gg4 = ggplot(Covariant.table, aes(fill = covariant, y = Freq, x = cluster)) +\n",
    "      theme_bw() +\n",
    "      coord_flip() +\n",
    "      geom_bar(position = position_fill(reverse = TRUE), stat = 'identity', color = 'black', size = 0.2) +\n",
    "      labs(y= \"\\n Percentage\", x = \"\", title = \"Condition\") + \n",
    "      theme(axis.text = element_text(size = 12), axis.title = element_text(size = 12, face = \"bold\"),\n",
    "                      axis.text.x = element_text(angle = 90),\n",
    "                                 plot.title = element_text(size = 18, face = \"bold\", , hjust = 0.5))"
   ]
  },
  {
   "cell_type": "code",
   "execution_count": null,
   "id": "492ba641",
   "metadata": {},
   "outputs": [],
   "source": [
    " combined_plot <- plot_grid(gg2, gg3, gg4, ncol = 1)\n",
    "\n",
    "   combined_plot"
   ]
  },
  {
   "cell_type": "code",
   "execution_count": null,
   "id": "b41e72e2",
   "metadata": {},
   "outputs": [],
   "source": [
    "gc(reset = TRUE)\n",
    "\n",
    "# Subcluster immune\n",
    "atac_obj_27_1_subcluster <- FindSubCluster(atac_obj, \n",
    "                                 cluster=27,\n",
    "                                 resolution = 0.25,\n",
    "                                 algorithm = 4,\n",
    "                                 graph.name = 'ATAC_peaks_snn')\n",
    "# Subset the tmp obj 4 visualization\n",
    "atac_obj_27_1_subcluster <- subset(atac_obj_27_1_subcluster, subset=seurat_clusters == 27)\n",
    "    "
   ]
  },
  {
   "cell_type": "code",
   "execution_count": null,
   "id": "23b811a1",
   "metadata": {},
   "outputs": [],
   "source": [
    "cell.cluster = as.data.frame(table(atac_obj_27_1_subcluster$sub.cluster))\n",
    "colnames(cell.cluster)[1] = \"sub.cluster\"\n",
    "cell.cluster$sub.cluster = factor(cell.cluster$sub.cluster)\n",
    "\n",
    "width = 0.8\n",
    "position = position_dodge(width = width)\n",
    "gg0 = ggplot(cell.cluster, aes(x= sub.cluster, y = Freq, label = Freq)) + \n",
    "            theme_bw () +\n",
    "            labs(y= \"\", x = \"\", title = paste(\"Total Cells: \", length(colnames(atac_obj_27_1_subcluster[[\"RNA\"]])))) +\n",
    "            geom_bar(stat=\"identity\", \n",
    "                     position = position, width = width,\n",
    "                     colour=\"black\") +\n",
    "            theme(axis.text = element_text(size = 12), axis.title = element_text(size = 12, face = \"bold\"),\n",
    "                  axis.text.x = element_text(angle = 90),\n",
    "                             plot.title = element_text(size = 18, face = \"bold\", , hjust = 0.5))\n",
    "options(repr.plot.height = 10, repr.plot.width = 14)\n",
    "gg1 = DimPlot(atac_obj_27_1_subcluster,  group.by='sub.cluster', \n",
    "              label = TRUE, pt.size = .8)\n",
    "combined_plot <- plot_grid(gg1, gg0, ncol = 2)\n",
    "\n",
    "   combined_plot"
   ]
  },
  {
   "cell_type": "code",
   "execution_count": null,
   "id": "a08d7f02",
   "metadata": {
    "scrolled": true
   },
   "outputs": [],
   "source": [
    "g = DotPlot(atac_obj_27_1_subcluster, assay='RNA', group.by = \"sub.cluster\",\n",
    "            features=cell.markers$marker, cluster.idents=TRUE, col.min=0) +\n",
    "        theme(axis.text.x=element_text(angle=45, hjust=1)) + xlab('') + ylab('')\n",
    "    meta_summary = g$data\n",
    "    colnames(meta_summary)[3] = \"marker\"\n",
    "    meta_summary = merge(meta_summary, cell.markers, by = \"marker\")\n",
    "\n",
    "    gg2 <- ggplot(meta_summary, aes(x = marker, reorder(id, -id)))+\n",
    "      geom_point(aes(size = pct.exp, fill = avg.exp.scaled, stroke=NA),\n",
    "                 shape = 21) +\n",
    "      scale_size(\"% detected\", range = c(0, 6)) +\n",
    "      scale_fill_gradient(low = \"lightgray\", high = \"blue\",\n",
    "                           guide = guide_colorbar(nbin = 200,\n",
    "                                                  ticks.colour = \"black\", frame.colour = \"black\"),\n",
    "                           name = \"Average\\nexpression\") +\n",
    "    labs(y= \"Cluster_ID \\n\", x = \"\", title = \"Markers's plot\") + \n",
    "      theme_bw() +\n",
    "      theme(axis.text = element_text(size = 100),\n",
    "            axis.text.x = element_text(size = 10, angle = 45, hjust = 1, color = \"black\"),\n",
    "            strip.text.x = element_text(size = 10),\n",
    "            axis.text.y = element_text(size = 12, color = \"black\"),\n",
    "            axis.title = element_text(size = 14)) +\n",
    "      facet_nested(~ Compartment + CellType, scales = \"free\")\n",
    "# Library\n",
    "    Covariant.table = as.data.frame(table(atac_obj_27_1_subcluster$sub.cluster, atac_obj_27_1_subcluster$library))\n",
    "    colnames(Covariant.table) = c(\"cluster\", \"covariant\", \"Freq\")\n",
    "    gg3 = ggplot(Covariant.table, aes(fill = covariant, y = Freq, x = cluster)) +\n",
    "      theme_bw() +\n",
    "      coord_flip() +\n",
    "      geom_bar(position = position_fill(reverse = TRUE), stat = 'identity', color = 'black', size = 0.2) +\n",
    "      labs(y= \"\\n Percentage\", x = \"\", title = \"library\") + \n",
    "      theme(axis.text = element_text(size = 12), axis.title = element_text(size = 12, face = \"bold\"),\n",
    "                      axis.text.x = element_text(angle = 90),\n",
    "                                 plot.title = element_text(size = 18, face = \"bold\", , hjust = 0.5))\n",
    "# Condition\n",
    "    Covariant.table = as.data.frame(table(atac_obj_27_1_subcluster$sub.cluster, atac_obj_27_1_subcluster$condition))\n",
    "    colnames(Covariant.table) = c(\"cluster\", \"covariant\", \"Freq\")\n",
    "    gg4 = ggplot(Covariant.table, aes(fill = covariant, y = Freq, x = cluster)) +\n",
    "      theme_bw() +\n",
    "      coord_flip() +\n",
    "      geom_bar(position = position_fill(reverse = TRUE), stat = 'identity', color = 'black', size = 0.2) +\n",
    "      labs(y= \"\\n Percentage\", x = \"\", title = \"Condition\") + \n",
    "      theme(axis.text = element_text(size = 12), axis.title = element_text(size = 12, face = \"bold\"),\n",
    "                      axis.text.x = element_text(angle = 90),\n",
    "                                 plot.title = element_text(size = 18, face = \"bold\", , hjust = 0.5))\n",
    " combined_plot <- plot_grid(gg2, gg3, gg4, ncol = 1)\n",
    "\n",
    "   combined_plot"
   ]
  },
  {
   "cell_type": "code",
   "execution_count": null,
   "id": "68021498",
   "metadata": {},
   "outputs": [],
   "source": [
    "gc(reset = TRUE)\n",
    "\n",
    "# Subcluster\n",
    "atac_obj_29_subcluster <- FindSubCluster(atac_obj, \n",
    "                                 cluster=29,\n",
    "                                 resolution = 0.25,\n",
    "                                 algorithm = 4,\n",
    "                                 graph.name = 'ATAC_peaks_snn')\n",
    "# Subset the tmp obj 4 visualization\n",
    "atac_obj_29_subcluster <- subset(atac_obj_29_subcluster, subset=seurat_clusters == 29)\n",
    "    "
   ]
  },
  {
   "cell_type": "code",
   "execution_count": null,
   "id": "a31acd77",
   "metadata": {},
   "outputs": [],
   "source": [
    "cell.cluster = as.data.frame(table(atac_obj_29_subcluster$sub.cluster))\n",
    "colnames(cell.cluster)[1] = \"sub.cluster\"\n",
    "cell.cluster$sub.cluster = factor(cell.cluster$sub.cluster)\n",
    "\n",
    "width = 0.8\n",
    "position = position_dodge(width = width)\n",
    "gg0 = ggplot(cell.cluster, aes(x= sub.cluster, y = Freq, label = Freq)) + \n",
    "            theme_bw () +\n",
    "            labs(y= \"\", x = \"\", title = paste(\"Total Cells: \", length(colnames(atac_obj_29_subcluster[[\"RNA\"]])))) +\n",
    "            geom_bar(stat=\"identity\", \n",
    "                     position = position, width = width,\n",
    "                     colour=\"black\") +\n",
    "            theme(axis.text = element_text(size = 12), axis.title = element_text(size = 12, face = \"bold\"),\n",
    "                  axis.text.x = element_text(angle = 90),\n",
    "                             plot.title = element_text(size = 18, face = \"bold\", , hjust = 0.5))\n",
    "options(repr.plot.height = 10, repr.plot.width = 14)\n",
    "gg1 = DimPlot(atac_obj_29_subcluster,  group.by='sub.cluster', \n",
    "              label = TRUE, pt.size = .2)\n",
    "combined_plot <- plot_grid(gg1, gg0, ncol = 2)\n",
    "\n",
    "   combined_plot"
   ]
  },
  {
   "cell_type": "code",
   "execution_count": null,
   "id": "cb49c967",
   "metadata": {},
   "outputs": [],
   "source": [
    "g = DotPlot(atac_obj_29_subcluster, assay='RNA', group.by = \"sub.cluster\",\n",
    "            features=cell.markers$marker, cluster.idents=TRUE, col.min=0) +\n",
    "        theme(axis.text.x=element_text(angle=45, hjust=1)) + xlab('') + ylab('')\n",
    "    meta_summary = g$data\n",
    "    colnames(meta_summary)[3] = \"marker\"\n",
    "    meta_summary = merge(meta_summary, cell.markers, by = \"marker\")\n",
    "\n",
    "    gg2 <- ggplot(meta_summary, aes(x = marker, reorder(id, -id)))+\n",
    "      geom_point(aes(size = pct.exp, fill = avg.exp.scaled, stroke=NA),\n",
    "                 shape = 21) +\n",
    "      scale_size(\"% detected\", range = c(0, 6)) +\n",
    "      scale_fill_gradient(low = \"lightgray\", high = \"blue\",\n",
    "                           guide = guide_colorbar(nbin = 200,\n",
    "                                                  ticks.colour = \"black\", frame.colour = \"black\"),\n",
    "                           name = \"Average\\nexpression\") +\n",
    "    labs(y= \"Cluster_ID \\n\", x = \"\", title = \"Markers's plot\") + \n",
    "      theme_bw() +\n",
    "      theme(axis.text = element_text(size = 100),\n",
    "            axis.text.x = element_text(size = 10, angle = 45, hjust = 1, color = \"black\"),\n",
    "            strip.text.x = element_text(size = 10),\n",
    "            axis.text.y = element_text(size = 12, color = \"black\"),\n",
    "            axis.title = element_text(size = 14)) +\n",
    "      facet_nested(~ Compartment + CellType, scales = \"free\")\n",
    "# Library\n",
    "    Covariant.table = as.data.frame(table(atac_obj_29_subcluster$sub.cluster, atac_obj_29_subcluster$library))\n",
    "    colnames(Covariant.table) = c(\"cluster\", \"covariant\", \"Freq\")\n",
    "    gg3 = ggplot(Covariant.table, aes(fill = covariant, y = Freq, x = cluster)) +\n",
    "      theme_bw() +\n",
    "      coord_flip() +\n",
    "      geom_bar(position = position_fill(reverse = TRUE), stat = 'identity', color = 'black', size = 0.2) +\n",
    "      labs(y= \"\\n Percentage\", x = \"\", title = \"Library\") + \n",
    "      theme(axis.text = element_text(size = 12), axis.title = element_text(size = 12, face = \"bold\"),\n",
    "                      axis.text.x = element_text(angle = 90),\n",
    "                                 plot.title = element_text(size = 18, face = \"bold\", , hjust = 0.5))\n",
    "# Condition\n",
    "    Covariant.table = as.data.frame(table(atac_obj_29_subcluster$sub.cluster, atac_obj_27_subcluster$condition))\n",
    "    colnames(Covariant.table) = c(\"cluster\", \"covariant\", \"Freq\")\n",
    "    gg4 = ggplot(Covariant.table, aes(fill = covariant, y = Freq, x = cluster)) +\n",
    "      theme_bw() +\n",
    "      coord_flip() +\n",
    "      geom_bar(position = position_fill(reverse = TRUE), stat = 'identity', color = 'black', size = 0.2) +\n",
    "      labs(y= \"\\n Percentage\", x = \"\", title = \"Condition\") + \n",
    "      theme(axis.text = element_text(size = 12), axis.title = element_text(size = 12, face = \"bold\"),\n",
    "                      axis.text.x = element_text(angle = 90),\n",
    "                                 plot.title = element_text(size = 18, face = \"bold\", , hjust = 0.5))\n",
    " combined_plot <- plot_grid(gg2, gg3, gg4, ncol = 1)\n",
    "\n",
    "   combined_plot"
   ]
  },
  {
   "cell_type": "code",
   "execution_count": null,
   "id": "31b096f4",
   "metadata": {
    "scrolled": true
   },
   "outputs": [],
   "source": [
    "names(atac_obj@graphs)"
   ]
  },
  {
   "cell_type": "code",
   "execution_count": null,
   "id": "29cd5aad",
   "metadata": {},
   "outputs": [],
   "source": [
    "# Load markers list\n",
    "project.dir = \"/nfs/lab/parulk/HPAP_scATAC/\"\n",
    "cell.markers = read.table(\"/nfs/lab/parulk/HPAP_scATAC/Immune.markers.txt\", sep = ',', header = TRUE)\n",
    "# Make it long, remove useless column and void markers\n",
    "cell.markers <- cell.markers %>% gather(Key, marker, c(3:ncol(cell.markers)))\n",
    "cell.markers = cell.markers[,-3]\n",
    "cell.markers = cell.markers[cell.markers$marker != \"\", ]\n",
    "head(cell.markers)\n",
    "# Factorize columns\n",
    "cell.markersCompartment <- cell.markers$cell.markersCompartment\n",
    "cell.markersCellType <- cell.markers$cell.markersCellType\n",
    "cell.markersCompartment = factor(cell.markersCompartment, levels = c(\"Immune\"))\n",
    "cell.markersCellType = factor(cell.markersCellType, levels = c(\"Megakaryocytes\",\"Bcells\",\"CD8\",\"CD4\",\"Tcells\",\"Monocytes\"))"
   ]
  },
  {
   "cell_type": "code",
   "execution_count": null,
   "id": "0403679d",
   "metadata": {},
   "outputs": [],
   "source": [
    "cell.cluster = as.data.frame(table(atac_obj_27_1_subcluster$sub.cluster))\n",
    "colnames(cell.cluster)[1] = \"sub.cluster\"\n",
    "cell.cluster$sub.cluster = factor(cell.cluster$sub.cluster)\n",
    "\n",
    "width = 0.8\n",
    "position = position_dodge(width = width)\n",
    "gg0 = ggplot(cell.cluster, aes(x= sub.cluster, y = Freq, label = Freq)) + \n",
    "            theme_bw () +\n",
    "            labs(y= \"\", x = \"\", title = paste(\"Total Cells: \", length(colnames(atac_obj_27_1_subcluster[[\"RNA\"]])))) +\n",
    "            geom_bar(stat=\"identity\", \n",
    "                     position = position, width = width,\n",
    "                     colour=\"black\") +\n",
    "            theme(axis.text = element_text(size = 12), axis.title = element_text(size = 12, face = \"bold\"),\n",
    "                  axis.text.x = element_text(angle = 90),\n",
    "                             plot.title = element_text(size = 18, face = \"bold\", , hjust = 0.5))\n",
    "options(repr.plot.height = 10, repr.plot.width = 14)\n",
    "gg1 = DimPlot(atac_obj_27_1_subcluster,  group.by='sub.cluster', \n",
    "              label = TRUE, pt.size = .2)\n",
    "combined_plot <- plot_grid(gg1, gg0, ncol = 2)\n",
    "\n",
    "   combined_plot"
   ]
  },
  {
   "cell_type": "code",
   "execution_count": null,
   "id": "02b7b5ca",
   "metadata": {},
   "outputs": [],
   "source": [
    "g = DotPlot(atac_obj_27_1_subcluster, assay='RNA', group.by = \"sub.cluster\",\n",
    "            features=cell.markers$marker, cluster.idents=TRUE, col.min=0) +\n",
    "        theme(axis.text.x=element_text(angle=45, hjust=1)) + xlab('') + ylab('')\n",
    "    meta_summary = g$data\n",
    "    colnames(meta_summary)[3] = \"marker\"\n",
    "    meta_summary = merge(meta_summary, cell.markers, by = \"marker\")\n",
    "\n",
    "    gg2 <- ggplot(meta_summary, aes(x = marker, reorder(id, -id)))+\n",
    "      geom_point(aes(size = pct.exp, fill = avg.exp.scaled, stroke=NA),\n",
    "                 shape = 21) +\n",
    "      scale_size(\"% detected\", range = c(0, 6)) +\n",
    "      scale_fill_gradient(low = \"lightgray\", high = \"blue\",\n",
    "                           guide = guide_colorbar(nbin = 200,\n",
    "                                                  ticks.colour = \"black\", frame.colour = \"black\"),\n",
    "                           name = \"Average\\nexpression\") +\n",
    "    labs(y= \"Cluster_ID \\n\", x = \"\", title = \"Markers's plot\") + \n",
    "      theme_bw() +\n",
    "      theme(axis.text = element_text(size = 100),\n",
    "            axis.text.x = element_text(size = 10, angle = 45, hjust = 1, color = \"black\"),\n",
    "            strip.text.x = element_text(size = 10),\n",
    "            axis.text.y = element_text(size = 12, color = \"black\"),\n",
    "            axis.title = element_text(size = 14)) +\n",
    "      facet_nested(~ Compartment + CellType, scales = \"free\")\n"
   ]
  },
  {
   "cell_type": "code",
   "execution_count": null,
   "id": "fd161918",
   "metadata": {
    "scrolled": false
   },
   "outputs": [],
   "source": [
    "options(repr.plot.height = 8, repr.plot.width = 25)\n",
    "\n",
    "gg2"
   ]
  },
  {
   "cell_type": "code",
   "execution_count": null,
   "id": "5993efcd",
   "metadata": {},
   "outputs": [],
   "source": [
    "g = DotPlot(atac_obj_27_1_subcluster, assay='RNA', group.by = \"sub.cluster\",\n",
    "            features=cell.markers$marker, cluster.idents=TRUE, col.min=0) +\n",
    "        theme(axis.text.x=element_text(angle=45, hjust=1)) + xlab('') + ylab('')\n",
    "    meta_summary = g$data\n",
    "    colnames(meta_summary)[3] = \"marker\"\n",
    "    meta_summary = merge(meta_summary, cell.markers, by = \"marker\")\n",
    "\n",
    "    gg2 <- ggplot(meta_summary, aes(x = marker, reorder(id, -id)))+\n",
    "      geom_point(aes(size = pct.exp, fill = avg.exp.scaled, stroke=NA),\n",
    "                 shape = 21) +\n",
    "      scale_size(\"% detected\", range = c(0, 6)) +\n",
    "      scale_fill_gradient(low = \"lightgray\", high = \"blue\",\n",
    "                           guide = guide_colorbar(nbin = 200,\n",
    "                                                  ticks.colour = \"black\", frame.colour = \"black\"),\n",
    "                           name = \"Average\\nexpression\") +\n",
    "    labs(y= \"Cluster_ID \\n\", x = \"\", title = \"Markers's plot\") + \n",
    "      theme_bw() +\n",
    "      theme(axis.text = element_text(size = 100),\n",
    "            axis.text.x = element_text(size = 10, angle = 45, hjust = 1, color = \"black\"),\n",
    "            strip.text.x = element_text(size = 10),\n",
    "            axis.text.y = element_text(size = 12, color = \"black\"),\n",
    "            axis.title = element_text(size = 14)) +\n",
    "      facet_nested(~ Compartment + CellType, scales = \"free\")\n",
    "# Library\n",
    "    Covariant.table = as.data.frame(table(atac_obj_27_1_subcluster$sub.cluster, atac_obj_27_1_subcluster$library))\n",
    "    colnames(Covariant.table) = c(\"cluster\", \"covariant\", \"Freq\")\n",
    "    gg3 = ggplot(Covariant.table, aes(fill = covariant, y = Freq, x = cluster)) +\n",
    "      theme_bw() +\n",
    "      coord_flip() +\n",
    "      geom_bar(position = position_fill(reverse = TRUE), stat = 'identity', color = 'black', size = 0.2) +\n",
    "      labs(y= \"\\n Percentage\", x = \"\", title = \"Library\") + \n",
    "      theme(axis.text = element_text(size = 12), axis.title = element_text(size = 12, face = \"bold\"),\n",
    "                      axis.text.x = element_text(angle = 90),\n",
    "                                 plot.title = element_text(size = 18, face = \"bold\", , hjust = 0.5))\n",
    "# Condition\n",
    "    Covariant.table = as.data.frame(table(atac_obj_27_subcluster$sub.cluster, atac_obj_27_subcluster$condition))\n",
    "    colnames(Covariant.table) = c(\"cluster\", \"covariant\", \"Freq\")\n",
    "    gg4 = ggplot(Covariant.table, aes(fill = covariant, y = Freq, x = cluster)) +\n",
    "      theme_bw() +\n",
    "      coord_flip() +\n",
    "      geom_bar(position = position_fill(reverse = TRUE), stat = 'identity', color = 'black', size = 0.2) +\n",
    "      labs(y= \"\\n Percentage\", x = \"\", title = \"Condition\") + \n",
    "      theme(axis.text = element_text(size = 12), axis.title = element_text(size = 12, face = \"bold\"),\n",
    "                      axis.text.x = element_text(angle = 90),\n",
    "                                 plot.title = element_text(size = 18, face = \"bold\", , hjust = 0.5))\n",
    " combined_plot <- plot_grid(gg2, gg3, gg4, ncol = 1)\n",
    "\n",
    "   combined_plot"
   ]
  },
  {
   "cell_type": "code",
   "execution_count": null,
   "id": "85b36312",
   "metadata": {},
   "outputs": [],
   "source": [
    "table(Idents(atac_obj_27_1_subcluster))"
   ]
  },
  {
   "cell_type": "code",
   "execution_count": null,
   "id": "64ea1aee",
   "metadata": {},
   "outputs": [],
   "source": [
    "gc(reset = TRUE)\n",
    "\n",
    "# Subcluster\n",
    "atac_obj_26_subcluster <- FindSubCluster(atac_obj, \n",
    "                                 cluster=26,\n",
    "                                 resolution = 0.25,\n",
    "                                 algorithm = 4,\n",
    "                                 graph.name = 'ATAC_peaks_snn')\n",
    "\n",
    "# Subset the tmp obj 4 visualization\n",
    "atac_obj_26_subcluster <- subset(atac_obj_26_subcluster, subset=seurat_clusters == 26)\n",
    "    "
   ]
  },
  {
   "cell_type": "code",
   "execution_count": null,
   "id": "66f38d97",
   "metadata": {},
   "outputs": [],
   "source": [
    "g = DotPlot(atac_obj_26_subcluster, assay='RNA', group.by = \"sub.cluster\",\n",
    "            features=cell.markers$marker, cluster.idents=TRUE, col.min=0) +\n",
    "        theme(axis.text.x=element_text(angle=45, hjust=1)) + xlab('') + ylab('')\n",
    "    meta_summary = g$data\n",
    "    colnames(meta_summary)[3] = \"marker\"\n",
    "    meta_summary = merge(meta_summary, cell.markers, by = \"marker\")\n",
    "\n",
    "    gg2 <- ggplot(meta_summary, aes(x = marker, reorder(id, -id)))+\n",
    "      geom_point(aes(size = pct.exp, fill = avg.exp.scaled, stroke=NA),\n",
    "                 shape = 21) +\n",
    "      scale_size(\"% detected\", range = c(0, 6)) +\n",
    "      scale_fill_gradient(low = \"lightgray\", high = \"blue\",\n",
    "                           guide = guide_colorbar(nbin = 200,\n",
    "                                                  ticks.colour = \"black\", frame.colour = \"black\"),\n",
    "                           name = \"Average\\nexpression\") +\n",
    "    labs(y= \"Cluster_ID \\n\", x = \"\", title = \"Markers's plot\") + \n",
    "      theme_bw() +\n",
    "      theme(axis.text = element_text(size = 100),\n",
    "            axis.text.x = element_text(size = 10, angle = 45, hjust = 1, color = \"black\"),\n",
    "            strip.text.x = element_text(size = 10),\n",
    "            axis.text.y = element_text(size = 12, color = \"black\"),\n",
    "            axis.title = element_text(size = 14)) +\n",
    "      facet_nested(~ Compartment + CellType, scales = \"free\")\n",
    "# Library\n",
    "    Covariant.table = as.data.frame(table(atac_obj_26_subcluster$sub.cluster, atac_obj_26_subcluster$library))\n",
    "    colnames(Covariant.table) = c(\"cluster\", \"covariant\", \"Freq\")\n",
    "    gg3 = ggplot(Covariant.table, aes(fill = covariant, y = Freq, x = cluster)) +\n",
    "      theme_bw() +\n",
    "      coord_flip() +\n",
    "      geom_bar(position = position_fill(reverse = TRUE), stat = 'identity', color = 'black', size = 0.2) +\n",
    "      labs(y= \"\\n Percentage\", x = \"\", title = \"Library\") + \n",
    "      theme(axis.text = element_text(size = 12), axis.title = element_text(size = 12, face = \"bold\"),\n",
    "                      axis.text.x = element_text(angle = 90),\n",
    "                                 plot.title = element_text(size = 18, face = \"bold\", , hjust = 0.5))\n",
    "# Condition\n",
    "    Covariant.table = as.data.frame(table(atac_obj_26_subcluster$sub.cluster, atac_obj_26_subcluster$condition))\n",
    "    colnames(Covariant.table) = c(\"cluster\", \"covariant\", \"Freq\")\n",
    "    gg4 = ggplot(Covariant.table, aes(fill = covariant, y = Freq, x = cluster)) +\n",
    "      theme_bw() +\n",
    "      coord_flip() +\n",
    "      geom_bar(position = position_fill(reverse = TRUE), stat = 'identity', color = 'black', size = 0.2) +\n",
    "      labs(y= \"\\n Percentage\", x = \"\", title = \"Condition\") + \n",
    "      theme(axis.text = element_text(size = 12), axis.title = element_text(size = 12, face = \"bold\"),\n",
    "                      axis.text.x = element_text(angle = 90),\n",
    "                                 plot.title = element_text(size = 18, face = \"bold\", , hjust = 0.5))\n",
    " combined_plot <- plot_grid(gg2, gg3, gg4, ncol = 1)\n",
    "\n",
    "   combined_plot"
   ]
  },
  {
   "cell_type": "code",
   "execution_count": null,
   "id": "32779477",
   "metadata": {},
   "outputs": [],
   "source": [
    "cell.cluster = as.data.frame(table(atac_obj_26_subcluster$sub.cluster))\n",
    "colnames(cell.cluster)[1] = \"sub.cluster\"\n",
    "cell.cluster$sub.cluster = factor(cell.cluster$sub.cluster)\n",
    "\n",
    "width = 0.8\n",
    "position = position_dodge(width = width)\n",
    "gg0 = ggplot(cell.cluster, aes(x= sub.cluster, y = Freq, label = Freq)) + \n",
    "            theme_bw () +\n",
    "            labs(y= \"\", x = \"\", title = paste(\"Total Cells: \", length(colnames(atac_obj_26_subcluster[[\"RNA\"]])))) +\n",
    "            geom_bar(stat=\"identity\", \n",
    "                     position = position, width = width,\n",
    "                     colour=\"black\") +\n",
    "            theme(axis.text = element_text(size = 12), axis.title = element_text(size = 12, face = \"bold\"),\n",
    "                  axis.text.x = element_text(angle = 90),\n",
    "                             plot.title = element_text(size = 18, face = \"bold\", , hjust = 0.5))\n",
    "options(repr.plot.height = 10, repr.plot.width = 14)\n",
    "gg1 = DimPlot(atac_obj_26_subcluster,  group.by='sub.cluster', \n",
    "              label = TRUE, pt.size = .2)\n",
    "combined_plot <- plot_grid(gg1, gg0, ncol = 2)\n",
    "\n",
    "   combined_plot"
   ]
  },
  {
   "cell_type": "code",
   "execution_count": null,
   "id": "a3dec569",
   "metadata": {},
   "outputs": [],
   "source": [
    "gc(reset = TRUE)\n",
    "\n",
    "# Subcluster\n",
    "atac_obj_28_subcluster <- FindSubCluster(atac_obj, \n",
    "                                 cluster=28,\n",
    "                                 resolution = 0.25,\n",
    "                                 algorithm = 4,\n",
    "                                 graph.name = 'ATAC_peaks_snn')\n",
    "\n",
    "# Subset the tmp obj 4 visualization\n",
    "atac_obj_28_subcluster <- subset(atac_obj_28_subcluster, subset=seurat_clusters == 28)\n",
    "    "
   ]
  },
  {
   "cell_type": "code",
   "execution_count": null,
   "id": "ea86be32",
   "metadata": {},
   "outputs": [],
   "source": [
    "cell.cluster = as.data.frame(table(atac_obj_28_subcluster$sub.cluster))\n",
    "colnames(cell.cluster)[1] = \"sub.cluster\"\n",
    "cell.cluster$sub.cluster = factor(cell.cluster$sub.cluster)\n",
    "\n",
    "width = 0.8\n",
    "position = position_dodge(width = width)\n",
    "gg0 = ggplot(cell.cluster, aes(x= sub.cluster, y = Freq, label = Freq)) + \n",
    "            theme_bw () +\n",
    "            labs(y= \"\", x = \"\", title = paste(\"Total Cells: \", length(colnames(atac_obj_28_subcluster[[\"RNA\"]])))) +\n",
    "            geom_bar(stat=\"identity\", \n",
    "                     position = position, width = width,\n",
    "                     colour=\"black\") +\n",
    "            theme(axis.text = element_text(size = 12), axis.title = element_text(size = 12, face = \"bold\"),\n",
    "                  axis.text.x = element_text(angle = 90),\n",
    "                             plot.title = element_text(size = 18, face = \"bold\", , hjust = 0.5))\n",
    "options(repr.plot.height = 10, repr.plot.width = 14)\n",
    "gg1 = DimPlot(atac_obj_28_subcluster,  group.by='sub.cluster', \n",
    "              label = TRUE, pt.size = .2)\n",
    "combined_plot <- plot_grid(gg1, gg0, ncol = 2)\n",
    "\n",
    "   combined_plot"
   ]
  },
  {
   "cell_type": "code",
   "execution_count": null,
   "id": "82921b5b",
   "metadata": {},
   "outputs": [],
   "source": [
    "g = DotPlot(atac_obj_28_subcluster, assay='RNA', group.by = \"sub.cluster\",\n",
    "            features=cell.markers$marker, cluster.idents=TRUE, col.min=0) +\n",
    "        theme(axis.text.x=element_text(angle=45, hjust=1)) + xlab('') + ylab('')\n",
    "    meta_summary = g$data\n",
    "    colnames(meta_summary)[3] = \"marker\"\n",
    "    meta_summary = merge(meta_summary, cell.markers, by = \"marker\")\n",
    "\n",
    "    gg2 <- ggplot(meta_summary, aes(x = marker, reorder(id, -id)))+\n",
    "      geom_point(aes(size = pct.exp, fill = avg.exp.scaled, stroke=NA),\n",
    "                 shape = 21) +\n",
    "      scale_size(\"% detected\", range = c(0, 6)) +\n",
    "      scale_fill_gradient(low = \"lightgray\", high = \"blue\",\n",
    "                           guide = guide_colorbar(nbin = 200,\n",
    "                                                  ticks.colour = \"black\", frame.colour = \"black\"),\n",
    "                           name = \"Average\\nexpression\") +\n",
    "    labs(y= \"Cluster_ID \\n\", x = \"\", title = \"Markers's plot\") + \n",
    "      theme_bw() +\n",
    "      theme(axis.text = element_text(size = 100),\n",
    "            axis.text.x = element_text(size = 10, angle = 45, hjust = 1, color = \"black\"),\n",
    "            strip.text.x = element_text(size = 10),\n",
    "            axis.text.y = element_text(size = 12, color = \"black\"),\n",
    "            axis.title = element_text(size = 14)) +\n",
    "      facet_nested(~ Compartment + CellType, scales = \"free\")\n",
    "# Library\n",
    "    Covariant.table = as.data.frame(table(atac_obj_28_subcluster$sub.cluster, atac_obj_28_subcluster$library))\n",
    "    colnames(Covariant.table) = c(\"cluster\", \"covariant\", \"Freq\")\n",
    "    gg3 = ggplot(Covariant.table, aes(fill = covariant, y = Freq, x = cluster)) +\n",
    "      theme_bw() +\n",
    "      coord_flip() +\n",
    "      geom_bar(position = position_fill(reverse = TRUE), stat = 'identity', color = 'black', size = 0.2) +\n",
    "      labs(y= \"\\n Percentage\", x = \"\", title = \"Library\") + \n",
    "      theme(axis.text = element_text(size = 12), axis.title = element_text(size = 12, face = \"bold\"),\n",
    "                      axis.text.x = element_text(angle = 90),\n",
    "                                 plot.title = element_text(size = 18, face = \"bold\", , hjust = 0.5))\n",
    "# Condition\n",
    "    Covariant.table = as.data.frame(table(atac_obj_28_subcluster$sub.cluster, atac_obj_28_subcluster$condition))\n",
    "    colnames(Covariant.table) = c(\"cluster\", \"covariant\", \"Freq\")\n",
    "    gg4 = ggplot(Covariant.table, aes(fill = covariant, y = Freq, x = cluster)) +\n",
    "      theme_bw() +\n",
    "      coord_flip() +\n",
    "      geom_bar(position = position_fill(reverse = TRUE), stat = 'identity', color = 'black', size = 0.2) +\n",
    "      labs(y= \"\\n Percentage\", x = \"\", title = \"Condition\") + \n",
    "      theme(axis.text = element_text(size = 12), axis.title = element_text(size = 12, face = \"bold\"),\n",
    "                      axis.text.x = element_text(angle = 90),\n",
    "                                 plot.title = element_text(size = 18, face = \"bold\", , hjust = 0.5))\n",
    " combined_plot <- plot_grid(gg2, gg3, gg4, ncol = 1)\n",
    "\n",
    "   combined_plot"
   ]
  },
  {
   "cell_type": "code",
   "execution_count": null,
   "id": "45d46c9c",
   "metadata": {},
   "outputs": [],
   "source": [
    "gc(reset = TRUE)\n",
    "\n",
    "# Subcluster Endo\n",
    "atac_obj_20_subcluster <- FindSubCluster(atac_obj, \n",
    "                                 cluster=20,\n",
    "                                 resolution = 0.25,\n",
    "                                 algorithm = 4,\n",
    "                                 graph.name = 'ATAC_peaks_snn')\n",
    "\n",
    "# Subset the tmp obj 4 visualization\n",
    "#atac_obj_20_subcluster <- subset(atac_obj_20_subcluster, subset=seurat_clusters == 20)\n",
    "    "
   ]
  },
  {
   "cell_type": "code",
   "execution_count": null,
   "id": "2006698f",
   "metadata": {},
   "outputs": [],
   "source": [
    "cell.cluster = as.data.frame(table(atac_obj_20_subcluster$sub.cluster))\n",
    "colnames(cell.cluster)[1] = \"sub.cluster\"\n",
    "cell.cluster$sub.cluster = factor(cell.cluster$sub.cluster)\n",
    "\n",
    "width = 0.8\n",
    "position = position_dodge(width = width)\n",
    "gg0 = ggplot(cell.cluster, aes(x= sub.cluster, y = Freq, label = Freq)) + \n",
    "            theme_bw () +\n",
    "            labs(y= \"\", x = \"\", title = paste(\"Total Cells: \", length(colnames(atac_obj_20_subcluster[[\"RNA\"]])))) +\n",
    "            geom_bar(stat=\"identity\", \n",
    "                     position = position, width = width,\n",
    "                     colour=\"black\") +\n",
    "            theme(axis.text = element_text(size = 12), axis.title = element_text(size = 12, face = \"bold\"),\n",
    "                  axis.text.x = element_text(angle = 90),\n",
    "                             plot.title = element_text(size = 18, face = \"bold\", , hjust = 0.5))\n",
    "options(repr.plot.height = 10, repr.plot.width = 14)\n",
    "gg1 = DimPlot(atac_obj_20_subcluster,  group.by='sub.cluster', \n",
    "              label = TRUE, pt.size = .2)\n",
    "combined_plot <- plot_grid(gg1, gg0, ncol = 2)\n",
    "\n",
    "   combined_plot"
   ]
  },
  {
   "cell_type": "code",
   "execution_count": null,
   "id": "ea2ebb4f",
   "metadata": {},
   "outputs": [],
   "source": [
    "g = DotPlot(atac_obj_20_subcluster, assay='RNA', group.by = \"sub.cluster\",\n",
    "            features=cell.markers$marker, cluster.idents=TRUE, col.min=0) +\n",
    "        theme(axis.text.x=element_text(angle=45, hjust=1)) + xlab('') + ylab('')\n",
    "    meta_summary = g$data\n",
    "    colnames(meta_summary)[3] = \"marker\"\n",
    "    meta_summary = merge(meta_summary, cell.markers, by = \"marker\")\n",
    "\n",
    "    gg2 <- ggplot(meta_summary, aes(x = marker, reorder(id, -id)))+\n",
    "      geom_point(aes(size = pct.exp, fill = avg.exp.scaled, stroke=NA),\n",
    "                 shape = 21) +\n",
    "      scale_size(\"% detected\", range = c(0, 6)) +\n",
    "      scale_fill_gradient(low = \"lightgray\", high = \"blue\",\n",
    "                           guide = guide_colorbar(nbin = 200,\n",
    "                                                  ticks.colour = \"black\", frame.colour = \"black\"),\n",
    "                           name = \"Average\\nexpression\") +\n",
    "    labs(y= \"Cluster_ID \\n\", x = \"\", title = \"Markers's plot\") + \n",
    "      theme_bw() +\n",
    "      theme(axis.text = element_text(size = 100),\n",
    "            axis.text.x = element_text(size = 10, angle = 45, hjust = 1, color = \"black\"),\n",
    "            strip.text.x = element_text(size = 10),\n",
    "            axis.text.y = element_text(size = 12, color = \"black\"),\n",
    "            axis.title = element_text(size = 14)) +\n",
    "      facet_nested(~ Compartment + CellType, scales = \"free\")\n",
    "# Library\n",
    "    Covariant.table = as.data.frame(table(atac_obj_20_subcluster$sub.cluster, atac_obj_20_subcluster$library))\n",
    "    colnames(Covariant.table) = c(\"cluster\", \"covariant\", \"Freq\")\n",
    "    gg3 = ggplot(Covariant.table, aes(fill = covariant, y = Freq, x = cluster)) +\n",
    "      theme_bw() +\n",
    "      coord_flip() +\n",
    "      geom_bar(position = position_fill(reverse = TRUE), stat = 'identity', color = 'black', size = 0.2) +\n",
    "      labs(y= \"\\n Percentage\", x = \"\", title = \"Library\") + \n",
    "      theme(axis.text = element_text(size = 12), axis.title = element_text(size = 12, face = \"bold\"),\n",
    "                      axis.text.x = element_text(angle = 90),\n",
    "                                 plot.title = element_text(size = 18, face = \"bold\", , hjust = 0.5))\n",
    "# Condition\n",
    "    Covariant.table = as.data.frame(table(atac_obj_20_subcluster$sub.cluster, atac_obj_20_subcluster$condition))\n",
    "    colnames(Covariant.table) = c(\"cluster\", \"covariant\", \"Freq\")\n",
    "    gg4 = ggplot(Covariant.table, aes(fill = covariant, y = Freq, x = cluster)) +\n",
    "      theme_bw() +\n",
    "      coord_flip() +\n",
    "      geom_bar(position = position_fill(reverse = TRUE), stat = 'identity', color = 'black', size = 0.2) +\n",
    "      labs(y= \"\\n Percentage\", x = \"\", title = \"Condition\") + \n",
    "      theme(axis.text = element_text(size = 12), axis.title = element_text(size = 12, face = \"bold\"),\n",
    "                      axis.text.x = element_text(angle = 90),\n",
    "                                 plot.title = element_text(size = 18, face = \"bold\", , hjust = 0.5))\n",
    " combined_plot <- plot_grid(gg2, gg3, gg4, ncol = 1)\n",
    "\n",
    "   combined_plot"
   ]
  },
  {
   "cell_type": "code",
   "execution_count": null,
   "id": "c868ced5",
   "metadata": {},
   "outputs": [],
   "source": [
    "gc(reset = TRUE)\n",
    "\n",
    "# Subcluster Endo\n",
    "atac_obj_18_subcluster <- FindSubCluster(atac_obj, \n",
    "                                 cluster=18,\n",
    "                                 resolution = 0.25,\n",
    "                                 algorithm = 4,\n",
    "                                 graph.name = 'ATAC_peaks_snn')\n",
    "\n",
    "# Subset the tmp obj 4 visualization\n",
    "#atac_obj_18_subcluster <- subset(atac_obj_18_subcluster, subset=seurat_clusters == 18)\n",
    "    "
   ]
  },
  {
   "cell_type": "code",
   "execution_count": null,
   "id": "1248d921",
   "metadata": {},
   "outputs": [],
   "source": [
    "cell.cluster = as.data.frame(table(atac_obj_18_subcluster$sub.cluster))\n",
    "colnames(cell.cluster)[1] = \"sub.cluster\"\n",
    "cell.cluster$sub.cluster = factor(cell.cluster$sub.cluster)\n",
    "\n",
    "width = 0.8\n",
    "position = position_dodge(width = width)\n",
    "gg0 = ggplot(cell.cluster, aes(x= sub.cluster, y = Freq, label = Freq)) + \n",
    "            theme_bw () +\n",
    "            labs(y= \"\", x = \"\", title = paste(\"Total Cells: \", length(colnames(atac_obj_18_subcluster[[\"RNA\"]])))) +\n",
    "            geom_bar(stat=\"identity\", \n",
    "                     position = position, width = width,\n",
    "                     colour=\"black\") +\n",
    "            theme(axis.text = element_text(size = 12), axis.title = element_text(size = 12, face = \"bold\"),\n",
    "                  axis.text.x = element_text(angle = 90),\n",
    "                             plot.title = element_text(size = 18, face = \"bold\", , hjust = 0.5))\n",
    "options(repr.plot.height = 10, repr.plot.width = 14)\n",
    "gg1 = DimPlot(atac_obj_18_subcluster,  group.by='sub.cluster', \n",
    "              label = TRUE, pt.size = .2)\n",
    "combined_plot <- plot_grid(gg1, gg0, ncol = 2)\n",
    "\n",
    "   combined_plot"
   ]
  },
  {
   "cell_type": "code",
   "execution_count": null,
   "id": "24ef2cee",
   "metadata": {
    "scrolled": true
   },
   "outputs": [],
   "source": [
    "g = DotPlot(atac_obj_18_subcluster, assay='RNA', group.by = \"sub.cluster\",\n",
    "            features=cell.markers$marker, cluster.idents=TRUE, col.min=0) +\n",
    "        theme(axis.text.x=element_text(angle=45, hjust=1)) + xlab('') + ylab('')\n",
    "    meta_summary = g$data\n",
    "    colnames(meta_summary)[3] = \"marker\"\n",
    "    meta_summary = merge(meta_summary, cell.markers, by = \"marker\")\n",
    "\n",
    "    gg2 <- ggplot(meta_summary, aes(x = marker, reorder(id, -id)))+\n",
    "      geom_point(aes(size = pct.exp, fill = avg.exp.scaled, stroke=NA),\n",
    "                 shape = 21) +\n",
    "      scale_size(\"% detected\", range = c(0, 6)) +\n",
    "      scale_fill_gradient(low = \"lightgray\", high = \"blue\",\n",
    "                           guide = guide_colorbar(nbin = 200,\n",
    "                                                  ticks.colour = \"black\", frame.colour = \"black\"),\n",
    "                           name = \"Average\\nexpression\") +\n",
    "    labs(y= \"Cluster_ID \\n\", x = \"\", title = \"Markers's plot\") + \n",
    "      theme_bw() +\n",
    "      theme(axis.text = element_text(size = 100),\n",
    "            axis.text.x = element_text(size = 10, angle = 45, hjust = 1, color = \"black\"),\n",
    "            strip.text.x = element_text(size = 10),\n",
    "            axis.text.y = element_text(size = 12, color = \"black\"),\n",
    "            axis.title = element_text(size = 14)) +\n",
    "      facet_nested(~ Compartment + CellType, scales = \"free\")\n",
    "# Library\n",
    "    Covariant.table = as.data.frame(table(atac_obj_18_subcluster$sub.cluster, atac_obj_18_subcluster$library))\n",
    "    colnames(Covariant.table) = c(\"cluster\", \"covariant\", \"Freq\")\n",
    "    gg3 = ggplot(Covariant.table, aes(fill = covariant, y = Freq, x = cluster)) +\n",
    "      theme_bw() +\n",
    "      coord_flip() +\n",
    "      geom_bar(position = position_fill(reverse = TRUE), stat = 'identity', color = 'black', size = 0.2) +\n",
    "      labs(y= \"\\n Percentage\", x = \"\", title = \"Library\") + \n",
    "      theme(axis.text = element_text(size = 12), axis.title = element_text(size = 12, face = \"bold\"),\n",
    "                      axis.text.x = element_text(angle = 90),\n",
    "                                 plot.title = element_text(size = 18, face = \"bold\", , hjust = 0.5))\n",
    "# Condition\n",
    "    Covariant.table = as.data.frame(table(atac_obj_18_subcluster$sub.cluster, atac_obj_18_subcluster$condition))\n",
    "    colnames(Covariant.table) = c(\"cluster\", \"covariant\", \"Freq\")\n",
    "    gg4 = ggplot(Covariant.table, aes(fill = covariant, y = Freq, x = cluster)) +\n",
    "      theme_bw() +\n",
    "      coord_flip() +\n",
    "      geom_bar(position = position_fill(reverse = TRUE), stat = 'identity', color = 'black', size = 0.2) +\n",
    "      labs(y= \"\\n Percentage\", x = \"\", title = \"Condition\") + \n",
    "      theme(axis.text = element_text(size = 12), axis.title = element_text(size = 12, face = \"bold\"),\n",
    "                      axis.text.x = element_text(angle = 90),\n",
    "                                 plot.title = element_text(size = 18, face = \"bold\", , hjust = 0.5))\n",
    " combined_plot <- plot_grid(gg2, gg3, gg4, ncol = 1)\n",
    "\n",
    "   combined_plot"
   ]
  },
  {
   "cell_type": "code",
   "execution_count": null,
   "id": "1c94eeac",
   "metadata": {},
   "outputs": [],
   "source": [
    "gc(reset = TRUE)\n",
    "\n",
    "# Subcluster Endo\n",
    "atac_obj_25_subcluster <- FindSubCluster(atac_obj, \n",
    "                                 cluster=25,\n",
    "                                 resolution = 0.25,\n",
    "                                 algorithm = 4,\n",
    "                                 graph.name = 'ATAC_peaks_snn')\n",
    "\n",
    "# Subset the tmp obj 4 visualization\n",
    "#atac_obj_25_subcluster <- subset(atac_obj_25_subcluster, subset=seurat_clusters == 25)\n",
    "    "
   ]
  },
  {
   "cell_type": "code",
   "execution_count": null,
   "id": "7073372d",
   "metadata": {},
   "outputs": [],
   "source": [
    "cell.cluster = as.data.frame(table(atac_obj_25_subcluster$sub.cluster))\n",
    "colnames(cell.cluster)[1] = \"sub.cluster\"\n",
    "cell.cluster$sub.cluster = factor(cell.cluster$sub.cluster)\n",
    "\n",
    "width = 0.8\n",
    "position = position_dodge(width = width)\n",
    "gg0 = ggplot(cell.cluster, aes(x= sub.cluster, y = Freq, label = Freq)) + \n",
    "            theme_bw () +\n",
    "            labs(y= \"\", x = \"\", title = paste(\"Total Cells: \", length(colnames(atac_obj_25_subcluster[[\"RNA\"]])))) +\n",
    "            geom_bar(stat=\"identity\", \n",
    "                     position = position, width = width,\n",
    "                     colour=\"black\") +\n",
    "            theme(axis.text = element_text(size = 12), axis.title = element_text(size = 12, face = \"bold\"),\n",
    "                  axis.text.x = element_text(angle = 90),\n",
    "                             plot.title = element_text(size = 18, face = \"bold\", , hjust = 0.5))\n",
    "options(repr.plot.height = 10, repr.plot.width = 14)\n",
    "gg1 = DimPlot(atac_obj_25_subcluster,  group.by='sub.cluster', \n",
    "              label = TRUE, pt.size = .2)\n",
    "combined_plot <- plot_grid(gg1, gg0, ncol = 2)\n",
    "\n",
    "   combined_plot"
   ]
  },
  {
   "cell_type": "code",
   "execution_count": null,
   "id": "4ed47985",
   "metadata": {},
   "outputs": [],
   "source": [
    "g = DotPlot(atac_obj_25_subcluster, assay='RNA', group.by = \"sub.cluster\",\n",
    "            features=cell.markers$marker, cluster.idents=TRUE, col.min=0) +\n",
    "        theme(axis.text.x=element_text(angle=45, hjust=1)) + xlab('') + ylab('')\n",
    "    meta_summary = g$data\n",
    "    colnames(meta_summary)[3] = \"marker\"\n",
    "    meta_summary = merge(meta_summary, cell.markers, by = \"marker\")\n",
    "\n",
    "    gg2 <- ggplot(meta_summary, aes(x = marker, reorder(id, -id)))+\n",
    "      geom_point(aes(size = pct.exp, fill = avg.exp.scaled, stroke=NA),\n",
    "                 shape = 21) +\n",
    "      scale_size(\"% detected\", range = c(0, 6)) +\n",
    "      scale_fill_gradient(low = \"lightgray\", high = \"blue\",\n",
    "                           guide = guide_colorbar(nbin = 200,\n",
    "                                                  ticks.colour = \"black\", frame.colour = \"black\"),\n",
    "                           name = \"Average\\nexpression\") +\n",
    "    labs(y= \"Cluster_ID \\n\", x = \"\", title = \"Markers's plot\") + \n",
    "      theme_bw() +\n",
    "      theme(axis.text = element_text(size = 100),\n",
    "            axis.text.x = element_text(size = 10, angle = 45, hjust = 1, color = \"black\"),\n",
    "            strip.text.x = element_text(size = 10),\n",
    "            axis.text.y = element_text(size = 12, color = \"black\"),\n",
    "            axis.title = element_text(size = 14)) +\n",
    "      facet_nested(~ Compartment + CellType, scales = \"free\")\n",
    "# Library\n",
    "    Covariant.table = as.data.frame(table(atac_obj_25_subcluster$sub.cluster, atac_obj_25_subcluster$library))\n",
    "    colnames(Covariant.table) = c(\"cluster\", \"covariant\", \"Freq\")\n",
    "    gg3 = ggplot(Covariant.table, aes(fill = covariant, y = Freq, x = cluster)) +\n",
    "      theme_bw() +\n",
    "      coord_flip() +\n",
    "      geom_bar(position = position_fill(reverse = TRUE), stat = 'identity', color = 'black', size = 0.2) +\n",
    "      labs(y= \"\\n Percentage\", x = \"\", title = \"Library\") + \n",
    "      theme(axis.text = element_text(size = 12), axis.title = element_text(size = 12, face = \"bold\"),\n",
    "                      axis.text.x = element_text(angle = 90),\n",
    "                                 plot.title = element_text(size = 18, face = \"bold\", , hjust = 0.5))\n",
    "# Condition\n",
    "    Covariant.table = as.data.frame(table(atac_obj_25_subcluster$sub.cluster, atac_obj_25_subcluster$condition))\n",
    "    colnames(Covariant.table) = c(\"cluster\", \"covariant\", \"Freq\")\n",
    "    gg4 = ggplot(Covariant.table, aes(fill = covariant, y = Freq, x = cluster)) +\n",
    "      theme_bw() +\n",
    "      coord_flip() +\n",
    "      geom_bar(position = position_fill(reverse = TRUE), stat = 'identity', color = 'black', size = 0.2) +\n",
    "      labs(y= \"\\n Percentage\", x = \"\", title = \"Condition\") + \n",
    "      theme(axis.text = element_text(size = 12), axis.title = element_text(size = 12, face = \"bold\"),\n",
    "                      axis.text.x = element_text(angle = 90),\n",
    "                                 plot.title = element_text(size = 18, face = \"bold\", , hjust = 0.5))\n",
    " combined_plot <- plot_grid(gg2, gg3, gg4, ncol = 1)\n",
    "\n",
    "   combined_plot"
   ]
  },
  {
   "cell_type": "code",
   "execution_count": null,
   "id": "2dc06db5",
   "metadata": {
    "scrolled": false
   },
   "outputs": [],
   "source": [
    "#Remove cells, see slide for notes\n",
    "atac_obj_tmp <- subset(x = atac_obj, idents = c(16, 26, 28, 29, 30, 31, 32), invert = TRUE)"
   ]
  },
  {
   "cell_type": "code",
   "execution_count": null,
   "id": "d6b5ef49",
   "metadata": {
    "scrolled": true
   },
   "outputs": [],
   "source": [
    "atac_obj_tmp"
   ]
  },
  {
   "cell_type": "code",
   "execution_count": null,
   "id": "3f025dd0",
   "metadata": {
    "scrolled": false
   },
   "outputs": [],
   "source": [
    "options(repr.plot.height = 10, repr.plot.width = 15)\n",
    "\n",
    "DimPlot(object = atac_obj_tmp, label = TRUE,pt.size = 0.7 ) + NoLegend()"
   ]
  },
  {
   "cell_type": "code",
   "execution_count": null,
   "id": "da534410",
   "metadata": {
    "scrolled": false
   },
   "outputs": [],
   "source": [
    "atac_obj_tmp <- FindSubCluster(atac_obj_tmp, \"25\", subcluster.name = \"sub_25_cluster\", resolution = 0.25, algorithm = 4, graph.name = 'ATAC_peaks_snn')\n",
    "DimPlot(atac_obj_tmp, label = TRUE, group.by= \"sub_25_cluster\", repel = TRUE, label.size = 3)"
   ]
  },
  {
   "cell_type": "code",
   "execution_count": null,
   "id": "e09945f6",
   "metadata": {},
   "outputs": [],
   "source": [
    "atac_obj_tmp[[\"old.ident\"]] <- Idents(atac_obj_tmp)"
   ]
  },
  {
   "cell_type": "code",
   "execution_count": null,
   "id": "732df967",
   "metadata": {},
   "outputs": [],
   "source": [
    "Idents(atac_obj_tmp) <- \"sub_25_cluster\""
   ]
  },
  {
   "cell_type": "code",
   "execution_count": null,
   "id": "f5ff01a7",
   "metadata": {},
   "outputs": [],
   "source": [
    "table(Idents(atac_obj_tmp))"
   ]
  },
  {
   "cell_type": "code",
   "execution_count": null,
   "id": "aae7dac0",
   "metadata": {},
   "outputs": [],
   "source": [
    "atac_obj_tmp <- subset(x = atac_obj_tmp, idents = c(\"25_2\", \"25_3\"), invert = TRUE)"
   ]
  },
  {
   "cell_type": "code",
   "execution_count": null,
   "id": "2e5429fc",
   "metadata": {},
   "outputs": [],
   "source": [
    "table(Idents(atac_obj_tmp))"
   ]
  },
  {
   "cell_type": "code",
   "execution_count": null,
   "id": "7735106a",
   "metadata": {},
   "outputs": [],
   "source": [
    "atac_obj_tmp <- FindSubCluster(atac_obj_tmp, \"18\", subcluster.name = \"sub_18_cluster\", resolution = 0.25, algorithm = 4, graph.name = 'ATAC_peaks_snn')\n",
    "DimPlot(atac_obj_tmp, label = TRUE, group.by= \"sub_18_cluster\", repel = TRUE, label.size = 3)"
   ]
  },
  {
   "cell_type": "code",
   "execution_count": null,
   "id": "c9798f8f",
   "metadata": {},
   "outputs": [],
   "source": [
    "Idents(atac_obj_tmp) <- \"sub_18_cluster\"\n"
   ]
  },
  {
   "cell_type": "code",
   "execution_count": null,
   "id": "0e03fd81",
   "metadata": {},
   "outputs": [],
   "source": [
    "atac_obj_tmp <- subset(x = atac_obj_tmp, idents = c(\"18_5\"), invert = TRUE)"
   ]
  },
  {
   "cell_type": "code",
   "execution_count": null,
   "id": "5ecef112",
   "metadata": {},
   "outputs": [],
   "source": [
    "table(Idents(atac_obj_tmp))"
   ]
  },
  {
   "cell_type": "code",
   "execution_count": null,
   "id": "90664e1b",
   "metadata": {},
   "outputs": [],
   "source": [
    "atac_obj_tmp <- FindSubCluster(atac_obj_tmp, \"20\", subcluster.name = \"sub_20_cluster\", resolution = 0.25, algorithm = 4, graph.name = 'ATAC_peaks_snn')\n",
    "DimPlot(atac_obj_tmp, label = TRUE, group.by= \"sub_20_cluster\", repel = TRUE, label.size = 5)"
   ]
  },
  {
   "cell_type": "code",
   "execution_count": null,
   "id": "6c85da2a",
   "metadata": {},
   "outputs": [],
   "source": [
    "Idents(atac_obj_tmp) <- \"sub_20_cluster\"\n"
   ]
  },
  {
   "cell_type": "code",
   "execution_count": null,
   "id": "2cab1a46",
   "metadata": {},
   "outputs": [],
   "source": [
    "atac_obj_tmp"
   ]
  },
  {
   "cell_type": "code",
   "execution_count": null,
   "id": "32f56d8a",
   "metadata": {},
   "outputs": [],
   "source": [
    "atac_obj_tmp <- subset(x = atac_obj_tmp, idents = c(\"20_4\"), invert = TRUE)"
   ]
  },
  {
   "cell_type": "code",
   "execution_count": null,
   "id": "163a09da",
   "metadata": {},
   "outputs": [],
   "source": [
    "atac_obj_tmp"
   ]
  },
  {
   "cell_type": "code",
   "execution_count": null,
   "id": "2d899f3b",
   "metadata": {},
   "outputs": [],
   "source": [
    "table(Idents(atac_obj_tmp))"
   ]
  },
  {
   "cell_type": "code",
   "execution_count": null,
   "id": "52da6e0f",
   "metadata": {},
   "outputs": [],
   "source": [
    "atac_obj_tmp[[\"old.ident.subcluster\"]] <- Idents(atac_obj_tmp)"
   ]
  },
  {
   "cell_type": "code",
   "execution_count": null,
   "id": "cbcbd291",
   "metadata": {},
   "outputs": [],
   "source": [
    "Idents(atac_obj_tmp) <- \"old.ident.subcluster\"\n"
   ]
  },
  {
   "cell_type": "code",
   "execution_count": null,
   "id": "e98be00d",
   "metadata": {
    "scrolled": true
   },
   "outputs": [],
   "source": [
    "atac_obj_tmp"
   ]
  },
  {
   "cell_type": "code",
   "execution_count": null,
   "id": "f056dca2",
   "metadata": {},
   "outputs": [],
   "source": [
    "DimPlot(atac_obj_tmp, label = TRUE,  repel = TRUE, label.size = 5)"
   ]
  },
  {
   "cell_type": "code",
   "execution_count": null,
   "id": "8d0ab185",
   "metadata": {},
   "outputs": [],
   "source": [
    "atac_obj_final <- RenameIdents(object = atac_obj_tmp,  '1' = 'Alpha', '2' = 'Alpha', '3' = 'Beta', '4' = 'Beta', '5' = 'Alpha', '6' = 'Acinar', '7' = 'Beta', '8' = 'Delta', '9' = 'Alpha', '10' = 'Ductal', '11' = 'Acinar', '12' = 'Ductal', '13' = 'Acinar', '14' = 'Alpha', '15' = 'Beta', '17' = 'Beta', '18_1'= 'A Stellate', '18_2'='A Stellate', '18_3'='A Stellate', '18_4' = 'Schwann', '19' = 'Ductal', '20_1' = 'Endothelial', '20_2' = 'Endothelial', '20_3' = 'Endothelial', '21' = 'MUC5B Ductal', '22' = 'Gamma', '23' = 'Alpha', '24' = 'Beta', '25_1' = 'Q Stellate', '27' = 'Immune')\n"
   ]
  },
  {
   "cell_type": "code",
   "execution_count": null,
   "id": "b19aa25f",
   "metadata": {},
   "outputs": [],
   "source": [
    "library(tidyverse)\n",
    "library(patchwork)\n",
    "install.packages(\"scCustomize\")\n",
    "install.packages(\"qs\")\n",
    "library(scCustomize)\n",
    "library(qs)\n",
    "BiocManager::install(\"dittoSeq\")"
   ]
  },
  {
   "cell_type": "code",
   "execution_count": null,
   "id": "6893ec36",
   "metadata": {},
   "outputs": [],
   "source": [
    "# Save as variable to global environment\n",
    "options(repr.plot.width=20, repr.plot.height=15)\n",
    "#varibow_pal <- DiscretePalette_scCustomize(num_colors = 35, palette = \"varibow\")\n",
    "gg1_1 <- DimPlot_scCustom(seurat_object = atac_obj_final, shuffle = TRUE, label.size = 6.5, repel = T, label=FALSE,pt.size = 0.8, colors_use = DiscretePalette_scCustomize(num_colors = 50, palette = \"varibow\", shuffle=TRUE, seed = 88188188)) + theme(axis.text.x=element_text(angle=45, hjust=1), legend.key.size = unit(2,\"line\"), legend.text=element_text(size=20), plot.title = element_text(size = 30, face = \"bold\", hjust = 0.5)) + xlab('') + ylab('') \n",
    "g1 <- LabelClusters(gg1_1, id = \"ident\",  fontface = \"bold\", size = 9.5, repel = T, geom = \"GeomPoint\", position = \"median\")\n",
    "gg1_1\n",
    "g1"
   ]
  },
  {
   "cell_type": "code",
   "execution_count": null,
   "id": "8a214fb1",
   "metadata": {},
   "outputs": [],
   "source": [
    "covariant.ls = c(\"library\", \"sex\", \"condition\")"
   ]
  },
  {
   "cell_type": "code",
   "execution_count": null,
   "id": "d4616596",
   "metadata": {},
   "outputs": [],
   "source": [
    "gg.ls = list()\n",
    "\n",
    "# Library\n",
    "    i = 1\n",
    "    covariant = covariant.ls[i]\n",
    "    Covariant.table = as.data.frame(table(atac_obj_final@active.ident, atac_obj_final$library))\n",
    "    colnames(Covariant.table) = c(\"cluster\", \"covariant\", \"Freq\")\n",
    "    gg.ls[[i]] = ggplot(Covariant.table, aes(fill = covariant, y = Freq, x = cluster)) +\n",
    "      theme_bw() +\n",
    "      coord_flip() +\n",
    "      geom_bar(position = position_fill(reverse = TRUE), stat = 'identity', color = 'black', size = 0.2) +\n",
    "      labs(y= \"\\n Percentage\", x = \"\", title = covariant) + \n",
    "      theme(axis.text = element_text(size = 25), axis.title = element_text(size = 25, face = \"bold\"),\n",
    "                      axis.text.x = element_text(angle = 90),\n",
    "                                 plot.title = element_text(size = 25, face = \"bold\", hjust = 0.5), legend.key.size = unit(3,\"line\"), legend.text=element_text(size=20))\n",
    "\n",
    "# Sex\n",
    "    i = 2\n",
    "    covariant = covariant.ls[i]\n",
    "    Covariant.table = as.data.frame(table(atac_obj_final@active.ident, atac_obj_final$sex))\n",
    "    colnames(Covariant.table) = c(\"cluster\", \"covariant\", \"Freq\")\n",
    "    gg.ls[[i]] = ggplot(Covariant.table, aes(fill = covariant, y = Freq, x = cluster)) +\n",
    "      theme_bw() +\n",
    "      coord_flip() +\n",
    "      geom_bar(position = position_fill(reverse = TRUE), stat = 'identity', color = 'black', size = 0.2) +\n",
    "      labs(y= \"\\n Percentage\", x = \"\", title = covariant) + \n",
    "      theme(axis.text = element_text(size = 25), axis.title = element_text(size = 25, face = \"bold\"),\n",
    "                      axis.text.x = element_text(angle = 90),\n",
    "                                 plot.title = element_text(size = 25, face = \"bold\", hjust = 0.5),legend.key.size = unit(2,\"line\"), legend.text=element_text(size=20))\n",
    "\n",
    "# Condition\n",
    "    i = 3\n",
    "    covariant = covariant.ls[i]\n",
    "    Covariant.table = as.data.frame(table(atac_obj_final@active.ident, atac_obj_final$condition))\n",
    "    colnames(Covariant.table) = c(\"cluster\", \"covariant\", \"Freq\")\n",
    "    gg.ls[[i]] = ggplot(Covariant.table, aes(fill = covariant, y = Freq, x = cluster)) +\n",
    "      theme_bw() +\n",
    "      coord_flip() +\n",
    "      geom_bar(position = position_fill(reverse = TRUE), stat = 'identity', color = 'black', size = 0.2) +\n",
    "      labs(y= \"\\n Percentage\", x = \"\", title = covariant) + \n",
    "      theme(axis.text = element_text(size = 25), axis.title = element_text(size = 25, face = \"bold\"),\n",
    "                      axis.text.x = element_text(angle = 90),\n",
    "                                 plot.title = element_text(size = 25, face = \"bold\",  hjust = 0.5), legend.key.size = unit(2,\"line\"), legend.text=element_text(size=20))"
   ]
  },
  {
   "cell_type": "code",
   "execution_count": null,
   "id": "851b5530",
   "metadata": {},
   "outputs": [],
   "source": [
    "options(repr.plot.height = 20, repr.plot.width = 40)\n",
    "cp <- gg.ls[[1]] + gg.ls[[2]] + gg.ls[[3]]\n",
    "cp"
   ]
  },
  {
   "cell_type": "code",
   "execution_count": null,
   "id": "9a500526",
   "metadata": {},
   "outputs": [],
   "source": [
    "out_dir <- \"/nfs/lab/parulk/HPAP_scATAC/figures/\"\n",
    "\n",
    "ggsave(filename=paste0(out_dir, \"dotplot.pdf\"), plot = figure, device = \"pdf\", height= 15, width = 20, limitsize = FALSE)\n",
    "ggsave(filename=paste0(out_dir, \"dotplot.svg\"), plot = figure, device = \"svg\", height= 15, width = 20, limitsize = FALSE)"
   ]
  },
  {
   "cell_type": "code",
   "execution_count": null,
   "id": "366caed9",
   "metadata": {},
   "outputs": [],
   "source": [
    "saveRDS(atac_obj_final, file='/nfs/lab/parulk/HPAP_scATAC/atac_obj_peak_based_final.rds')"
   ]
  },
  {
   "cell_type": "code",
   "execution_count": null,
   "id": "12805c23",
   "metadata": {},
   "outputs": [],
   "source": [
    "atac_obj <- readRDS('/nfs/lab/parulk/HPAP_scATAC/atac_obj_peak_based_final.rds')"
   ]
  },
  {
   "cell_type": "code",
   "execution_count": null,
   "id": "704898fd",
   "metadata": {},
   "outputs": [],
   "source": [
    "# Load markers list\n",
    "project.dir = \"/nfs/lab/parulk/HPAP_scATAC/\"\n",
    "cell.markers = read.table(\"/nfs/lab/parulk/HPAP_scATAC/Cell.markers.txt\", sep = ',', header = TRUE)\n",
    "# Make it long, remove useless column and void markers\n",
    "cell.markers <- cell.markers %>% gather(Key, marker, c(3:ncol(cell.markers)))\n",
    "cell.markers = cell.markers[,-3]\n",
    "cell.markers = cell.markers[cell.markers$marker != \"\", ]\n",
    "head(cell.markers)\n",
    "# Factorize columns\n",
    "cell.markersCompartment <- cell.markers$cell.markersCompartment\n",
    "cell.markersCellType <- cell.markers$cell.markersCellType\n",
    "cell.markersCompartment = factor(cell.markersCompartment, levels = c(\"Endocrine cells\", \"Non-endocrine cells\"))\n",
    "cell.markersCellType = factor(cell.markersCellType, levels = c(\"Beta\", \"Alpha\", \"Delta\", \"Gamma\", \"Ductal\", \"MUC5B Ductal\", \"Acinar\",  \"Act. Stellate\", \"Q. Stellate\", \"Endothelial\", \"Schwann\", \"Immune\"))"
   ]
  },
  {
   "cell_type": "code",
   "execution_count": null,
   "id": "fb1fa1bc",
   "metadata": {},
   "outputs": [],
   "source": [
    "levels(atac_obj) <- c('Alpha', 'Beta', 'Delta', 'Gamma', 'Acinar', 'A Stellate', 'Ductal', 'Endothelial', 'Immune', 'MUC5B Ductal', 'Q Stellate', 'Schwann')"
   ]
  },
  {
   "cell_type": "code",
   "execution_count": null,
   "id": "aeb6bdf0",
   "metadata": {},
   "outputs": [],
   "source": [
    "g = DotPlot(atac_obj, assay='RNA', features=cell.markers$marker,  col.min=0) +\n",
    "        theme(axis.text.x=element_text(angle=45, hjust=1)) + xlab('') + ylab('')\n",
    "    meta_summary = g$data\n",
    "    colnames(meta_summary)[3] = \"marker\"\n",
    "    meta_summary = merge(meta_summary, cell.markers, by = \"marker\")\n",
    "\n",
    "    options(repr.plot.width=25, repr.plot.height=10)\n",
    "    figure <- ggplot(meta_summary, aes(x = marker, y = id)) +\n",
    "      geom_point(aes(size = pct.exp, fill = avg.exp.scaled, stroke=NA),\n",
    "                 shape = 21) +\n",
    "      scale_size(\"% detected\", range = c(0, 6)) +\n",
    "      scale_fill_gradient(low = \"white\", high = \"blue\",\n",
    "                           guide = guide_colorbar(nbin = 200,\n",
    "                                                  ticks.colour = \"black\", frame.colour = \"black\"),\n",
    "                           name = \"Average\\nexpression\") +\n",
    "      ylab(\"Cluster\") + xlab(\"\") +\n",
    "      theme_bw() +\n",
    "      theme(axis.text = element_text(size = 100),\n",
    "            axis.text.x = element_text(size = 20, angle = 45, hjust = 1, color = \"black\"),\n",
    "            strip.text.x = element_text(size = 13),\n",
    "            axis.text.y = element_text(size = 20, color = \"black\"),\n",
    "            axis.title = element_text(size = 20), legend.key.size = unit(3,\"line\"), legend.text=element_text(size=15)) +\n",
    "facet_nested(~ Compartment + CellType, scales = \"free\")\n",
    "\n",
    "figure"
   ]
  },
  {
   "cell_type": "code",
   "execution_count": null,
   "id": "97ebfa52",
   "metadata": {
    "scrolled": false
   },
   "outputs": [],
   "source": [
    "table(Idents(atac_obj))"
   ]
  },
  {
   "cell_type": "code",
   "execution_count": null,
   "id": "4893da85",
   "metadata": {},
   "outputs": [],
   "source": [
    "#add AAB status\n",
    "aab_positive = list('HPAP-045', 'HPAP-049', 'HPAP-050','HPAP-072', 'HPAP-092')\n",
    "aab_negative = list('HPAP-035', 'HPAP-036', 'HPAP-039','HPAP-040', 'HPAP-044', 'HPAP-047', 'HPAP-051', 'HPAP-052', 'HPAP-053', 'HPAP-054', 'HPAP-055', 'HPAP-056', 'HPAP-059', 'HPAP-061', 'HPAP-062', 'HPAP-063', 'HPAP-064', 'HPAP-067', 'HPAP-069', 'HPAP-075', 'HPAP-077', 'HPAP-079', 'HPAP-080', 'HPAP-081', 'HPAP-083', 'HPAP-084', 'HPAP-085', 'HPAP-088', 'HPAP-099', 'HPAP-100', 'HPAP-101', 'HPAP-103', 'HPAP-104', 'HPAP-105', 'HPAP-106', 'HPAP-109'  )\n",
    "\n",
    "\n",
    "atac_obj@meta.data$AAB[atac_obj@meta.data$library %in% aab_positive] <- 'Positive'\n",
    "atac_obj@meta.data$AAB[atac_obj@meta.data$library %in% aab_negative] <- 'Negative'\n",
    "head(atac_obj@meta.data)\n",
    "head(atac_obj@meta.data$AAB)\n"
   ]
  },
  {
   "cell_type": "code",
   "execution_count": null,
   "id": "09376013",
   "metadata": {},
   "outputs": [],
   "source": [
    "table((atac_obj$AAB))"
   ]
  },
  {
   "cell_type": "code",
   "execution_count": null,
   "id": "2733f975",
   "metadata": {},
   "outputs": [],
   "source": [
    "saveRDS(atac_obj, file='/nfs/lab/parulk/HPAP_scATAC/atac_obj_peak_based_metadata_final.rds')"
   ]
  },
  {
   "cell_type": "code",
   "execution_count": null,
   "id": "acc8ec22",
   "metadata": {},
   "outputs": [],
   "source": [
    "atac_obj <- readRDS('/nfs/lab/parulk/HPAP_scATAC/atac_obj_peak_based_metadata_final.rds')"
   ]
  },
  {
   "cell_type": "code",
   "execution_count": null,
   "id": "85816368",
   "metadata": {},
   "outputs": [],
   "source": []
  }
 ],
 "metadata": {
  "kernelspec": {
   "display_name": "R",
   "language": "R",
   "name": "ir"
  },
  "language_info": {
   "codemirror_mode": "r",
   "file_extension": ".r",
   "mimetype": "text/x-r-source",
   "name": "R",
   "pygments_lexer": "r",
   "version": "4.1.1"
  }
 },
 "nbformat": 4,
 "nbformat_minor": 5
}
