{
 "cells": [
  {
   "cell_type": "markdown",
   "metadata": {},
   "source": [
    "# Remove Multiplets & low quality cells (based on fraction of reads in peaks, TSS enrichments and clusters that do not annotate to cell type)\n",
    "\n",
    "We use amulet for multiplet detection. AMULET exploits the expectation that the number of uniquely aligned reads overlapping any given open chromatin region in diploid nuclei ranges from 0 to 2. The method identifies regions with more than two overlapping reads, indicative of multiplets, and uses the Poisson cumulative distribution function to detect significant deviations from expected distributions. The ability to accurately identify and annotate multiplets is crucial for minimizing technical artifacts and ensuring the biological relevance of single-cell genomics findings. After we identify multiplet cells/barcodes, we remove them and reclusters. "
   ]
  },
  {
   "cell_type": "code",
   "execution_count": null,
   "metadata": {},
   "outputs": [],
   "source": [
    "# Load necessary libraries for data manipulation, visualization, and analysis\n",
    "library(hdf5r)\n",
    "library(Seurat)\n",
    "library(Signac)\n",
    "library(EnsDb.Hsapiens.v86)\n",
    "library(dplyr)\n",
    "library(ggplot2)\n",
    "install.packages(\"broom\")\n",
    "if (!requireNamespace('BiocManager', quietly = TRUE))\n",
    "    install.packages('BiocManager')\n",
    "BiocManager::install('parallelly')\n",
    "library(dplyr)\n",
    "library(ggplot2)\n",
    "library(sctransform)\n",
    "library(scater)\n",
    "library(reticulate)\n",
    "library(future)\n",
    "library('Biobase')\n",
    "library(pheatmap)\n",
    "library(gplots)\n",
    "library('hdf5r')\n",
    "library(EnsDb.Hsapiens.v86)\n",
    "library(BiocParallel)\n",
    "library(tictoc)\n",
    "library(Seurat)\n",
    "library(Signac)\n",
    "library(EnsDb.Hsapiens.v86)\n",
    "library(ggplot2)\n",
    "library(cowplot)\n",
    "library(GenomeInfoDb)\n",
    "\n",
    "suppressMessages(library(hdf5r))\n",
    "suppressMessages(library(Seurat))\n",
    "suppressMessages(library(Signac))\n",
    "suppressMessages(library(EnsDb.Hsapiens.v86))\n",
    "suppressMessages(library(dplyr))\n",
    "suppressMessages(library(ggplot2))\n",
    "suppressMessages(library(Matrix))\n",
    "suppressMessages(library(harmony))\n",
    "suppressMessages(library(data.table))\n",
    "suppressMessages(library(ggpubr))\n",
    "suppressMessages(library(future))\n",
    "\n",
    ".libPaths()\n",
    "BiocManager::install(\"Bioconductor/GenomeInfoDb\",lib = \"/home/parulk/R/x86_64-pc-linux-gnu-library/4.1\",force = TRUE)\n",
    "library(GenomeInfoDb,lib.loc=\"/home/parulk/R/x86_64-pc-linux-gnu-library/4.1\")\n",
    "packageVersion(\"GenomeInfoDb\",lib.loc=\"/home/parulk/R/x86_64-pc-linux-gnu-library/4.1\")\n",
    "GenomeInfoDb::getChromInfoFromUCSC(\"hg38\")"
   ]
  },
  {
   "cell_type": "markdown",
   "metadata": {},
   "source": [
    "# Multiplet Detection\n",
    "\n",
    "We use amulet for multiplet detection. AMULET exploits the expectation that the number of uniquely aligned reads overlapping any given open chromatin region in diploid nuclei ranges from 0 to 2. The method identifies regions with more than two overlapping reads, indicative of multiplets, and uses the Poisson cumulative distribution function to detect significant deviations from expected distributions. The ability to accurately identify and annotate multiplets is crucial for minimizing technical artifacts and ensuring the biological relevance of single-cell genomics findings.\n",
    "\n",
    "### Run AMULET \n",
    "\n",
    "<code>{path_to_amulet_installation}/AMULET.sh --forcesorted --bambc CB --bcidx 0 --cellidx 8 --iscellidx 9 {path_to_cellranger_output}/${sample}//outs/possorted_bam.bam {path_to_cellranger_output}/${sample}/outs/singlecell.csv {path_to_amulet_installation}/human_autosomes.txt /RepeatFilterFiles/blacklist_repeats_segdups_rmsk_hg38.bed {path_to_amulet_output}/HPAP-040 {/path/to/shellscript/}</code>\n",
    "\n",
    "### Amulet Output\n",
    "The multiplet detection python script produces three output files: MultipletProbabilities, MultipletCellIds_xx.txt, and MultipletBarcodes_xx.txt (xx corresponding to the q-value threshold used to call multiplets).\n",
    "\n",
    "#### MultipletProbabilities.txt\n",
    "A tab delimited file with the following columns:\n",
    "\n",
    "1. cell_id - The cell id (e.g., _cell_0, _cell_1, etc. from CellRanger)\n",
    "2. barcode - The cell barcode.\n",
    "3. p-value - The Poisson probability obtained from the cumulative distribution function.\n",
    "4. q-value - The FDR corrected p-value for multiple hypothesis testing.\n",
    "\n",
    "#### MultipletCellIds_xx.txt\n",
    "Files with the MultipletCellIds prefix correspond to multiplet cell ids with a q-value threshold specified by xx (i.e., 0.xx). For example 01 implies a q-value threshold of 0.01.\n",
    "\n",
    "#### MultipletBarcodes_xx.txt\n",
    "Files with the MultipletBarcodes prefix correspond to multiplet cell barcodes with a q-value threshold specified by xx (i.e., 0.xx). For example 01 implies a q-value threshold of 0.01.\n",
    "\n",
    "#### Content of samples.txt\n",
    "HPAP-035 HPAP-036 HPAP-039 HPAP-040 HPAP-044 HPAP-045 HPAP-047 HPAP-049 HPAP-050 HPAP-051 HPAP-052 HPAP-053 HPAP-054 HPAP-055 HPAP-056 HPAP-059 HPAP-061 HPAP-062 HPAP-063 HPAP-064 HPAP-067 HPAP-069 HPAP-072 HPAP-075 HPAP-077 HPAP-079 HPAP-080 HPAP-081 HPAP-083 HPAP-084 HPAP-085 HPAP-088 HPAP-092 HPAP-099 HPAP-100 HPAP-101 HPAP-103 HPAP-104 HPAP-105 HPAP-106 HPAP-109"
   ]
  },
  {
   "cell_type": "code",
   "execution_count": null,
   "metadata": {},
   "outputs": [],
   "source": [
    "# the code reads in barcodes from the \"MultipletBarcodes_01.txt\" file for each sample listed in \"SAMPLES.txt\" and stores them in the multiplets list.\n",
    "samples<- scan('/HPAP_scATAC/samples.txt', what='', sep=' ')\n",
    "multiplets<-list()\n",
    "#metrics<- list()\n",
    "for (samp in samples){\n",
    "    multiplets[[samp]] <- read.table(sprintf(\"{path_to_amulet_output}/%s/MultipletBarcodes_01.txt\", samp)) %>% t() %>% as.vector()\n",
    "}\n",
    "\n",
    "head(multiplets[[length(multiplets)]])"
   ]
  },
  {
   "cell_type": "code",
   "execution_count": null,
   "metadata": {},
   "outputs": [],
   "source": [
    "#read in RDS file that is output of 01_Seurat_snATAC_windows_Harmony_reducePCs.ipynb\n",
    "adata<- readRDS(file = '/HPAP_scATAC/HVW_all_samples_harmony_reduced_final_gene_activity.rds')\n"
   ]
  },
  {
   "cell_type": "code",
   "execution_count": null,
   "metadata": {},
   "outputs": [],
   "source": [
    "options(repr.plot.width=10, repr.plot.height=10)\n",
    "DimPlot(object = adata, label = TRUE) + NoLegend()\n"
   ]
  },
  {
   "cell_type": "code",
   "execution_count": null,
   "metadata": {
    "scrolled": true
   },
   "outputs": [],
   "source": [
    "cells<- Cells(adata)"
   ]
  },
  {
   "cell_type": "code",
   "execution_count": null,
   "metadata": {},
   "outputs": [],
   "source": [
    "# Process barcode values for each sample by concatenating them with the sample name\n",
    "new_b<- list()\n",
    "for (samp in samples){\n",
    "    barcode<-multiplets[[samp]]\n",
    "    for (i in 1:length(barcode)){\n",
    "        new_b[[samp]][i]<-paste(samp,barcode[i], sep='_')\n",
    "    }\n",
    "}"
   ]
  },
  {
   "cell_type": "code",
   "execution_count": null,
   "metadata": {},
   "outputs": [],
   "source": [
    "length(new_b[[samp]])\n",
    "length(cells)"
   ]
  },
  {
   "cell_type": "code",
   "execution_count": null,
   "metadata": {},
   "outputs": [],
   "source": [
    "# Initialize multiplet.metadata list to classify cells as singlet or multiplet based on barcodes\n",
    "multiplet.metadata <-list()\n",
    "\n",
    "for (samp in samples){\n",
    "    multiplet.metadata[[samp]]<- rep(\"singlet\", length(cells))\n",
    "    names(multiplet.metadata[[samp]])<- cells\n",
    "    vec<- multiplet.metadata[[samp]]\n",
    "    mult<-new_b[[samp]]\n",
    "    for (i in 1:length(names(vec))){\n",
    "    if (names(vec[i]) %in% mult){\n",
    "        vec[i]<- \"multiplet\"\n",
    "}\n",
    "        }\n",
    "    multiplet.metadata[[samp]]<-vec\n",
    "    }"
   ]
  },
  {
   "cell_type": "code",
   "execution_count": null,
   "metadata": {},
   "outputs": [],
   "source": [
    "# Sanity check to ensure correct barcode processing\n",
    "for (i in 1:length(new_b)){\n",
    "    if (i == 1){\n",
    "        mult<- new_b[[i]]\n",
    "    } else {\n",
    "        mult<- append(mult, new_b[[i]])\n",
    "    }\n",
    "}\n",
    "if (length(mult) == sum(unlist(lapply(multiplets, length)))){\n",
    "    message('Done.')\n",
    "    } else {\n",
    "    message('An error has occurred')\n",
    "}"
   ]
  },
  {
   "cell_type": "code",
   "execution_count": null,
   "metadata": {
    "scrolled": false
   },
   "outputs": [],
   "source": [
    "length(mult)"
   ]
  },
  {
   "cell_type": "markdown",
   "metadata": {},
   "source": [
    "# Remove Doublets"
   ]
  },
  {
   "cell_type": "code",
   "execution_count": null,
   "metadata": {},
   "outputs": [],
   "source": [
    "#remove multiplet cells from amulet output\n",
    "init<- length(Cells(adata))\n",
    "adata$remove_cells <-(Cells(adata) %in% mult)\n",
    "\n",
    "DimPlot(adata, group.by = \"remove_cells\", pt.size = 0.5, \n",
    "        cols = c(\"FALSE\" = \"grey\", \"TRUE\" = \"purple\"), \n",
    "        order = c(\"TRUE\", \"FALSE\"))\n",
    "\n",
    "true_count <- sum(adata$remove_cells == TRUE)\n",
    "false_count <- sum(adata$remove_cells == FALSE)\n",
    "total <- true_count + false_count\n",
    "true_percent <- (true_count / total) * 100\n",
    "false_percent <- (false_count / total) * 100\n",
    "\n",
    "# Create a pie chart\n",
    "pie(c(true_count, false_count),  col = c(\"purple\", \"grey\"))\n",
    "\n",
    "# Add a legend\n",
    "legend(\"topright\", c(paste(\"Multiplet\",true_percent, \"%\"), paste(\"Singlet\", false_percent, \"%\")), fill = c(\"purple\", \"grey\"))\n",
    "\n",
    "count <- sum(adata$remove_cells == TRUE)\n",
    "print(count)"
   ]
  },
  {
   "cell_type": "code",
   "execution_count": null,
   "metadata": {},
   "outputs": [],
   "source": [
    "# Remove the multiplet cells from the Seurat object and perform the downstream analyses.\n",
    "sub_adata<- subset(adata, subset=remove_cells==FALSE)\n",
    "final<- length(Cells(sub_adata))\n",
    "    if (final/init < 1){\n",
    "        message('Completed doublet removal')\n",
    "    } else {\n",
    "        message('Some error has occured')\n",
    "    }"
   ]
  },
  {
   "cell_type": "code",
   "execution_count": null,
   "metadata": {},
   "outputs": [],
   "source": [
    "options(repr.plot.width=10, repr.plot.height=10)\n",
    "DimPlot(object = sub_adata, label = TRUE) + NoLegend()"
   ]
  },
  {
   "cell_type": "markdown",
   "metadata": {},
   "source": [
    "# After removal of multiplet cells, recluster i.e. dimensionality reduction via Harmony, and clustering"
   ]
  },
  {
   "cell_type": "code",
   "execution_count": null,
   "metadata": {},
   "outputs": [],
   "source": [
    "DefaultAssay(sub_adata) <- 'ATAC_windows'\n",
    "\n",
    "sub_adata <- RunTFIDF(sub_adata)\n",
    "sub_adata <- FindTopFeatures(sub_adata, min.cutoff='q0', verbose=FALSE)\n",
    "\n",
    "sub_adata <- RunSVD(sub_adata)\n",
    "\n",
    "DepthCor(sub_adata)\n",
    "\n",
    "sub_adata@reductions\n",
    "\n",
    "hm_atac <- HarmonyMatrix(Embeddings(sub_adata, reduction='lsi'),sub_adata@meta.data,  c(\"library\",\"sex\"), do_pca=FALSE,plot_convergence = TRUE, verbose = TRUE)\n",
    "\n",
    "\n",
    "sub_adata[['harmony.atac']] <- CreateDimReducObject(embeddings=hm_atac, key='LSI_', assay= 'ATAC_windows')\n",
    "\n",
    "sub_adata <- RunUMAP(sub_adata, dims=2:30, reduction='harmony.atac', reduction.name='umap.atac', reduction.key='atacUMAP_')\n",
    "\n",
    "\n",
    "options(repr.plot.width=10, repr.plot.height=10)\n",
    "p3 <- DimPlot(sub_adata, reduction='umap.atac', group.by = 'library', label=TRUE, label.size=6, repel=TRUE, raster=FALSE) + ggtitle('WNN')\n",
    "p3 <- p3 + xlab('UMAP 1') + ylab('UMAP 2') + ggtitle('ATAC')\n",
    "p3\n",
    "\n",
    "sub_adata@reductions\n",
    "\n",
    "DepthCor(sub_adata, reduction = 'harmony.atac')\n",
    "\n",
    "sub_adata <- FindNeighbors(object = sub_adata, reduction = 'harmony.atac', dims = 2:30)\n",
    "sub_adata <- FindClusters(object = sub_adata, algorithm=4,resolution = 1.5,method = \"igraph\") \n",
    "\n",
    "DimPlot(object = sub_adata, label = TRUE) + NoLegend()\n"
   ]
  },
  {
   "cell_type": "code",
   "execution_count": null,
   "metadata": {},
   "outputs": [],
   "source": [
    "options(repr.plot.width=10, repr.plot.height=10)\n",
    "DimPlot(object = sub_adata, group.by = 'library',label = FALSE)# + NoLegend()\n",
    "DimPlot(object = sub_adata, group.by = 'condition',label = FALSE)# + NoLegend()"
   ]
  },
  {
   "cell_type": "markdown",
   "metadata": {},
   "source": [
    "# Plot  quality control metrics such as fraction of reads in peaks, fraction of reads in promoter, TSS enrichment and nuclosome signal to determine cutoff to remove low quality cells"
   ]
  },
  {
   "cell_type": "code",
   "execution_count": null,
   "metadata": {},
   "outputs": [],
   "source": [
    "#add qc metrics\n",
    "samples <- c('HPAP-035', 'HPAP-036', 'HPAP-039', 'HPAP-040', 'HPAP-044', 'HPAP-045', 'HPAP-047', 'HPAP-049', 'HPAP-050', 'HPAP-051', 'HPAP-052', 'HPAP-053', 'HPAP-054', 'HPAP-055', 'HPAP-056', 'HPAP-059', 'HPAP-061', 'HPAP-062', 'HPAP-063', 'HPAP-064', 'HPAP-067', 'HPAP-069', 'HPAP-072', 'HPAP-075', 'HPAP-077', 'HPAP-079', 'HPAP-080', 'HPAP-081', 'HPAP-083', 'HPAP-084', 'HPAP-085', 'HPAP-088', 'HPAP-092', 'HPAP-099', 'HPAP-100', 'HPAP-101', 'HPAP-103', 'HPAP-104', 'HPAP-105', 'HPAP-106', 'HPAP-109')\n",
    "qcs <- list()\n",
    "for (sample in samples) {\n",
    "    wd <- sprintf('/HPAP_scATAC/lfm/')\n",
    "    qc <- read.table(file.path(wd, sprintf('%s.qc_metrics.txt', sample, sample)), sep='\\t', header=TRUE, stringsAsFactors=FALSE)\n",
    "    qcs[[sample]] <- qc\n",
    "}\n",
    "qc <- as.data.frame(rbindlist(qcs))\n",
    "qc$X <- paste0(qc$X, \"-1\")\n",
    "\n",
    "head(qc)\n",
    "rownames(qc) <- qc$X\n",
    "qc <- qc[Cells(sub_adata), 6:length(colnames(qc))]\n",
    "sub_adata <- AddMetaData(object=sub_adata, metadata=qc)\n",
    "qc <- qcs <- NULL\n",
    "gc()\n",
    "head(sub_adata)\n",
    "metadata <- sub_adata@meta.data\n",
    "head(sub_adata@meta.data)"
   ]
  },
  {
   "cell_type": "code",
   "execution_count": null,
   "metadata": {},
   "outputs": [],
   "source": [
    "options(repr.plot.width=20, repr.plot.height=20)\n",
    "\n",
    "p1 <- VlnPlot(sub_adata, features='TSS.enrichment',  pt.size=0, log = TRUE, split.by = 'seurat_clusters' ) + geom_boxplot(width=.6, fill='white', alpha=.6) + geom_hline(yintercept=median(sub_adata$TSS.enrichment), linetype='dashed')#\n",
    "p2 <- VlnPlot(sub_adata, features='nucleosome_signal',  pt.size=0, log = TRUE, split.by = 'seurat_clusters' ) + geom_boxplot(width=.6, fill='white', alpha=.6) + geom_hline(yintercept=median(sub_adata$nucleosome_signal), linetype='dashed')#\n",
    "p3 <- VlnPlot(sub_adata, features='frac_reads_in_peaks',  pt.size=0,  split.by = 'seurat_clusters') + geom_boxplot(width=.6, fill='white', alpha=.6) + geom_hline(yintercept=median(sub_adata$frac_reads_in_peaks), linetype='dashed')#\n",
    "p4 <- VlnPlot(sub_adata, features='frac_reads_in_promoters',  pt.size=0, split.by = 'seurat_clusters') + geom_boxplot(width=.6, fill='white', alpha=.6) + geom_hline(yintercept=median(sub_adata$frac_reads_in_promoters), linetype='dashed')#\n",
    "\n",
    "p1 / p2 / p3 / p4"
   ]
  },
  {
   "cell_type": "code",
   "execution_count": null,
   "metadata": {},
   "outputs": [],
   "source": [
    "table(Idents(sub_adata))"
   ]
  },
  {
   "cell_type": "code",
   "execution_count": null,
   "metadata": {},
   "outputs": [],
   "source": [
    "metadata <- sub_adata@meta.data\n",
    "frac_reads_in_peaks <- sub_adata@meta.data$frac_reads_in_peaks\n",
    "quantile(frac_reads_in_peaks)\n",
    "ggplot(data=metadata, mapping = aes(x=frac_reads_in_peaks)) +  geom_density(alpha = 0.2, color=\"green\", fill=\"lightgreen\") + \n",
    "theme_linedraw() + geom_vline(xintercept=c(0.33,0.6,0.7), colour=c(\"blue\", \"red\", \"black\"),linetype = \"longdash\")"
   ]
  },
  {
   "cell_type": "code",
   "execution_count": null,
   "metadata": {},
   "outputs": [],
   "source": [
    "frac_reads_in_promoters <- sub_adata@meta.data$frac_reads_in_promoters\n",
    "quantile(frac_reads_in_promoters)\n",
    "ggplot(data=metadata, mapping = aes(x=frac_reads_in_promoters)) +  geom_density(alpha = 0.2, fill= 'lightpink', color=\"pink\") + \n",
    "theme_linedraw() + geom_vline(xintercept=c(0.03,0.038,0.041), colour=c(\"blue\", \"red\", \"black\"),linetype = \"longdash\")"
   ]
  },
  {
   "cell_type": "code",
   "execution_count": null,
   "metadata": {},
   "outputs": [],
   "source": [
    "TSS.enrichment <- sub_adata@meta.data$TSS.enrichment\n",
    "quantile(TSS.enrichment)\n",
    "ggplot(data=metadata, mapping = aes(x=TSS.enrichment)) +  geom_density(alpha = 0.2, color=\"blue\", fill=\"lightblue\") + \n",
    "theme_linedraw() + geom_vline(xintercept=c(4.24,4.79,5.39), colour=c(\"blue\", \"red\", \"black\"),linetype = \"longdash\")\n",
    "sub_adata$high.tss <- ifelse(sub_adata$TSS.enrichment > 2, 'High', 'Low')\n",
    "TSSPlot(sub_adata, group.by = 'high.tss') + NoLegend()"
   ]
  },
  {
   "cell_type": "code",
   "execution_count": null,
   "metadata": {},
   "outputs": [],
   "source": [
    "nucleosome_signal <- sub_adata@meta.data$nucleosome_signal\n",
    "\n",
    "quantile(nucleosome_signal)\n",
    "\n",
    "ggplot(data=metadata, mapping = aes(x=nucleosome_signal)) +  geom_density(alpha = 0.2,color=\"yellow\", fill=\"yellow\") + \n",
    "theme_linedraw() \n",
    "sub_adata$nucleosome_group <- ifelse(sub_adata$nucleosome_signal > 4, 'NS > 4', 'NS < 4')\n",
    "FragmentHistogram(object = sub_adata, group.by = 'nucleosome_group')"
   ]
  },
  {
   "cell_type": "markdown",
   "metadata": {},
   "source": [
    "# Marker Gene plot to assign cell type to cluster "
   ]
  },
  {
   "cell_type": "code",
   "execution_count": null,
   "metadata": {},
   "outputs": [],
   "source": [
    "library(ggpubr)\n",
    "library(ggbreak)\n",
    "library(gridExtra)\n",
    "library(grid)\n",
    "library(ggh4x)\n",
    "library(ggplot2)\n",
    "library(ggforce)\n",
    "library('tidyr')\n",
    "\n",
    "# Load markers list\n",
    "project.dir = \"/HPAP_scATAC/\"\n",
    "cell.markers = read.table(\"/HPAP_scATAC/Cell.markers.txt\", sep = ',', header = TRUE)\n",
    "# Make it long, remove useless column and void markers\n",
    "cell.markers <- cell.markers %>% gather(Key, marker, c(3:ncol(cell.markers)))\n",
    "cell.markers = cell.markers[,-3]\n",
    "cell.markers = cell.markers[cell.markers$marker != \"\", ]\n",
    "head(cell.markers)\n",
    "# Factorize columns\n",
    "cell.markersCompartment <- cell.markers$cell.markersCompartment\n",
    "cell.markersCellType <- cell.markers$cell.markersCellType\n",
    "cell.markersCompartment = factor(cell.markersCompartment, levels = c(\"Endocrine cells\", \"Non-endocrine cells\"))\n",
    "cell.markersCellType = factor(cell.markersCellType, levels = c(\"Beta\", \"Alpha\", \"Delta\", \"Gamma\", \"Epsilon\", \"Ductal\", \"MUC5B Ductal\", \"Acinar\", \"Stellate\", \"Act. Stellate\", \"Q. Stellate\", \"Endothelial\", \"T Cell\", \"Schwann\", \"Macrophages\", \"Dividing Cells\"))\n",
    "\n",
    "g = DotPlot(sub_adata, assay='RNA', features=cell.markers$marker, cluster.idents=TRUE, col.min=0) +\n",
    "        theme(axis.text.x=element_text(angle=45, hjust=1)) + xlab('') + ylab('')\n",
    "    meta_summary = g$data\n",
    "    colnames(meta_summary)[3] = \"marker\"\n",
    "    meta_summary = merge(meta_summary, cell.markers, by = \"marker\")\n",
    "\n",
    "    options(repr.plot.width=25, repr.plot.height=10)\n",
    "    figure <- ggplot(meta_summary, aes(x = marker, y = id)) +\n",
    "      geom_point(aes(size = pct.exp, fill = avg.exp.scaled, stroke=NA),\n",
    "                 shape = 21) +\n",
    "      scale_size(\"% detected\", range = c(0, 6)) +\n",
    "      scale_fill_gradient(low = \"lightgray\", high = \"blue\",\n",
    "                           guide = guide_colorbar(nbin = 200,\n",
    "                                                  ticks.colour = \"black\", frame.colour = \"black\"),\n",
    "                           name = \"Average\\nexpression\") +\n",
    "      ylab(\"Cluster\") + xlab(\"\") +\n",
    "      theme_bw() +\n",
    "      theme(axis.text = element_text(size = 100),\n",
    "            axis.text.x = element_text(size = 10, angle = 45, hjust = 1, color = \"black\"),\n",
    "            strip.text.x = element_text(size = 10),\n",
    "            axis.text.y = element_text(size = 12, color = \"black\"),\n",
    "            axis.title = element_text(size = 14)) +\n",
    "facet_nested(~ Compartment + CellType, scales = \"free\")\n",
    "\n",
    "figure"
   ]
  },
  {
   "cell_type": "code",
   "execution_count": null,
   "metadata": {},
   "outputs": [],
   "source": [
    "covariant.ls = c(\"library\", \"sex\", \"condition\")\n",
    "\n",
    "gg.ls = list()\n",
    "\n",
    "# Library\n",
    "    i = 1\n",
    "    covariant = covariant.ls[i]\n",
    "    Covariant.table = as.data.frame(table(sub_adata$seurat_clusters, sub_adata$library))\n",
    "    colnames(Covariant.table) = c(\"cluster\", \"covariant\", \"Freq\")\n",
    "    gg.ls[[i]] = ggplot(Covariant.table, aes(fill = covariant, y = Freq, x = cluster)) +\n",
    "      theme_bw() +\n",
    "      coord_flip() +\n",
    "      geom_bar(position = position_fill(reverse = TRUE), stat = 'identity', color = 'black', size = 0.2) +\n",
    "      labs(y= \"\\n Percentage\", x = \"\", title = covariant) + \n",
    "      theme(axis.text = element_text(size = 12), axis.title = element_text(size = 12, face = \"bold\"),\n",
    "                      axis.text.x = element_text(angle = 90),\n",
    "                                 plot.title = element_text(size = 18, face = \"bold\", , hjust = 0.5))\n",
    "\n",
    "# Sex\n",
    "    i = 2\n",
    "    covariant = covariant.ls[i]\n",
    "    Covariant.table = as.data.frame(table(sub_adata$seurat_clusters, sub_adata$sex))\n",
    "    colnames(Covariant.table) = c(\"cluster\", \"covariant\", \"Freq\")\n",
    "    gg.ls[[i]] = ggplot(Covariant.table, aes(fill = covariant, y = Freq, x = cluster)) +\n",
    "      theme_bw() +\n",
    "      coord_flip() +\n",
    "      geom_bar(position = position_fill(reverse = TRUE), stat = 'identity', color = 'black', size = 0.2) +\n",
    "      labs(y= \"\\n Percentage\", x = \"\", title = covariant) + \n",
    "      theme(axis.text = element_text(size = 12), axis.title = element_text(size = 12, face = \"bold\"),\n",
    "                      axis.text.x = element_text(angle = 90),\n",
    "                                 plot.title = element_text(size = 18, face = \"bold\", , hjust = 0.5))\n",
    "\n",
    "# Condition\n",
    "    i = 3\n",
    "    covariant = covariant.ls[i]\n",
    "    Covariant.table = as.data.frame(table(sub_adata$seurat_clusters, sub_adata$condition))\n",
    "    colnames(Covariant.table) = c(\"cluster\", \"covariant\", \"Freq\")\n",
    "    gg.ls[[i]] = ggplot(Covariant.table, aes(fill = covariant, y = Freq, x = cluster)) +\n",
    "      theme_bw() +\n",
    "      coord_flip() +\n",
    "      geom_bar(position = position_fill(reverse = TRUE), stat = 'identity', color = 'black', size = 0.2) +\n",
    "      labs(y= \"\\n Percentage\", x = \"\", title = covariant) + \n",
    "      theme(axis.text = element_text(size = 12), axis.title = element_text(size = 12, face = \"bold\"),\n",
    "                      axis.text.x = element_text(angle = 90),\n",
    "                                 plot.title = element_text(size = 18, face = \"bold\", , hjust = 0.5))\n",
    "\n",
    "options(repr.plot.height = 20, repr.plot.width = 40)\n",
    "cp <- gg.ls[[1]] + gg.ls[[2]] + gg.ls[[3]]\n",
    "cp"
   ]
  },
  {
   "cell_type": "markdown",
   "metadata": {},
   "source": [
    "# Remove low quality cells based on fraction of reads in peaks, TSS enrichment &  clusters that do not annotate to cell type"
   ]
  },
  {
   "cell_type": "code",
   "execution_count": null,
   "metadata": {
    "scrolled": true
   },
   "outputs": [],
   "source": [
    "# Use quality control metrics such as fraction of reads in peaks, TSS enrichment and remove clusters that do not annotate to a cell type (based on marker gene plot)\n",
    "sub_adata <- subset(x=sub_adata, subset = frac_reads_in_peaks > 0.3)\n",
    "\n",
    "sub_adata <- subset(x=sub_adata, subset = TSS.enrichment > 3)\n",
    "\n",
    "sub_adata <- subset(x = sub_adata, idents = c(5, 18, 20, 22, 24, 25, 26), invert = TRUE)\n",
    "\n",
    "table(sub_adata[[]]$seurat_clusters)"
   ]
  },
  {
   "cell_type": "markdown",
   "metadata": {},
   "source": [
    "# After removal of low quality cells, recluster i.e. dimensionality reduction via Harmony, and clustering"
   ]
  },
  {
   "cell_type": "code",
   "execution_count": null,
   "metadata": {},
   "outputs": [],
   "source": [
    "DefaultAssay(sub_adata) <- 'ATAC_windows'\n",
    "sub_adata <- RunTFIDF(sub_adata)\n",
    "sub_adata <- FindTopFeatures(sub_adata, min.cutoff='q0', verbose=FALSE)\n",
    "\n",
    "sub_adata <- RunSVD(sub_adata)\n",
    "\n",
    "DepthCor(sub_adata)\n",
    "\n",
    "sub_adata@reductions\n",
    "\n",
    "hm_atac <- HarmonyMatrix(Embeddings(sub_adata, reduction='lsi'),sub_adata@meta.data,  c(\"library\",\"sex\"), do_pca=FALSE,plot_convergence = TRUE, verbose = TRUE)\n",
    "\n",
    "\n",
    "sub_adata[['harmony.atac']] <- CreateDimReducObject(embeddings=hm_atac, key='LSI_', assay= 'ATAC_windows')\n",
    "\n",
    "sub_adata <- RunUMAP(sub_adata, dims=2:30, reduction='harmony.atac', reduction.name='umap.atac', reduction.key='atacUMAP_')\n",
    "\n",
    "\n",
    "options(repr.plot.width=10, repr.plot.height=10)\n",
    "p3 <- DimPlot(sub_adata, reduction='umap.atac', group.by = 'library', label=TRUE, label.size=6, repel=TRUE, raster=FALSE) + ggtitle('WNN')\n",
    "p3 <- p3 + xlab('UMAP 1') + ylab('UMAP 2') + ggtitle('ATAC')\n",
    "p3\n",
    "\n",
    "sub_adata@reductions\n",
    "\n",
    "DepthCor(sub_adata, reduction = 'harmony.atac')"
   ]
  },
  {
   "cell_type": "code",
   "execution_count": null,
   "metadata": {},
   "outputs": [],
   "source": [
    "sub_adata <- FindNeighbors(object = sub_adata, reduction = 'harmony.atac', dims = 2:30)\n",
    "sub_adata <- FindClusters(object = sub_adata, algorithm=4,resolution = 1.5,method = \"igraph\") \n",
    "\n",
    "DimPlot(object = sub_adata, label = TRUE) + NoLegend()\n"
   ]
  },
  {
   "cell_type": "code",
   "execution_count": null,
   "metadata": {},
   "outputs": [],
   "source": [
    "saveRDS(sub_adata, '/HPAP_scATAC/HVW_all_samples_harmony_reduced_final_gene_activity_amulet_reclustered_final.rds')"
   ]
  },
  {
   "cell_type": "code",
   "execution_count": null,
   "metadata": {},
   "outputs": [],
   "source": [
    "sub_adata"
   ]
  },
  {
   "cell_type": "code",
   "execution_count": null,
   "metadata": {},
   "outputs": [],
   "source": [
    "libraries <- sub_adata$library"
   ]
  },
  {
   "cell_type": "code",
   "execution_count": null,
   "metadata": {},
   "outputs": [],
   "source": [
    "head(libraries)"
   ]
  },
  {
   "cell_type": "code",
   "execution_count": null,
   "metadata": {},
   "outputs": [],
   "source": [
    "write.csv(libraries, '/HPAP_scATAC/barcodes_windows_cluster.csv')"
   ]
  }
 ],
 "metadata": {
  "kernelspec": {
   "display_name": "R",
   "language": "R",
   "name": "ir"
  },
  "language_info": {
   "codemirror_mode": "r",
   "file_extension": ".r",
   "mimetype": "text/x-r-source",
   "name": "R",
   "pygments_lexer": "r",
   "version": "4.1.1"
  }
 },
 "nbformat": 4,
 "nbformat_minor": 4
}
