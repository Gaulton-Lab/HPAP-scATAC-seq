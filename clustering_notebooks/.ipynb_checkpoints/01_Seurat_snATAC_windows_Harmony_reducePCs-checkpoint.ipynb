{
 "cells": [
  {
   "cell_type": "markdown",
   "id": "d570feb9",
   "metadata": {},
   "source": [
    "**This notebook sets up a detailed workflow for single-cell ATAC-seq window-based clustering. It involves:**\n",
    "\n",
    "- Environment Setup: Initiates an R environment and loads necessary libraries like Seurat, Signac, and EnsDb.Hsapiens.v86.\n",
    "- Data Reading: Processes ATAC-seq data from various samples to meet Seurat's format requirements.\n",
    "- Pre-processing: Adjusts barcode formats and prepares data for sparse matrix conversion, focusing on highly variable windows.\n",
    "- Sparse Matrices Creation: Merges sample matrices into one sparse matrix, handling missing data.\n",
    "- Seurat Object Creation: Constructs a chromatin assay and a Seurat object, annotating it with sample metadata.\n",
    "- Data Analysis: Executes TF-IDF and SVD for dimensionality reduction, uses Harmony for batch effect correction, and performs UMAP for visualization and clustering.\n",
    "- Quality Control and Visualization: Adds QC metrics to the Seurat object and generates various plots for data exploration.\n",
    "- Final Steps: Saves the Seurat object and produces plots to analyze cell distribution across samples and clusters.\n",
    "\n",
    "**Key aspects include data integration, dimensionality reduction, batch effect correction, and advanced visualization to identify distinct cell populations within ATAC-seq data.**"
   ]
  },
  {
   "cell_type": "markdown",
   "id": "318f3a10",
   "metadata": {},
   "source": [
    "### Environment Setup"
   ]
  },
  {
   "cell_type": "code",
   "execution_count": null,
   "id": "66898bad",
   "metadata": {
    "scrolled": true
   },
   "outputs": [],
   "source": [
    "#source activate newEnv\n",
    "suppressMessages(library(hdf5r)) \n",
    "suppressMessages(library(Seurat))\n",
    "suppressMessages(library(Signac))\n",
    "suppressMessages(library(EnsDb.Hsapiens.v86))\n",
    "suppressMessages(library(dplyr))\n",
    "suppressMessages(library(ggplot2))\n",
    "suppressMessages(library(Matrix))\n",
    "suppressMessages(library(harmony))\n",
    "suppressMessages(library(data.table))\n",
    "suppressMessages(library(ggpubr))\n",
    "suppressMessages(library(future))\n",
    "library(dplyr)\n",
    "library(Seurat)\n",
    "library(ggplot2)\n",
    "library(sctransform)\n",
    "library(scater)\n",
    "library(reticulate)\n",
    "library(future)\n",
    "library('Biobase')\n",
    "library(pheatmap)\n",
    "library(gplots)\n",
    "library('hdf5r')\n",
    "library(EnsDb.Hsapiens.v86)\n",
    "library(BiocParallel)\n",
    "library(tictoc)\n",
    "library(Seurat)\n",
    "library(Signac)\n",
    "library(EnsDb.Hsapiens.v86)\n",
    "library(ggplot2)\n",
    "library(cowplot)\n",
    "library(\"Signac\")"
   ]
  },
  {
   "cell_type": "code",
   "execution_count": null,
   "id": "e179c126",
   "metadata": {
    "scrolled": true
   },
   "outputs": [],
   "source": [
    "BiocManager::install(\"Bioconductor/GenomeInfoDb\",lib = \"/home/parulk/R/x86_64-pc-linux-gnu-library/4.1\",force = TRUE)"
   ]
  },
  {
   "cell_type": "code",
   "execution_count": null,
   "id": "3a94462c",
   "metadata": {},
   "outputs": [],
   "source": [
    "library(GenomeInfoDb,lib.loc=\"/home/parulk/R/x86_64-pc-linux-gnu-library/4.1\")"
   ]
  },
  {
   "cell_type": "code",
   "execution_count": null,
   "id": "9e088ef6",
   "metadata": {},
   "outputs": [],
   "source": [
    "packageVersion(\"GenomeInfoDb\",lib.loc=\"/home/parulk/R/x86_64-pc-linux-gnu-library/4.1\")"
   ]
  },
  {
   "cell_type": "code",
   "execution_count": null,
   "id": "7734e078",
   "metadata": {
    "scrolled": true
   },
   "outputs": [],
   "source": [
    "GenomeInfoDb::getChromInfoFromUCSC(\"hg38\")"
   ]
  },
  {
   "cell_type": "markdown",
   "id": "d8dc2688",
   "metadata": {},
   "source": [
    "# Upstream analysis"
   ]
  },
  {
   "cell_type": "markdown",
   "id": "6b26054a",
   "metadata": {},
   "source": []
  },
  {
   "cell_type": "markdown",
   "id": "a8160925",
   "metadata": {},
   "source": [
    "### Read in the  window  lfm from joshs pipeline 5K default\n",
    "### First read in 4-6 samples to get HVWs\n"
   ]
  },
  {
   "cell_type": "code",
   "execution_count": null,
   "id": "7265d9f0",
   "metadata": {},
   "outputs": [],
   "source": [
    "samples <- c('HPAP-035','HPAP-051', 'HPAP-055', 'HPAP-061', 'HPAP-062')\n"
   ]
  },
  {
   "cell_type": "markdown",
   "id": "4972dc46",
   "metadata": {},
   "source": [
    "### Read in long fmt mtx V1 should be windows, V2 should be barcodes"
   ]
  },
  {
   "cell_type": "code",
   "execution_count": null,
   "id": "d8de4d37",
   "metadata": {
    "scrolled": true
   },
   "outputs": [],
   "source": [
    "#### READ IN JOSHS MATRICES\n",
    "#read in ATAC data from the lfm matrices (sm workaround method for now)\n",
    "# load in starting ATAC long format matrices to a list \n",
    "atacs_OG <- list()\n",
    "atacs_FINAL <- list()\n",
    "\n",
    "for (sample in samples) {\n",
    "    #print(sample)\n",
    "    wd <- sprintf('/nfs/lab/parulk/HPAP_scATAC/lfm1')\n",
    "    atacs_OG[[sample]] <- read.table(file.path(wd, sprintf('/%s.long_fmt_mtx.txt.gz',sample)), sep='\\t', header=FALSE, stringsAsFactors=FALSE)\n",
    "    #atacs_OG[[sample]]$V1 <- as.factor(atacs_OG[[sample]]$V1)\n",
    "    #atacs_OG[[sample]]$V2 <- as.factor(atacs_OG[[sample]]$V2)\n",
    "    atacs_FINAL[[sample]] <- read.table(file.path(wd, sprintf('/%s.long_fmt_mtx.txt.gz',sample)), sep='\\t', header=FALSE, stringsAsFactors=FALSE)\n",
    "    atacs_FINAL[[sample]]$V1 <- as.factor(atacs_OG[[sample]]$V2)\n",
    "    atacs_FINAL[[sample]]$V2 <- as.factor(atacs_OG[[sample]]$V1)\n",
    "    atacs_OG[[sample]] <- NULL\n",
    "    #atacs_FINAL[[sample]] <- atacs_FINAL[[sample]][atacs_FINAL[[sample]]$V2 %in% good,]\n",
    "}"
   ]
  },
  {
   "cell_type": "code",
   "execution_count": null,
   "id": "c5b0aff5",
   "metadata": {},
   "outputs": [],
   "source": [
    "atac_mod <- atacs_FINAL\n",
    "head(atac_mod)"
   ]
  },
  {
   "cell_type": "code",
   "execution_count": null,
   "id": "770aec68",
   "metadata": {
    "scrolled": true
   },
   "outputs": [],
   "source": [
    "#### ADD '-1' TO THE BARCODES FROM JOSHS MATRICES \n",
    "# THIS IS ALL BECAUSE THE FRAGMENT FILE FROM CELLRANGER IS IN THIS FORMAT AND SEURAT NEEDS THEM TO MATCH\n",
    "atac_mod$`HPAP-035`$V2 <- paste0(atac_mod$`HPAP-035`$V2, \"-1\")\n",
    "atac_mod$`HPAP-051`$V2 <- paste0(atac_mod$`HPAP-051`$V2, \"-1\")\n",
    "atac_mod$`HPAP-055`$V2 <- paste0(atac_mod$`HPAP-055`$V2, \"-1\")\n",
    "atac_mod$`HPAP-061`$V2 <- paste0(atac_mod$`HPAP-061`$V2, \"-1\")\n",
    "atac_mod$`HPAP-062`$V2 <- paste0(atac_mod$`HPAP-062`$V2, \"-1\")"
   ]
  },
  {
   "cell_type": "markdown",
   "id": "cd839a67",
   "metadata": {},
   "source": [
    "### Read in windows file from pipeline for initial run, but replace with HVWs file afterwards"
   ]
  },
  {
   "cell_type": "code",
   "execution_count": null,
   "id": "e12d4894",
   "metadata": {},
   "outputs": [],
   "source": [
    "### GRAB THE WINDOWS FILE FROM JOSH'S PIPELINE \n",
    "#read in the HVWs set, we'll cut down all samples to be these windows\n",
    "hvw_fp2 <- '/nfs/lab/parulk/HPAP_scATAC/lfm1/windows_modified.txt'\n",
    "hvws2 <- scan(hvw_fp2, what=\"\", sep=\"\\n\")\n",
    "print(head(hvws2))\n",
    "\n",
    "#sort alphanumerically\n",
    "hvws_fin2 <- sort(hvws2)\n",
    "print(head(hvws_fin2))"
   ]
  },
  {
   "cell_type": "code",
   "execution_count": null,
   "id": "ba144dd9",
   "metadata": {},
   "outputs": [],
   "source": [
    "#function which takes in a list of long format atac_fragment dfs with \n",
    "#sample names (df), an overall windows file (windows) and then makes these \n",
    "#into sparse matrices and merges them together\n",
    "\n",
    "#modified to take in the hvws set and use those... will still check if \n",
    "#there's any missing windows and add those, so only a few changes!\n",
    "\n",
    "merge_sparse_matrices_hvws <- function(dfs, windows){\n",
    "    samples <- names(dfs)\n",
    "    for (sample in samples){\n",
    "        #get missing windows list for this sample\n",
    "        print(paste(sample,Sys.time(),sep=': '))\n",
    "        df <- dfs[[sample]]\n",
    "        mis_windows <- windows[!windows %in% levels(df$V1)]\n",
    "        \n",
    "        #make sure there are missing_windows\n",
    "        if (length(mis_windows) > 0){\n",
    "            print('Adding missing windows')\n",
    "            #create a new long format matrix (sm) with the missing windows added as 0 counts\n",
    "            filler_bc <- as.character(df$V2[[1]])\n",
    "            print(paste(\"Using filler BC:\",filler_bc,sep=\" \"))\n",
    "            new_rows <- cbind(as.data.frame(mis_windows),\n",
    "                              as.data.frame(rep(filler_bc),length(mis_windows)),\n",
    "                              as.data.frame(rep(0,length(mis_windows))))\n",
    "            colnames(new_rows) <- c(\"V1\",\"V2\",\"V3\")\n",
    "            lfm <- rbind(df,new_rows)\n",
    "        #if there aren't, set lfm to df\n",
    "        } else {\n",
    "            print('No windows were missing')\n",
    "            lfm <- df\n",
    "        }\n",
    "        \n",
    "        #cut down lfm to just be the hvws (windows)\n",
    "        lfm_cut <- lfm[lfm$V1 %in% windows,]\n",
    "        \n",
    "        #cut down barcodes to keep those in final set \n",
    "        #lfm_cut <- lfm_cut[lfm_cut$V2 %in% good,]\n",
    "        #lfm_cut <- lfm[,lfm$V2 %in% good]\n",
    "        #atacs_FINAL[[sample]] <- atacs_FINAL[[sample]][atacs_FINAL[[sample]]$V2 %in% good,]\n",
    "        #set the levels of the lfm based on the desired bc order and reorder V1\n",
    "        lfm_cut$V1 <- factor(lfm_cut$V1, levels=windows)\n",
    "        lfm2 <- lfm_cut[order(lfm_cut$V1),]\n",
    "        lfm2$V2 <- as.factor(lfm2$V2)\n",
    "        \n",
    "        if (sample == samples[1]){\n",
    "            #if first sample, will make the overall sparse matrix \n",
    "            overall_sm <- with(lfm2,sparseMatrix(i=as.numeric(V1), j=as.numeric(V2), x=V3, dimnames=list(levels(V1), levels(V2))))\n",
    "            print(dim(overall_sm))\n",
    "            \n",
    "        } else {\n",
    "            #lfm2 <- lfm2[lfm2$V2 %in% good,]\n",
    "\n",
    "            #otherwise, convert into a sparse matrix and add to the overall one\n",
    "            sm = with(lfm2,sparseMatrix(i=as.numeric(V1), j=as.numeric(V2), x=V3, dimnames=list(levels(V1), levels(V2))))\n",
    "            print(dim(sm))\n",
    "            overall_sm = cbind(overall_sm, sm) \n",
    "        }\n",
    "    }\n",
    "    return(overall_sm)\n",
    "}"
   ]
  },
  {
   "cell_type": "code",
   "execution_count": null,
   "id": "a9d9f766",
   "metadata": {
    "scrolled": true
   },
   "outputs": [],
   "source": [
    "overall_sm2 <- merge_sparse_matrices_hvws(atac_mod,hvws_fin2)\n",
    "dim(overall_sm2)\n",
    "head(overall_sm2)"
   ]
  },
  {
   "cell_type": "code",
   "execution_count": null,
   "id": "929a12c0",
   "metadata": {},
   "outputs": [],
   "source": [
    "#check if the windows of overall_sm are sorted (they should be)\n",
    "sorted_windows2 <- sort(row.names(overall_sm2))\n",
    "table(sorted_windows2 == row.names(overall_sm2))"
   ]
  },
  {
   "cell_type": "code",
   "execution_count": null,
   "id": "a57feebb",
   "metadata": {},
   "outputs": [],
   "source": [
    "## atac == giant matrix of barcodes by highly varibale windows\n",
    "atac <- overall_sm2\n"
   ]
  },
  {
   "cell_type": "code",
   "execution_count": null,
   "id": "944e95f3",
   "metadata": {
    "scrolled": false
   },
   "outputs": [],
   "source": [
    "#continue to make Seurat compatible object\n",
    "suppressMessages(annotations <- GetGRangesFromEnsDb(ensdb=EnsDb.Hsapiens.v86))\n",
    "seqlevelsStyle(annotations) <- \"UCSC\"\n",
    "genome(annotations) <- 'hg38'\n"
   ]
  },
  {
   "cell_type": "markdown",
   "id": "8b623e8f",
   "metadata": {},
   "source": [
    "### Create the merged fragment file for the 4-6 samples <br>\n",
    "<code>for SAMPLE in HPAP-035 HPAP-051 HPAP-055 HPAP-061 HPAP-062 ; do zcat /nfs/lab/projects/multiomic_islet/data/hpap/atac/${SAMPLE}/Upenn_scATACseq/cellranger_RME/${SAMPLE}/outs/fragments.tsv.gz | awk -v SAMPLE=$SAMPLE \\ 'BEGIN{FS=OFS=\"\\t\"} {print $1,$2,$3,SAMPLE\"_\"$4,$5}'; done | sort -k1,1 -k2,2n -S 64G | bgzip -c -@ 16 > /nfs/lab/parulk/HPAP_scATAC/merged_HPAP-035_HPAP-051_HPAP-055_HPAP-061_HPAP-062.bed.gz\n",
    "zcat merged_HPAP-035_HPAP-051_HPAP-055_HPAP-061_HPAP-062.bed.gz | grep -v '^#' > merged_HPAP-035_HPAP-051_HPAP-055_HPAP-061_HPAP-062-new.bed\n",
    "gzip merged_HPAP-035_HPAP-051_HPAP-055_HPAP-061_HPAP-062-new.bed\n",
    "\n",
    "tabix -p bed /nfs/lab/parulk/HPAP_scATAC/merged_HPAP-035_HPAP-051_HPAP-055_HPAP-061_HPAP-062-new.bed.gz </code>\n",
    "<br> pass the path to the fragment.tsv from cellranger <br>"
   ]
  },
  {
   "cell_type": "code",
   "execution_count": null,
   "id": "e3e68d29",
   "metadata": {
    "scrolled": true
   },
   "outputs": [],
   "source": [
    "head(atac)"
   ]
  },
  {
   "cell_type": "code",
   "execution_count": null,
   "id": "8e8cf191",
   "metadata": {
    "scrolled": true
   },
   "outputs": [],
   "source": [
    "frag.file ='/nfs/lab/parulk/HPAP_scATAC/merged_HPAP-035_HPAP-051_HPAP-055_HPAP-061_HPAP-062-new.bed.gz'\n",
    "head(frag.file)"
   ]
  },
  {
   "cell_type": "code",
   "execution_count": null,
   "id": "d88c4483",
   "metadata": {
    "scrolled": true
   },
   "outputs": [],
   "source": [
    "atac_assay <- CreateChromatinAssay(counts=atac, sep=c(':', '-'), genome='hg38', fragments=frag.file, min.cells=0, min.features=-1, annotation=annotations)\n",
    "head(atac_assay)"
   ]
  },
  {
   "cell_type": "code",
   "execution_count": null,
   "id": "9143b4ab",
   "metadata": {},
   "outputs": [],
   "source": [
    "head(atac_assay)"
   ]
  },
  {
   "cell_type": "code",
   "execution_count": null,
   "id": "04977850",
   "metadata": {},
   "outputs": [],
   "source": [
    "Atac <-CreateSeuratObject(atac_assay, project = \"HPAP\", assay = \"ATAC_windows\",\n",
    "  min.cells = 0, min.features = 0, names.field = 2,\n",
    "  names.delim = \"_\")\n",
    "head(Atac)\n",
    "str(Atac)"
   ]
  },
  {
   "cell_type": "code",
   "execution_count": null,
   "id": "8f59d88c",
   "metadata": {},
   "outputs": [],
   "source": [
    "### Since our sampleIDs are structured HPAP- we cut off the barcode bit of each row and store as the library\n",
    "Atac$library <- gsub('.{23}$', '', rownames(Atac@meta.data))\n",
    "head(Atac$library)"
   ]
  },
  {
   "cell_type": "code",
   "execution_count": null,
   "id": "f669cb09",
   "metadata": {},
   "outputs": [],
   "source": [
    "### add whatever metadata for harmony\n",
    "sex_F = list('HPAP-051', 'HPAP-062')\n",
    "cond_t1d = list('HPAP-055')\n",
    "cond_t2d = list('HPAP-051', 'HPAP-061', 'HPAP-062')\n",
    "cond_ctrl = list('HPAP-035')           \n",
    "\n",
    "\n",
    "\n",
    "\n",
    "Atac@meta.data$sex[Atac@meta.data$library %in% sex_F] <- 'F'\n",
    "Atac@meta.data$sex[!Atac@meta.data$library %in% sex_F] <- 'M'\n",
    "\n",
    "Atac@meta.data$condition[Atac@meta.data$library %in% cond_t1d] <- 'T1D'\n",
    "Atac@meta.data$condition[Atac@meta.data$library %in% cond_t2d] <- 'T2D'\n",
    "Atac@meta.data$condition[Atac@meta.data$library %in% cond_ctrl] <- 'Control'\n",
    "head(Atac@meta.data)\n",
    "head(Atac@meta.data$condition)\n",
    "head(Atac@meta.data$sex)"
   ]
  },
  {
   "cell_type": "code",
   "execution_count": null,
   "id": "f914ae22",
   "metadata": {},
   "outputs": [],
   "source": [
    "#### I save everything up to here because Seurat likes to crash and its annoying to re do everything\n",
    "\n",
    "saveRDS(Atac, file='/nfs/lab/parulk/HPAP_scATAC/HVW.rds')\n",
    "\n"
   ]
  },
  {
   "cell_type": "code",
   "execution_count": null,
   "id": "52db2886",
   "metadata": {
    "scrolled": true
   },
   "outputs": [],
   "source": [
    "### For questions google Signac : https://satijalab.org/signac/index.html"
   ]
  },
  {
   "cell_type": "code",
   "execution_count": null,
   "id": "dc3ae1a3",
   "metadata": {},
   "outputs": [],
   "source": [
    "Atac <- readRDS('/nfs/lab/parulk/HPAP_scATAC/HVW.rds')\n",
    "head(Atac[['ATAC_windows']][])"
   ]
  },
  {
   "cell_type": "code",
   "execution_count": null,
   "id": "df3c6c11",
   "metadata": {
    "scrolled": true
   },
   "outputs": [],
   "source": [
    "DefaultAssay(Atac) <- 'ATAC_windows'\n",
    "Atac <- RunTFIDF(Atac)\n",
    "hvw1 <- FindTopFeatures(object = Atac[['ATAC_windows']][], min.cutoff = \"q9\")\n",
    "hvw1_cut <- hvw1[seq(1,50000),]\n",
    "hvw1_fin <- row.names(hvw1_cut) #write this out to a file in the correct format!\n",
    "head(hvw1_fin)\n",
    "write.table(hvw1_fin, file = \"hvw1_fin\", sep = \"\\t\",\n",
    "            row.names = FALSE)\n",
    "#Atac <- FindTopFeatures(Atac, min.cutoff='q0', verbose=FALSE)\n",
    "\n",
    "### At this point you can save out the HVWs for 4-6 samples\n",
    "### then restart the notebook from the top with all the samples\n",
    "\n",
    "colnames(hvw1)"
   ]
  },
  {
   "cell_type": "code",
   "execution_count": null,
   "id": "2c2af2ec",
   "metadata": {},
   "outputs": [],
   "source": [
    "hvw1"
   ]
  },
  {
   "cell_type": "code",
   "execution_count": null,
   "id": "47322bf7",
   "metadata": {},
   "outputs": [],
   "source": [
    "write.table(hvw1_fin, file = \"/nfs/lab/parulk/HPAP_scATAC/hvw_fin\", sep = \"\\t\",\n",
    "            row.names = FALSE)"
   ]
  },
  {
   "cell_type": "code",
   "execution_count": null,
   "id": "d025a37e",
   "metadata": {},
   "outputs": [],
   "source": []
  },
  {
   "cell_type": "markdown",
   "id": "2fd66c14",
   "metadata": {},
   "source": [
    "### STOP HERE FOR INITIAL 4-6 SAMPLE RUN\n",
    "#### SAVE OUT HVWs AND RESTART FROM THE TOP WITH ALL THE SAMPLES "
   ]
  },
  {
   "cell_type": "code",
   "execution_count": null,
   "id": "c5362b8c",
   "metadata": {},
   "outputs": [],
   "source": [
    "samples <- c('HPAP-035', 'HPAP-036', 'HPAP-039', 'HPAP-040', 'HPAP-044', 'HPAP-045', 'HPAP-047', 'HPAP-049', 'HPAP-050', 'HPAP-051', 'HPAP-052', 'HPAP-053', 'HPAP-054', 'HPAP-055', 'HPAP-056', 'HPAP-059', 'HPAP-061', 'HPAP-062', 'HPAP-063', 'HPAP-064', 'HPAP-067', 'HPAP-069', 'HPAP-072', 'HPAP-075', 'HPAP-077', 'HPAP-079', 'HPAP-080', 'HPAP-081', 'HPAP-083', 'HPAP-084', 'HPAP-085', 'HPAP-088', 'HPAP-092', 'HPAP-099', 'HPAP-100', 'HPAP-101', 'HPAP-103', 'HPAP-104', 'HPAP-105', 'HPAP-106', 'HPAP-109')\n"
   ]
  },
  {
   "cell_type": "code",
   "execution_count": null,
   "id": "0c63191c",
   "metadata": {
    "scrolled": true
   },
   "outputs": [],
   "source": [
    "#### READ IN JOSHS MATRICES\n",
    "#read in ATAC data from the lfm matrices (sm workaround method for now)\n",
    "# load in starting ATAC long format matrices to a list \n",
    "atacs_OG <- list()\n",
    "atacs_FINAL <- list()\n",
    "\n",
    "for (sample in samples) {\n",
    "    #print(sample)\n",
    "    wd <- sprintf('/nfs/lab/parulk/HPAP_scATAC/lfm1', sample)\n",
    "    atacs_OG[[sample]] <- read.table(file.path(wd, sprintf('/%s.long_fmt_mtx.txt.gz',sample)), sep='\\t', header=FALSE, stringsAsFactors=FALSE)\n",
    "    #atacs_OG[[sample]]$V1 <- as.factor(atacs_OG[[sample]]$V1)\n",
    "    #atacs_OG[[sample]]$V2 <- as.factor(atacs_OG[[sample]]$V2)\n",
    "    atacs_FINAL[[sample]] <- read.table(file.path(wd, sprintf('/%s.long_fmt_mtx.txt.gz',sample)), sep='\\t', header=FALSE, stringsAsFactors=FALSE)\n",
    "    atacs_FINAL[[sample]]$V1 <- as.factor(atacs_OG[[sample]]$V2)\n",
    "    atacs_FINAL[[sample]]$V2 <- as.factor(atacs_OG[[sample]]$V1)\n",
    "    atacs_OG[[sample]] <- NULL\n",
    "    #atacs_FINAL[[sample]] <- atacs_FINAL[[sample]][atacs_FINAL[[sample]]$V2 %in% good,]\n",
    "}"
   ]
  },
  {
   "cell_type": "code",
   "execution_count": null,
   "id": "320a9ebf",
   "metadata": {},
   "outputs": [],
   "source": [
    "atac_mod <- atacs_FINAL\n",
    "head(atac_mod)"
   ]
  },
  {
   "cell_type": "code",
   "execution_count": null,
   "id": "5f5fc435",
   "metadata": {},
   "outputs": [],
   "source": [
    "#### ADD '-1' TO THE BARCODES FROM JOSHS MATRICES \n",
    "# THIS IS ALL BECAUSE THE FRAGMENT FILE FROM CELLRANGER IS IN THIS FORMAT AND SEURAT NEEDS THEM TO MATCH\n",
    "atac_mod$`HPAP-035`$V2 <- paste0(atac_mod$`HPAP-035`$V2, \"-1\")\n",
    "atac_mod$`HPAP-036`$V2 <- paste0(atac_mod$`HPAP-036`$V2, \"-1\")\n",
    "atac_mod$`HPAP-039`$V2 <- paste0(atac_mod$`HPAP-039`$V2, \"-1\")\n",
    "atac_mod$`HPAP-040`$V2 <- paste0(atac_mod$`HPAP-040`$V2, \"-1\")\n",
    "atac_mod$`HPAP-044`$V2 <- paste0(atac_mod$`HPAP-044`$V2, \"-1\")\n",
    "atac_mod$`HPAP-045`$V2 <- paste0(atac_mod$`HPAP-045`$V2, \"-1\")\n",
    "atac_mod$`HPAP-047`$V2 <- paste0(atac_mod$`HPAP-047`$V2, \"-1\")\n",
    "atac_mod$`HPAP-049`$V2 <- paste0(atac_mod$`HPAP-049`$V2, \"-1\")\n",
    "atac_mod$`HPAP-050`$V2 <- paste0(atac_mod$`HPAP-050`$V2, \"-1\")\n",
    "atac_mod$`HPAP-051`$V2 <- paste0(atac_mod$`HPAP-051`$V2, \"-1\")\n",
    "atac_mod$`HPAP-052`$V2 <- paste0(atac_mod$`HPAP-052`$V2, \"-1\")\n",
    "atac_mod$`HPAP-053`$V2 <- paste0(atac_mod$`HPAP-053`$V2, \"-1\")\n",
    "atac_mod$`HPAP-054`$V2 <- paste0(atac_mod$`HPAP-054`$V2, \"-1\")\n",
    "atac_mod$`HPAP-055`$V2 <- paste0(atac_mod$`HPAP-055`$V2, \"-1\")\n",
    "atac_mod$`HPAP-056`$V2 <- paste0(atac_mod$`HPAP-056`$V2, \"-1\")\n",
    "atac_mod$`HPAP-059`$V2 <- paste0(atac_mod$`HPAP-059`$V2, \"-1\")\n",
    "atac_mod$`HPAP-061`$V2 <- paste0(atac_mod$`HPAP-061`$V2, \"-1\")\n",
    "atac_mod$`HPAP-062`$V2 <- paste0(atac_mod$`HPAP-062`$V2, \"-1\")\n",
    "atac_mod$`HPAP-063`$V2 <- paste0(atac_mod$`HPAP-063`$V2, \"-1\")\n",
    "atac_mod$`HPAP-064`$V2 <- paste0(atac_mod$`HPAP-064`$V2, \"-1\")\n",
    "atac_mod$`HPAP-067`$V2 <- paste0(atac_mod$`HPAP-067`$V2, \"-1\")\n",
    "atac_mod$`HPAP-069`$V2 <- paste0(atac_mod$`HPAP-069`$V2, \"-1\")\n",
    "atac_mod$`HPAP-072`$V2 <- paste0(atac_mod$`HPAP-072`$V2, \"-1\")\n",
    "atac_mod$`HPAP-075`$V2 <- paste0(atac_mod$`HPAP-075`$V2, \"-1\")\n",
    "atac_mod$`HPAP-077`$V2 <- paste0(atac_mod$`HPAP-077`$V2, \"-1\")\n",
    "atac_mod$`HPAP-079`$V2 <- paste0(atac_mod$`HPAP-079`$V2, \"-1\")\n",
    "atac_mod$`HPAP-080`$V2 <- paste0(atac_mod$`HPAP-080`$V2, \"-1\")\n",
    "atac_mod$`HPAP-081`$V2 <- paste0(atac_mod$`HPAP-081`$V2, \"-1\")\n",
    "atac_mod$`HPAP-083`$V2 <- paste0(atac_mod$`HPAP-083`$V2, \"-1\")\n",
    "atac_mod$`HPAP-084`$V2 <- paste0(atac_mod$`HPAP-084`$V2, \"-1\")\n",
    "atac_mod$`HPAP-085`$V2 <- paste0(atac_mod$`HPAP-085`$V2, \"-1\")\n",
    "atac_mod$`HPAP-088`$V2 <- paste0(atac_mod$`HPAP-088`$V2, \"-1\")\n",
    "atac_mod$`HPAP-092`$V2 <- paste0(atac_mod$`HPAP-092`$V2, \"-1\")\n",
    "atac_mod$`HPAP-099`$V2 <- paste0(atac_mod$`HPAP-099`$V2, \"-1\")\n",
    "atac_mod$`HPAP-100`$V2 <- paste0(atac_mod$`HPAP-100`$V2, \"-1\")\n",
    "atac_mod$`HPAP-101`$V2 <- paste0(atac_mod$`HPAP-101`$V2, \"-1\")\n",
    "atac_mod$`HPAP-103`$V2 <- paste0(atac_mod$`HPAP-103`$V2, \"-1\")\n",
    "atac_mod$`HPAP-104`$V2 <- paste0(atac_mod$`HPAP-104`$V2, \"-1\")\n",
    "atac_mod$`HPAP-105`$V2 <- paste0(atac_mod$`HPAP-105`$V2, \"-1\")\n",
    "atac_mod$`HPAP-106`$V2 <- paste0(atac_mod$`HPAP-106`$V2, \"-1\")\n",
    "atac_mod$`HPAP-109`$V2 <- paste0(atac_mod$`HPAP-109`$V2, \"-1\")"
   ]
  },
  {
   "cell_type": "code",
   "execution_count": null,
   "id": "8fd4f9c4",
   "metadata": {},
   "outputs": [],
   "source": [
    "#read in the HVWs set, we'll cut down all samples to be these windows some basic formatting awk -F'\\t' '{print $1,\":\",$2,\"-\",$3}' hvw_fin > hvw.txt\n",
    "hvw_fp2 <- '/nfs/lab/parulk/HPAP_scATAC/hvw.txt'\n",
    "hvws2 <- scan(hvw_fp2, what=\"\", sep=\"\\n\")\n",
    "print(head(hvws2))\n",
    "\n",
    "#sort alphanumerically\n",
    "hvws_fin2 <- sort(hvws2)\n",
    "print(head(hvws_fin2))"
   ]
  },
  {
   "cell_type": "code",
   "execution_count": null,
   "id": "209417cf",
   "metadata": {},
   "outputs": [],
   "source": [
    "#function which takes in a list of long format atac_fragment dfs with \n",
    "#sample names (df), an overall windows file (windows) and then makes these \n",
    "#into sparse matrices and merges them together\n",
    "\n",
    "#modified to take in the hvws set and use those... will still check if \n",
    "#there's any missing windows and add those, so only a few changes!\n",
    "\n",
    "merge_sparse_matrices_hvws <- function(dfs, windows){\n",
    "    samples <- names(dfs)\n",
    "    for (sample in samples){\n",
    "        #get missing windows list for this sample\n",
    "        print(paste(sample,Sys.time(),sep=': '))\n",
    "        df <- dfs[[sample]]\n",
    "        mis_windows <- windows[!windows %in% levels(df$V1)]\n",
    "        \n",
    "        #make sure there are missing_windows\n",
    "        if (length(mis_windows) > 0){\n",
    "            print('Adding missing windows')\n",
    "            #create a new long format matrix (sm) with the missing windows added as 0 counts\n",
    "            filler_bc <- as.character(df$V2[[1]])\n",
    "            print(paste(\"Using filler BC:\",filler_bc,sep=\" \"))\n",
    "            new_rows <- cbind(as.data.frame(mis_windows),\n",
    "                              as.data.frame(rep(filler_bc),length(mis_windows)),\n",
    "                              as.data.frame(rep(0,length(mis_windows))))\n",
    "            colnames(new_rows) <- c(\"V1\",\"V2\",\"V3\")\n",
    "            lfm <- rbind(df,new_rows)\n",
    "        #if there aren't, set lfm to df\n",
    "        } else {\n",
    "            print('No windows were missing')\n",
    "            lfm <- df\n",
    "        }\n",
    "        \n",
    "        #cut down lfm to just be the hvws (windows)\n",
    "        lfm_cut <- lfm[lfm$V1 %in% windows,]\n",
    "        \n",
    "        #cut down barcodes to keep those in final set \n",
    "        #lfm_cut <- lfm_cut[lfm_cut$V2 %in% good,]\n",
    "        #lfm_cut <- lfm[,lfm$V2 %in% good]\n",
    "        #atacs_FINAL[[sample]] <- atacs_FINAL[[sample]][atacs_FINAL[[sample]]$V2 %in% good,]\n",
    "        #set the levels of the lfm based on the desired bc order and reorder V1\n",
    "        lfm_cut$V1 <- factor(lfm_cut$V1, levels=windows)\n",
    "        lfm2 <- lfm_cut[order(lfm_cut$V1),]\n",
    "        lfm2$V2 <- as.factor(lfm2$V2)\n",
    "        \n",
    "        if (sample == samples[1]){\n",
    "            #if first sample, will make the overall sparse matrix \n",
    "            overall_sm <- with(lfm2,sparseMatrix(i=as.numeric(V1), j=as.numeric(V2), x=V3, dimnames=list(levels(V1), levels(V2))))\n",
    "            print(dim(overall_sm))\n",
    "            \n",
    "        } else {\n",
    "            #lfm2 <- lfm2[lfm2$V2 %in% good,]\n",
    "\n",
    "            #otherwise, convert into a sparse matrix and add to the overall one\n",
    "            sm = with(lfm2,sparseMatrix(i=as.numeric(V1), j=as.numeric(V2), x=V3, dimnames=list(levels(V1), levels(V2))))\n",
    "            print(dim(sm))\n",
    "            overall_sm = cbind(overall_sm, sm) \n",
    "        }\n",
    "    }\n",
    "    return(overall_sm)\n",
    "}"
   ]
  },
  {
   "cell_type": "code",
   "execution_count": null,
   "id": "68237bde",
   "metadata": {},
   "outputs": [],
   "source": [
    "overall_sm2 <- merge_sparse_matrices_hvws(atac_mod,hvws_fin2)\n",
    "dim(overall_sm2)\n",
    "overall_sm2"
   ]
  },
  {
   "cell_type": "code",
   "execution_count": null,
   "id": "ac9fd1ae",
   "metadata": {},
   "outputs": [],
   "source": [
    "#check if the windows of overall_sm are sorted (they should be)\n",
    "sorted_windows2 <- sort(row.names(overall_sm2))\n",
    "table(sorted_windows2 == row.names(overall_sm2))"
   ]
  },
  {
   "cell_type": "code",
   "execution_count": null,
   "id": "8e8afc88",
   "metadata": {},
   "outputs": [],
   "source": [
    "## atac == giant matrix of barcodes by highly varibale windows\n",
    "atac <- overall_sm2"
   ]
  },
  {
   "cell_type": "code",
   "execution_count": null,
   "id": "6997e6c8",
   "metadata": {},
   "outputs": [],
   "source": [
    "#continue to make Seurat compatible object\n",
    "suppressMessages(annotations <- GetGRangesFromEnsDb(ensdb=EnsDb.Hsapiens.v86))\n",
    "seqlevelsStyle(annotations) <- 'UCSC'\n",
    "genome(annotations) <- 'hg38'\n"
   ]
  },
  {
   "cell_type": "code",
   "execution_count": null,
   "id": "aa703f14",
   "metadata": {},
   "outputs": [],
   "source": [
    "head(atac_mod)"
   ]
  },
  {
   "cell_type": "markdown",
   "id": "dc954ba3",
   "metadata": {},
   "source": [
    "### Create the merged fragment file for the 4-6 samples\n",
    "\n",
    "<code>for SAMPLE in HPAP-035 HPAP-036 HPAP-039 HPAP-040 HPAP-044 HPAP-045 HPAP-047 HPAP-049 HPAP-050 HPAP-051 HPAP-052 HPAP-053 HPAP-054 HPAP-055 HPAP-056 HPAP-059 HPAP-061 HPAP-062 HPAP-063 HPAP-064 HPAP-067 HPAP-069 HPAP-072 HPAP-075 HPAP-077 HPAP-079 HPAP-080 HPAP-081 HPAP-083 HPAP-084 HPAP-085 HPAP-088 HPAP-092 HPAP-099 HPAP-100 HPAP-101 HPAP-103 HPAP-104 HPAP-105 HPAP-106 HPAP-109 ; do zcat /nfs/lab/hpap_data/atac/${SAMPLE}/Upenn_scATACseq/cellranger_RME/${SAMPLE}/outs/fragments.tsv.gz | awk -v SAMPLE=$SAMPLE \\ 'BEGIN{FS=OFS=\"\\t\"} {print $1,$2,$3,SAMPLE\"_\"$4,$5}'; done | sort -k1,1 -k2,2n -S 64G | bgzip -c -@ 16 > /nfs/lab/parulk/HPAP_scATAC/merged_samples.bed.gz</code>\n",
    "\n",
    "<code>zcat merged_samples.bed.gz | grep -v '^#' > merged_samples-new.bed</code>\n",
    "\n",
    "<code>bgzip -c merged_samples-new.bed > merged_samples-new.bed.gz</code>\n",
    "\n",
    "<code>tabix -p bed merged_samples-new.bed.gz</code>\n"
   ]
  },
  {
   "cell_type": "code",
   "execution_count": null,
   "id": "e924f223",
   "metadata": {},
   "outputs": [],
   "source": [
    "frag.file ='/nfs/lab/parulk/HPAP_scATAC/merged_samples-new.bed.gz'"
   ]
  },
  {
   "cell_type": "code",
   "execution_count": null,
   "id": "b1976af5",
   "metadata": {},
   "outputs": [],
   "source": [
    "atac_assay <- CreateChromatinAssay(counts=atac, sep=c(':', '-'), genome='hg38', fragments=frag.file, min.cells=0, min.features=-1, annotation=annotations)\n",
    "head(atac_assay)"
   ]
  },
  {
   "cell_type": "code",
   "execution_count": null,
   "id": "2892ad55",
   "metadata": {},
   "outputs": [],
   "source": [
    "Atac <-CreateSeuratObject(atac_assay, project = \"HPAP\", assay = \"ATAC_windows\",\n",
    "  min.cells = 0, min.features = 0, names.field = 2,\n",
    "  names.delim = \"_\")\n",
    "head(Atac)\n",
    "str(Atac)"
   ]
  },
  {
   "cell_type": "code",
   "execution_count": null,
   "id": "ec10db2b",
   "metadata": {},
   "outputs": [],
   "source": [
    "### Since our sampleIDs are structured HPAP- we cut off the barcode bit of each row and store as the library\n",
    "Atac$library <- gsub('.{19}$', '', rownames(Atac@meta.data))\n",
    "head(Atac$library)"
   ]
  },
  {
   "cell_type": "code",
   "execution_count": null,
   "id": "6c9c5381",
   "metadata": {},
   "outputs": [],
   "source": [
    "### add whatever metadata for harmony\n",
    "### add whatever metadata for harmony\n",
    "sex_F = list('HPAP-036', 'HPAP-039', 'HPAP-044','HPAP-045', 'HPAP-050', 'HPAP-051', 'HPAP-053', 'HPAP-054', 'HPAP-062', 'HPAP-063', 'HPAP-069', 'HPAP-079', 'HPAP-081', 'HPAP-084', 'HPAP-085', 'HPAP-099', 'HPAP-101', 'HPAP-103', 'HPAP-105', 'HPAP-109')\n",
    "cond_t1d = list('HPAP-055', 'HPAP-064', 'HPAP-084')\n",
    "cond_t2d = list('HPAP-051', 'HPAP-061', 'HPAP-062', 'HPAP-079', 'HPAP-081', 'HPAP-083', 'HPAP-085', 'HPAP-088', 'HPAP-100', 'HPAP-106', 'HPAP-109')\n",
    "cond_ctrl = list('HPAP-035', 'HPAP-036', 'HPAP-039', 'HPAP-040', 'HPAP-044', 'HPAP-045', 'HPAP-047', 'HPAP-049', 'HPAP-050', 'HPAP-052', 'HPAP-053', 'HPAP-054', 'HPAP-056', 'HPAP-059', 'HPAP-063', 'HPAP-067', 'HPAP-069', 'HPAP-072', 'HPAP-075', 'HPAP-077', 'HPAP-080', 'HPAP-092', 'HPAP-099', 'HPAP-101', 'HPAP-103', 'HPAP-104', 'HPAP-105')           \n",
    "\n",
    "\n",
    "\n",
    "\n",
    "Atac@meta.data$sex[Atac@meta.data$library %in% sex_F] <- 'F'\n",
    "Atac@meta.data$sex[!Atac@meta.data$library %in% sex_F] <- 'M'\n",
    "\n",
    "Atac@meta.data$condition[Atac@meta.data$library %in% cond_t1d] <- 'T1D'\n",
    "Atac@meta.data$condition[Atac@meta.data$library %in% cond_t2d] <- 'T2D'\n",
    "Atac@meta.data$condition[Atac@meta.data$library %in% cond_ctrl] <- 'Control'\n",
    "head(Atac@meta.data)\n",
    "head(Atac@meta.data$condition)\n",
    "head(Atac@meta.data$sex)"
   ]
  },
  {
   "cell_type": "code",
   "execution_count": null,
   "id": "2d164ef5",
   "metadata": {},
   "outputs": [],
   "source": [
    "Atac@meta.data$sex <- as.factor(Atac@meta.data$sex)\n",
    "unique_values <- levels(Atac@meta.data$sex)\n"
   ]
  },
  {
   "cell_type": "code",
   "execution_count": null,
   "id": "14d9880e",
   "metadata": {},
   "outputs": [],
   "source": [
    "unique_values"
   ]
  },
  {
   "cell_type": "code",
   "execution_count": null,
   "id": "9a600656",
   "metadata": {
    "scrolled": true
   },
   "outputs": [],
   "source": [
    "saveRDS(Atac, file='/nfs/lab/parulk/HPAP_scATAC/HVW_all_samples.rds')"
   ]
  },
  {
   "cell_type": "code",
   "execution_count": null,
   "id": "39788bdf",
   "metadata": {},
   "outputs": [],
   "source": [
    "Atac <- readRDS('/nfs/lab/parulk/HPAP_scATAC/HVW_all_samples.rds')"
   ]
  },
  {
   "cell_type": "code",
   "execution_count": null,
   "id": "1c7b1091",
   "metadata": {},
   "outputs": [],
   "source": [
    "Atac"
   ]
  },
  {
   "cell_type": "code",
   "execution_count": null,
   "id": "28ce9cca",
   "metadata": {},
   "outputs": [],
   "source": [
    "DefaultAssay(Atac) <- 'ATAC_windows'\n",
    "Atac <- RunTFIDF(Atac)\n",
    "Atac <- FindTopFeatures(Atac, min.cutoff='q0', verbose=FALSE)"
   ]
  },
  {
   "cell_type": "code",
   "execution_count": null,
   "id": "74270b02",
   "metadata": {},
   "outputs": [],
   "source": [
    "Atac@reductions"
   ]
  },
  {
   "cell_type": "code",
   "execution_count": null,
   "id": "4f28d7f5",
   "metadata": {},
   "outputs": [],
   "source": [
    "Atac <- RunSVD(Atac)"
   ]
  },
  {
   "cell_type": "code",
   "execution_count": null,
   "id": "1c92abb3",
   "metadata": {},
   "outputs": [],
   "source": [
    "DepthCor(Atac)"
   ]
  },
  {
   "cell_type": "code",
   "execution_count": null,
   "id": "133b8c2d",
   "metadata": {},
   "outputs": [],
   "source": [
    "hm_atac <- HarmonyMatrix(Embeddings(Atac, reduction='lsi'),Atac@meta.data,  c(\"library\",\"sex\"), do_pca=FALSE,plot_convergence = TRUE, verbose = TRUE)"
   ]
  },
  {
   "cell_type": "code",
   "execution_count": null,
   "id": "78e50819",
   "metadata": {},
   "outputs": [],
   "source": [
    "Atac[['harmony.atac']] <- CreateDimReducObject(embeddings=hm_atac, key='LSI_', assay= 'ATAC_windows')"
   ]
  },
  {
   "cell_type": "code",
   "execution_count": null,
   "id": "d4eb4894",
   "metadata": {},
   "outputs": [],
   "source": [
    "Atac <- RunUMAP(Atac, dims=2:30, reduction='harmony.atac', reduction.name='umap.atac', reduction.key='atacUMAP_')\n"
   ]
  },
  {
   "cell_type": "code",
   "execution_count": null,
   "id": "c48a6ddd",
   "metadata": {},
   "outputs": [],
   "source": [
    "options(repr.plot.width=10, repr.plot.height=10)\n",
    "p3 <- DimPlot(Atac, reduction='umap.atac', group.by = 'library', label=TRUE, label.size=6, repel=TRUE, raster=FALSE) + ggtitle('WNN')\n",
    "p3 <- p3 + xlab('UMAP 1') + ylab('UMAP 2') + ggtitle('ATAC')\n",
    "p3"
   ]
  },
  {
   "cell_type": "code",
   "execution_count": null,
   "id": "89fb6980",
   "metadata": {},
   "outputs": [],
   "source": [
    "Atac@reductions"
   ]
  },
  {
   "cell_type": "code",
   "execution_count": null,
   "id": "f606abe2",
   "metadata": {},
   "outputs": [],
   "source": [
    "DepthCor(Atac, reduction = 'harmony.atac')"
   ]
  },
  {
   "cell_type": "code",
   "execution_count": null,
   "id": "837104e0",
   "metadata": {},
   "outputs": [],
   "source": [
    "Atac <- FindNeighbors(object = Atac, reduction = 'harmony.atac', dims = 2:30)\n",
    "Atac <- FindClusters(object = Atac, algorithm=4,resolution = 0.5,method = \"igraph\") \n",
    "\n",
    "DimPlot(object = Atac, label = TRUE) + NoLegend()\n"
   ]
  },
  {
   "cell_type": "code",
   "execution_count": null,
   "id": "b8d5b3cf",
   "metadata": {},
   "outputs": [],
   "source": [
    "options(repr.plot.width=10, repr.plot.height=10)\n",
    "DimPlot(object = Atac, group.by = 'library',label = FALSE)# + NoLegend()\n",
    "DimPlot(object = Atac, group.by = 'condition',label = FALSE)# + NoLegend()\n"
   ]
  },
  {
   "cell_type": "code",
   "execution_count": null,
   "id": "715f4d90",
   "metadata": {},
   "outputs": [],
   "source": [
    "#Save object after processing\n",
    "saveRDS(Atac, file='/nfs/lab/parulk/HPAP_scATAC/HVW_all_samples_harmony_reduced_final.rds')"
   ]
  },
  {
   "cell_type": "code",
   "execution_count": null,
   "id": "e780c0f7",
   "metadata": {},
   "outputs": [],
   "source": [
    "Atac <- readRDS('/nfs/lab/parulk/HPAP_scATAC/HVW_all_samples_harmony_reduced_final.rds')"
   ]
  },
  {
   "cell_type": "code",
   "execution_count": null,
   "id": "e933c732",
   "metadata": {},
   "outputs": [],
   "source": [
    "DimPlot(object = Atac, label = TRUE) + NoLegend()\n"
   ]
  },
  {
   "cell_type": "code",
   "execution_count": null,
   "id": "a8bf0c86",
   "metadata": {},
   "outputs": [],
   "source": [
    "#gene activity\n",
    "gene.activities <- GeneActivity(Atac)\n",
    "# add the gene activity matrix to the Seurat object as a new assay and normalize it\n",
    "Atac[['RNA']] <- CreateAssayObject(counts = gene.activities)\n",
    "Atac <- NormalizeData(\n",
    "  object = Atac,\n",
    "  assay = 'RNA',\n",
    "  normalization.method = 'LogNormalize',\n",
    "  scale.factor = median(Atac$nCount_RNA)\n",
    ")"
   ]
  },
  {
   "cell_type": "code",
   "execution_count": null,
   "id": "46ad4c5c",
   "metadata": {},
   "outputs": [],
   "source": [
    "Atac <- NucleosomeSignal(object = Atac)\n",
    "Atac <- TSSEnrichment(object = Atac, fast = FALSE)\n",
    "head(Atac@meta.data)"
   ]
  },
  {
   "cell_type": "code",
   "execution_count": null,
   "id": "2dd51ae2",
   "metadata": {},
   "outputs": [],
   "source": [
    "saveRDS(Atac, file='/nfs/lab/parulk/HPAP_scATAC/HVW_all_samples_harmony_reduced_final_gene_activity.rds')"
   ]
  },
  {
   "cell_type": "code",
   "execution_count": null,
   "id": "17ec7cd6",
   "metadata": {},
   "outputs": [],
   "source": [
    "Atac <- readRDS('/nfs/lab/parulk/HPAP_scATAC/HVW_all_samples_harmony_reduced_final_gene_activity.rds')"
   ]
  },
  {
   "cell_type": "code",
   "execution_count": null,
   "id": "b05c99d1",
   "metadata": {},
   "outputs": [],
   "source": [
    "#check\n",
    "# add qc metrics from josh\n",
    "samples <- c('HPAP-035', 'HPAP-036', 'HPAP-039', 'HPAP-040', 'HPAP-044', 'HPAP-045', 'HPAP-047', 'HPAP-049', 'HPAP-050', 'HPAP-051', 'HPAP-052', 'HPAP-053', 'HPAP-054', 'HPAP-055', 'HPAP-056', 'HPAP-059', 'HPAP-061', 'HPAP-062', 'HPAP-063', 'HPAP-064', 'HPAP-067', 'HPAP-069', 'HPAP-072', 'HPAP-075', 'HPAP-077', 'HPAP-079', 'HPAP-080', 'HPAP-081', 'HPAP-083', 'HPAP-084', 'HPAP-085', 'HPAP-088', 'HPAP-092', 'HPAP-099', 'HPAP-100', 'HPAP-101', 'HPAP-103', 'HPAP-104', 'HPAP-105', 'HPAP-106', 'HPAP-109')\n",
    "qcs <- list()\n",
    "for (sample in samples) {\n",
    "    wd <- sprintf('/nfs/lab/parulk/HPAP_scATAC/lfm1/')\n",
    "    qc <- read.table(file.path(wd, sprintf('%s.qc_metrics.txt', sample, sample)), sep='\\t', header=TRUE, stringsAsFactors=FALSE)\n",
    "    #qc <- qc[qc$is_cell==1,]\n",
    "    #qc$X <- paste0(sample, '_', qc$barcodes)\n",
    "    qcs[[sample]] <- qc\n",
    "}\n",
    "qc <- as.data.frame(rbindlist(qcs))\n",
    "qc$X <- paste0(qc$X, \"-1\")\n",
    "\n",
    "head(qc)\n",
    "rownames(qc) <- qc$X\n",
    "qc <- qc[Cells(Atac), 6:length(colnames(qc))]\n",
    "Atac <- AddMetaData(object=Atac, metadata=qc)\n",
    "qc <- qcs <- NULL\n",
    "gc()\n",
    "head(Atac)\n",
    "metadata <- Atac@meta.data\n",
    "head(Atac@meta.data)"
   ]
  },
  {
   "cell_type": "code",
   "execution_count": null,
   "id": "5d901f8b",
   "metadata": {},
   "outputs": [],
   "source": [
    "Atac"
   ]
  },
  {
   "cell_type": "code",
   "execution_count": null,
   "id": "293bbf1d",
   "metadata": {
    "scrolled": true
   },
   "outputs": [],
   "source": [
    "table(Idents(Atac))"
   ]
  },
  {
   "cell_type": "code",
   "execution_count": null,
   "id": "9b8d4442",
   "metadata": {},
   "outputs": [],
   "source": [
    "options(repr.plot.width=20, repr.plot.height=15)\n",
    "p1 <- VlnPlot(Atac, features='reads_in_peaks',  pt.size=0, log=TRUE) + geom_boxplot(width=.6, fill='white', alpha=.6) + geom_hline(yintercept=median(Atac$frac_reads_in_peaks), linetype='dashed')#\n",
    "p2 <- VlnPlot(Atac, features='reads_in_promoters', pt.size=0, log=TRUE) + geom_boxplot(width=.6, fill='white', alpha=.6) + geom_hline(yintercept=median(Atac$frac_reads_in_promoters), linetype='dashed')\n",
    "p3 <- VlnPlot(Atac, features='tss_used',  pt.size=0, log=TRUE) + geom_boxplot(width=.6, fill='white', alpha=.6) + geom_hline(yintercept=median(Atac$tss_used), linetype='dashed')\n",
    "p1 / p2 / p3"
   ]
  },
  {
   "cell_type": "code",
   "execution_count": null,
   "id": "932f9242",
   "metadata": {},
   "outputs": [],
   "source": [
    "sessionInfo()"
   ]
  },
  {
   "cell_type": "code",
   "execution_count": null,
   "id": "9e18ae9b",
   "metadata": {},
   "outputs": [],
   "source": [
    "install.packages(\"ggpubr\")\n",
    "install.packages(\"ggbreak\")\n",
    "install.packages(\"gridExtra\")\n",
    "install.packages(\"grid\")\n",
    "install.packages(\"ggh4x\")\n",
    "library(ggpubr)\n",
    "library(ggbreak)\n",
    "library(gridExtra)\n",
    "library(grid)\n",
    "library(ggh4x)\n",
    "library(ggplot2)\n",
    "library(ggforce)"
   ]
  },
  {
   "cell_type": "code",
   "execution_count": null,
   "id": "9b0772df",
   "metadata": {
    "scrolled": true
   },
   "outputs": [],
   "source": [
    "library('tidyr')"
   ]
  },
  {
   "cell_type": "code",
   "execution_count": null,
   "id": "88bb089e",
   "metadata": {},
   "outputs": [],
   "source": [
    "# Load markers list\n",
    "project.dir = \"/nfs/lab/parulk/HPAP_scATAC/\"\n",
    "cell.markers = read.table(\"/nfs/lab/parulk/HPAP_scATAC/Cell.markers.txt\", sep = ',', header = TRUE)\n",
    "# Make it long, remove useless column and void markers\n",
    "cell.markers <- cell.markers %>% gather(Key, marker, c(3:ncol(cell.markers)))\n",
    "cell.markers = cell.markers[,-3]\n",
    "cell.markers = cell.markers[cell.markers$marker != \"\", ]\n",
    "head(cell.markers)\n",
    "# Factorize columns\n",
    "cell.markersCompartment <- cell.markers$cell.markersCompartment\n",
    "cell.markersCellType <- cell.markers$cell.markersCellType\n",
    "cell.markersCompartment = factor(cell.markersCompartment, levels = c(\"Endocrine cells\", \"Non-endocrine cells\"))\n",
    "cell.markersCellType = factor(cell.markersCellType, levels = c(\"Beta\", \"Alpha\", \"Delta\", \"Gamma\", \"Epsilon\", \"Ductal\", \"MUC5B Ductal\", \"Acinar\", \"Stellate\", \"Act. Stellate\", \"Q. Stellate\", \"Endothelial\", \"T Cell\", \"Schwann\", \"Macrophages\", \"Dividing Cells\"))"
   ]
  },
  {
   "cell_type": "code",
   "execution_count": null,
   "id": "ee2f9140",
   "metadata": {},
   "outputs": [],
   "source": [
    "g = DotPlot(Atac, assay='RNA', features=cell.markers$marker, cluster.idents=TRUE, col.min=0) +\n",
    "        theme(axis.text.x=element_text(angle=45, hjust=1)) + xlab('') + ylab('')\n",
    "    meta_summary = g$data\n",
    "    colnames(meta_summary)[3] = \"marker\"\n",
    "    meta_summary = merge(meta_summary, cell.markers, by = \"marker\")\n",
    "\n",
    "    options(repr.plot.width=25, repr.plot.height=10)\n",
    "    figure <- ggplot(meta_summary, aes(x = marker, y = id)) +\n",
    "      geom_point(aes(size = pct.exp, fill = avg.exp.scaled, stroke=NA),\n",
    "                 shape = 21) +\n",
    "      scale_size(\"% detected\", range = c(0, 6)) +\n",
    "      scale_fill_gradient(low = \"lightgray\", high = \"blue\",\n",
    "                           guide = guide_colorbar(nbin = 200,\n",
    "                                                  ticks.colour = \"black\", frame.colour = \"black\"),\n",
    "                           name = \"Average\\nexpression\") +\n",
    "      ylab(\"Cluster\") + xlab(\"\") +\n",
    "      theme_bw() +\n",
    "      theme(axis.text = element_text(size = 100),\n",
    "            axis.text.x = element_text(size = 10, angle = 45, hjust = 1, color = \"black\"),\n",
    "            strip.text.x = element_text(size = 10),\n",
    "            axis.text.y = element_text(size = 12, color = \"black\"),\n",
    "            axis.title = element_text(size = 14)) +\n",
    "facet_nested(~ Compartment + CellType, scales = \"free\")\n",
    "\n",
    "figure"
   ]
  },
  {
   "cell_type": "code",
   "execution_count": null,
   "id": "b70f60e6",
   "metadata": {},
   "outputs": [],
   "source": [
    "options(repr.plot.width=8, repr.plot.height=10)\n",
    "sample.abundance = as.data.frame(table(Atac$seurat_clusters, Atac$library))\n",
    "colnames(sample.abundance) = c(\"cluster\", \"sample\", \"Freq\")\n",
    "ggplot(sample.abundance, aes(fill = sample, y = Freq, x = cluster)) +\n",
    "  theme_bw() +\n",
    "  coord_flip() +\n",
    "  geom_bar(position = position_fill(reverse = TRUE), stat = 'identity', color = 'black', size = 0.2) +\n",
    "  xlab('') + ylab('percentage')"
   ]
  },
  {
   "cell_type": "code",
   "execution_count": null,
   "id": "7714eb6b",
   "metadata": {},
   "outputs": [],
   "source": [
    "covariant.ls = c(\"library\", \"sex\", \"condition\")"
   ]
  },
  {
   "cell_type": "code",
   "execution_count": null,
   "id": "a9ab9077",
   "metadata": {},
   "outputs": [],
   "source": [
    "gg.ls = list()\n",
    "\n",
    "# Library\n",
    "    i = 1\n",
    "    covariant = covariant.ls[i]\n",
    "    Covariant.table = as.data.frame(table(Atac$seurat_clusters, Atac$library))\n",
    "    colnames(Covariant.table) = c(\"cluster\", \"covariant\", \"Freq\")\n",
    "    gg.ls[[i]] = ggplot(Covariant.table, aes(fill = covariant, y = Freq, x = cluster)) +\n",
    "      theme_bw() +\n",
    "      coord_flip() +\n",
    "      geom_bar(position = position_fill(reverse = TRUE), stat = 'identity', color = 'black', size = 0.2) +\n",
    "      labs(y= \"\\n Percentage\", x = \"\", title = covariant) + \n",
    "      theme(axis.text = element_text(size = 12), axis.title = element_text(size = 12, face = \"bold\"),\n",
    "                      axis.text.x = element_text(angle = 90),\n",
    "                                 plot.title = element_text(size = 18, face = \"bold\", , hjust = 0.5))\n",
    "\n",
    "# Sex\n",
    "    i = 2\n",
    "    covariant = covariant.ls[i]\n",
    "    Covariant.table = as.data.frame(table(Atac$seurat_clusters, Atac$sex))\n",
    "    colnames(Covariant.table) = c(\"cluster\", \"covariant\", \"Freq\")\n",
    "    gg.ls[[i]] = ggplot(Covariant.table, aes(fill = covariant, y = Freq, x = cluster)) +\n",
    "      theme_bw() +\n",
    "      coord_flip() +\n",
    "      geom_bar(position = position_fill(reverse = TRUE), stat = 'identity', color = 'black', size = 0.2) +\n",
    "      labs(y= \"\\n Percentage\", x = \"\", title = covariant) + \n",
    "      theme(axis.text = element_text(size = 12), axis.title = element_text(size = 12, face = \"bold\"),\n",
    "                      axis.text.x = element_text(angle = 90),\n",
    "                                 plot.title = element_text(size = 18, face = \"bold\", , hjust = 0.5))\n",
    "\n",
    "# Condition\n",
    "    i = 3\n",
    "    covariant = covariant.ls[i]\n",
    "    Covariant.table = as.data.frame(table(Atac$seurat_clusters, Atac$condition))\n",
    "    colnames(Covariant.table) = c(\"cluster\", \"covariant\", \"Freq\")\n",
    "    gg.ls[[i]] = ggplot(Covariant.table, aes(fill = covariant, y = Freq, x = cluster)) +\n",
    "      theme_bw() +\n",
    "      coord_flip() +\n",
    "      geom_bar(position = position_fill(reverse = TRUE), stat = 'identity', color = 'black', size = 0.2) +\n",
    "      labs(y= \"\\n Percentage\", x = \"\", title = covariant) + \n",
    "      theme(axis.text = element_text(size = 12), axis.title = element_text(size = 12, face = \"bold\"),\n",
    "                      axis.text.x = element_text(angle = 90),\n",
    "                                 plot.title = element_text(size = 18, face = \"bold\", , hjust = 0.5))"
   ]
  },
  {
   "cell_type": "code",
   "execution_count": null,
   "id": "2214a71b",
   "metadata": {},
   "outputs": [],
   "source": [
    "options(repr.plot.height = 20, repr.plot.width = 40)\n",
    "cp <- gg.ls[[1]] + gg.ls[[2]] + gg.ls[[3]]\n",
    "cp"
   ]
  },
  {
   "cell_type": "code",
   "execution_count": null,
   "id": "d1644dab",
   "metadata": {},
   "outputs": [],
   "source": [
    "cell.sample = as.data.frame(table(Atac$library))\n",
    "colnames(cell.sample)[1] = \"sample.ID\""
   ]
  },
  {
   "cell_type": "code",
   "execution_count": null,
   "id": "349e50ea",
   "metadata": {},
   "outputs": [],
   "source": [
    "options(repr.plot.width=15, repr.plot.height=15)\n",
    "\n",
    "width = 0.8\n",
    "position = position_dodge(width = width)\n",
    "gg1 = ggplot(cell.sample, aes(x= sample.ID, y = Freq, label = Freq)) + \n",
    "            theme_bw () +\n",
    "            labs(y= \"\", x = \"\", title = paste(\"Final Cells: \", length(colnames(Atac[[\"RNA\"]])))) +\n",
    "            geom_bar(stat=\"identity\", \n",
    "                     position = position, width = width,\n",
    "                     colour=\"black\") +\n",
    "            ylim(0, 20000)+\n",
    "            theme(axis.text = element_text(size = 12), axis.title = element_text(size = 12, face = \"bold\"),\n",
    "                  axis.text.x = element_text(angle = 90),\n",
    "                             plot.title = element_text(size = 18, face = \"bold\", , hjust = 0.5))+\n",
    "            geom_text(hjust = -0.3, size = 2.9, position = position_dodge(width = width))+\n",
    "            coord_flip()\n",
    "gg1"
   ]
  },
  {
   "cell_type": "code",
   "execution_count": null,
   "id": "0b3dd4ef",
   "metadata": {},
   "outputs": [],
   "source": [
    "new.cluster.ids <- c('Alpha', 'Beta', 'Acinar', '4', 'Ductal', 'Delta', 'Alpha', '8', 'Stellate', 'Endothelial', 'Ductal', '12', 'Stellate', 'Macrophage', 'Beta')\n",
    "names(new.cluster.ids) <- levels(Atac)\n",
    "atac_obj <- RenameIdents(Atac, new.cluster.ids)"
   ]
  },
  {
   "cell_type": "code",
   "execution_count": null,
   "id": "dce4c606",
   "metadata": {},
   "outputs": [],
   "source": [
    "options(repr.plot.height = 10, repr.plot.width = 14)\n",
    "\n",
    "DimPlot(object = atac_obj, label = TRUE,pt.size = 1 ) + NoLegend()"
   ]
  },
  {
   "cell_type": "code",
   "execution_count": null,
   "id": "eca6d5e5",
   "metadata": {},
   "outputs": [],
   "source": [
    "table(Idents(Atac))"
   ]
  },
  {
   "cell_type": "code",
   "execution_count": null,
   "id": "b710c884",
   "metadata": {},
   "outputs": [],
   "source": []
  }
 ],
 "metadata": {
  "kernelspec": {
   "display_name": "R",
   "language": "R",
   "name": "ir"
  },
  "language_info": {
   "codemirror_mode": "r",
   "file_extension": ".r",
   "mimetype": "text/x-r-source",
   "name": "R",
   "pygments_lexer": "r",
   "version": "4.1.1"
  }
 },
 "nbformat": 4,
 "nbformat_minor": 5
}
