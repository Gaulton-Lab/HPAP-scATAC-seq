{
 "cells": [
  {
   "cell_type": "markdown",
   "id": "370bc681",
   "metadata": {},
   "source": [
    "# ChromVAR  \n",
    "  \n",
    "This is a notebook to run chromvar on peaks derived from scATAC-seq stored in a Seurat object. This can be reworked to use peaks not entered into a Seurat object. ChromVAR needs 3 inputs. 1) A count matrix that is barcode x peak or sample x peak 2) GRanges identifying peaks and 3) motifs. Motifs can be a custom set, or downloaded from JASPAR. I have code in another location to pull and save JASPAR motifs into a usable format. JASPAR seems to update yearly. The motifs I pulled are all human.  \n",
    "\n",
    "From here there are follow-up notebooks to compare cell types and disease states.\n",
    "\n",
    "A reference for ChromVAR can be found here: https://greenleaflab.github.io/chromVAR/articles/Introduction.html\n",
    "\n",
    "Throughout, the code uses functions from the Seurat, Signac, and chromVAR packages to handle single-cell ATAC-seq data, integrating genomic data with single-cell expression data, identifying transcription factor motifs, and assessing variability across cells. The focus on motif variability can uncover insights into the regulatory landscape affecting gene expression in different cell types or conditions."
   ]
  },
  {
   "cell_type": "markdown",
   "id": "3eacc467",
   "metadata": {},
   "source": [
    "## Suppressing Messages & Library Imports:\n",
    "\n",
    "Suppresses package startup messages for a cleaner output.\n",
    "Loads necessary libraries for the analysis. Libraries like Signac, Seurat, and JASPAR2020 are crucial for single-cell ATAC-seq analysis, motif analysis, and accessing DNA-binding profiles, respectively."
   ]
  },
  {
   "cell_type": "code",
   "execution_count": null,
   "id": "619e6a88",
   "metadata": {},
   "outputs": [],
   "source": [
    "suppressMessages(library(chromVAR))\n",
    "suppressMessages(library(motifmatchr))\n",
    "suppressMessages(library(SummarizedExperiment))\n",
    "\n",
    "library(Signac)\n",
    "library(Seurat)\n",
    "library(JASPAR2020)\n",
    "library(TFBSTools)\n",
    "library(BSgenome.Hsapiens.UCSC.hg38)\n",
    "library(patchwork)\n",
    "library(readr)\n",
    "library(stringr)\n",
    "library(dplyr)\n",
    "set.seed(1234)\n",
    "\n",
    "library(Matrix)\n",
    "library(BiocParallel)\n",
    "register(MulticoreParam(8))"
   ]
  },
  {
   "cell_type": "markdown",
   "id": "478f7e31",
   "metadata": {},
   "source": [
    "# Setting Up Environment:\n",
    "\n",
    "Sets a random seed for reproducibility.\n",
    "Registers multiple cores for parallel computation to speed up the process."
   ]
  },
  {
   "cell_type": "code",
   "execution_count": null,
   "id": "e5c6cf68",
   "metadata": {},
   "outputs": [],
   "source": [
    "#### Send to channel code\n",
    "library(parallel)\n",
    "library(plyr)\n",
    "library(ggpubr)\n",
    "library(car)\n",
    "library(qvalue)"
   ]
  },
  {
   "cell_type": "markdown",
   "id": "08841fb3",
   "metadata": {},
   "source": [
    "# Data Loading and Pre-processing:\n",
    "\n",
    "Reads a Seurat object containing ATAC-seq data.\n",
    "Sets the default assay to 'Unified_Peaks'.\n",
    "Extracts the assay data and peak locations, formatting them into a GRanges object for spatial information."
   ]
  },
  {
   "cell_type": "code",
   "execution_count": null,
   "id": "b5013b94",
   "metadata": {},
   "outputs": [],
   "source": [
    "#Load in Seurat ATAC object with unified peaks\n",
    "\n",
    "atac <- readRDS('HPAP_atac_obj_withUnifiedpeaks.rds')\n",
    "atac\n",
    "\n",
    "DefaultAssay(atac) <- 'Unified_Peaks'\n",
    "\n",
    "#Prep inputs for SummarizedExperiment\n",
    "\n",
    "#Extract matrix from Seurat object\n",
    "sc.data <- GetAssayData(atac,slot='data', assay=\"Unified_Peaks\")\n",
    "sc.data.stored <- sc.data\n",
    "\n",
    "# Extract peak locations and reformat into GRanges object\n",
    "bed = str_split_fixed(rownames(sc.data), \"\\\\-\", 3) #This may need to be modified depending on your peak naming convention\n",
    "bed[,1] <- paste0('chr', bed[,1])\n",
    "\n",
    "gr= GRanges(seqnames = bed[,1], ranges = IRanges(start = as.numeric(bed[,2]), end = as.numeric(bed[,3])))\n",
    "\n",
    "str(atac)\n",
    "\n",
    "options(repr.plot.width=20, repr.plot.height=15)\n",
    "\n",
    "gg1_1 <- DimPlot(atac, shuffle = TRUE, label.size = 6.5, repel = T, pt.size = 0.8) + theme(axis.text.x=element_text(angle=45, hjust=1), legend.key.size = unit(2,\"line\"), legend.text=element_text(size=20), plot.title = element_text(size = 30, face = \"bold\", hjust = 0.5)) + xlab('') + ylab('') \n",
    "gg1_1"
   ]
  },
  {
   "cell_type": "markdown",
   "id": "edb1c24b",
   "metadata": {},
   "source": [
    "# SummarizedExperiment Object Creation:\n",
    "\n",
    "Creates a SummarizedExperiment object from the extracted matrix and GRanges, which is used to store the count data and associated genomic ranges."
   ]
  },
  {
   "cell_type": "code",
   "execution_count": null,
   "id": "8101d048",
   "metadata": {},
   "outputs": [],
   "source": [
    "#Use the matrix and GRanges to make a SummarizedExperiment to put into chromvar and add metadata\n",
    "\n",
    "fragment.counts <- SummarizedExperiment(assays=list(counts=sc.data), rowRanges=gr)\n",
    "fragment.counts.stored <- fragment.counts"
   ]
  },
  {
   "cell_type": "markdown",
   "id": "b44c7485",
   "metadata": {},
   "source": [
    "# Metadata Addition:\n",
    "Adds additional metadata from the Seurat object to the SummarizedExperiment object, which might be useful for downstream analyses."
   ]
  },
  {
   "cell_type": "code",
   "execution_count": null,
   "id": "e7542596",
   "metadata": {},
   "outputs": [],
   "source": [
    "# Adjust to include any columns from the Seurat object metadata you will use downstream. Easier to include more now.\n",
    "metrics <- select(atac[[]], orig.ident, nCount_ATAC_peaks, nFeature_ATAC_peaks, library, sex,\n",
    "                  condition, seurat_clusters,Cell.Type) \n",
    "if (length(rownames(metrics)) == sum(rownames(colData(fragment.counts)) == rownames(metrics))) {\n",
    "    print(\"Success adding meta data\")\n",
    "    colData(fragment.counts) <- cbind(colData(fragment.counts), metrics[rownames(colData(fragment.counts)),])\n",
    "} else {\n",
    "    print(\"Failed to add meta data, check column names.\")\n",
    "}"
   ]
  },
  {
   "cell_type": "markdown",
   "id": "6f75162b",
   "metadata": {},
   "source": [
    "# Bias Correction and Motif Analysis:\n",
    "\n",
    "Applies GC bias correction to the counts.\n",
    "Loads JASPAR motifs and matches them to the genomic ranges using motifmatchr, preparing for chromVAR analysis."
   ]
  },
  {
   "cell_type": "code",
   "execution_count": null,
   "id": "ff3e070d",
   "metadata": {},
   "outputs": [],
   "source": [
    "fragment.counts <- addGCBias(fragment.counts, genome=BSgenome.Hsapiens.UCSC.hg38)\n",
    "fragment.counts"
   ]
  },
  {
   "cell_type": "code",
   "execution_count": null,
   "id": "c5688d93",
   "metadata": {},
   "outputs": [],
   "source": [
    "#Load in motifs\n",
    "jaspar.motifs <- readRDS(file ='/nfs/lab/welison/multiome/chromvar/jaspar_2022_object.Rdata')\n",
    "motif.ix <- matchMotifs(jaspar.motifs, fragment.counts, genome=BSgenome.Hsapiens.UCSC.hg38)\n",
    "\n",
    "motif.ix\n",
    "\n",
    "fragment.counts"
   ]
  },
  {
   "cell_type": "markdown",
   "id": "22be28f4",
   "metadata": {},
   "source": [
    "# ChromVAR Analysis:\n",
    "Runs chromVAR to compute deviation scores, which indicate how much each motifs accessibility varies from what is expected. This can highlight motifs that are particularly variable across conditions or cell types."
   ]
  },
  {
   "cell_type": "code",
   "execution_count": null,
   "id": "a08f38fe",
   "metadata": {},
   "outputs": [],
   "source": [
    "# Run chromVAR\n",
    "dev <- computeDeviations(object=fragment.counts, annotations=motif.ix)#, expectation=expected)#\n",
    "head(dev)"
   ]
  },
  {
   "cell_type": "code",
   "execution_count": null,
   "id": "6748f42f",
   "metadata": {},
   "outputs": [],
   "source": []
  },
  {
   "cell_type": "code",
   "execution_count": null,
   "id": "f9b5ed35",
   "metadata": {},
   "outputs": [],
   "source": [
    "saveRDS(dev, \"/nfs/lab/parulk/HPAP_scATAC/motif_analysis/ChromVAR_Object.RDS\")"
   ]
  },
  {
   "cell_type": "code",
   "execution_count": null,
   "id": "d3e07131",
   "metadata": {},
   "outputs": [],
   "source": [
    "# Collect details for downstream analysis\n",
    "\n",
    "# Reload chromVAR object and motifs if picking up again\n",
    "# dev <- readRDS(\"/nfs/lab/parulk/HPAP_scATAC/motif_analysis/ChromVAR_Object.RDS\")\n",
    "jaspar.motifs <- readRDS(file ='/nfs/lab/welison/multiome/chromvar/jaspar_2022_object.Rdata')\n",
    "\n",
    "dev\n",
    "jaspar.motifs"
   ]
  },
  {
   "cell_type": "code",
   "execution_count": null,
   "id": "3b0faf7b",
   "metadata": {},
   "outputs": [],
   "source": [
    "#This is a cell by motif deviation score (aka accessibility) matrix\n",
    "devtab = deviationScores(dev)\n",
    "head(devtab)\n",
    "\n",
    "# Variation of accessibiility across deviation scores, basically the standard errror. Null is about 1\n",
    "variability <- computeVariability(dev)\n",
    "head(variability)\n",
    "\n",
    "motifdata = cbind(sapply(jaspar.motifs, function(x) unlist(x@name)),sapply(jaspar.motifs, function(x) unlist(x@matrixClass )))                                                  \n",
    "motifdata             #  sapply(pfm, function(x) x@tags$symbol )  ,     sapply(pfm, function(x) x@tags$family ))\n",
    "\n",
    "head(atac)"
   ]
  },
  {
   "cell_type": "code",
   "execution_count": null,
   "id": "4d317fc2",
   "metadata": {},
   "outputs": [],
   "source": []
  },
  {
   "cell_type": "code",
   "execution_count": null,
   "id": "7052a241",
   "metadata": {},
   "outputs": [],
   "source": [
    "#Pull in some metadata\n",
    "info = data.frame(def   = atac$library,\n",
    "                    cells = Cells(atac),\n",
    "                    groups = atac$condition,\n",
    "                    cluster = atac@active.ident, samples = atac$library)\n",
    "head(info)\n",
    "write.table(info, file='/nfs/lab/parulk/HPAP_scATAC/motif_analysis/info_table_ctrlvdiabetes.txt',quote = FALSE, sep='\\t')\n",
    "\n",
    "table(atac[[]]$library)"
   ]
  },
  {
   "cell_type": "code",
   "execution_count": null,
   "id": "786ea837",
   "metadata": {},
   "outputs": [],
   "source": [
    "output_dir <- '/nfs/lab/parulk/HPAP_scATAC/motif_analysis/'\n",
    "#dir.create(output_dir)\n",
    "\n",
    "#Save devscores, motifdata, and info\n",
    "write.table(devtab, file=paste0(output_dir,'devscores.txt'),quote = FALSE, col.names = TRUE, row.names = TRUE)\n",
    "write.table(motifdata, file=paste0(output_dir,'motifdata.txt'),quote = FALSE, col.names = FALSE,sep='\\t')\n",
    "write.table(info, file=paste0(output_dir,'info_table.txt'),quote = FALSE, sep='\\t')\n",
    "write.table(variability, file=paste0(output_dir,'variability.txt'),quote = FALSE, col.names = TRUE, row.names = TRUE, sep='\\t')"
   ]
  },
  {
   "cell_type": "code",
   "execution_count": null,
   "id": "5508ad68",
   "metadata": {},
   "outputs": [],
   "source": [
    "in_dir <- '/nfs/lab/parulk/HPAP_scATAC/motif_analysis/'\n",
    "\n",
    "variability <- read.table(file=paste0(in_dir,'variability.txt'))\n",
    "variability\n",
    "\n",
    "# Variability distirbution\n",
    "ggplot(variability, aes(x=variability)) +\n",
    "geom_histogram() + geom_vline(xintercept = 1.2)\n",
    "\n",
    "# I often work with highly variable motifs, they in theory have some sort of difference greater than the null hypothesis\n",
    "sum(variability$variability > 1.2) \n",
    "length(variability$variability > 1.2) \n",
    "\n",
    "# How many pass different cutoffs\n",
    "var_filts <- c(0,.5,1,1.2,1.25,1.3,1.4,1.5,2,2.5)\n",
    "\n",
    "print(length(variability$variability > var_filts))\n",
    "\n",
    "for (var_filt in var_filts) {\n",
    "    print(var_filt)\n",
    "    print(sum(variability$variability > var_filt))\n",
    "}\n",
    "\n",
    "# Highly variable motifs\n",
    "variability[variability$variability > 1.25,]"
   ]
  },
  {
   "cell_type": "code",
   "execution_count": null,
   "id": "13152734",
   "metadata": {},
   "outputs": [],
   "source": []
  }
 ],
 "metadata": {
  "kernelspec": {
   "display_name": "R",
   "language": "R",
   "name": "ir"
  },
  "language_info": {
   "codemirror_mode": "r",
   "file_extension": ".r",
   "mimetype": "text/x-r-source",
   "name": "R",
   "pygments_lexer": "r",
   "version": "4.1.1"
  }
 },
 "nbformat": 4,
 "nbformat_minor": 5
}
