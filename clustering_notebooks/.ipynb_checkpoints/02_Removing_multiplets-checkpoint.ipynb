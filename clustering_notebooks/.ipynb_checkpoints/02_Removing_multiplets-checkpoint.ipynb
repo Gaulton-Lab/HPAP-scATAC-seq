{
 "cells": [
  {
   "cell_type": "code",
   "execution_count": null,
   "metadata": {
    "scrolled": false
   },
   "outputs": [],
   "source": [
    "library(hdf5r)\n",
    "library(Seurat)\n",
    "library(Signac)\n",
    "library(EnsDb.Hsapiens.v86)\n",
    "library(dplyr)\n",
    "library(ggplot2)\n",
    "install.packages(\"broom\")\n",
    "if (!requireNamespace('BiocManager', quietly = TRUE))\n",
    "    install.packages('BiocManager')\n",
    "BiocManager::install('parallelly')\n",
    "\n",
    "library(dplyr)\n",
    "library(ggplot2)\n",
    "library(sctransform)\n",
    "library(scater)\n",
    "library(reticulate)\n",
    "library(future)\n",
    "#library('gPCA')\n",
    "library('Biobase')\n",
    "library(pheatmap)\n",
    "#library(\"ggfortify\")\n",
    "#library('qvalue')\n",
    "library(gplots)\n",
    "#library('DESeq2')\n",
    "#library(VennDiagram)\n",
    "library('hdf5r')\n",
    "library(EnsDb.Hsapiens.v86)\n",
    "\n",
    "library(BiocParallel)\n",
    "library(tictoc)\n",
    "library(Seurat)\n",
    "library(Signac)\n",
    "library(EnsDb.Hsapiens.v86)\n",
    "library(ggplot2)\n",
    "library(cowplot)\n",
    "library(GenomeInfoDb)\n",
    "\n",
    "suppressMessages(library(hdf5r))\n",
    "suppressMessages(library(Seurat))\n",
    "suppressMessages(library(Signac))\n",
    "suppressMessages(library(EnsDb.Hsapiens.v86))\n",
    "suppressMessages(library(dplyr))\n",
    "suppressMessages(library(ggplot2))\n",
    "suppressMessages(library(Matrix))\n",
    "suppressMessages(library(harmony))\n",
    "suppressMessages(library(data.table))\n",
    "suppressMessages(library(ggpubr))\n",
    "suppressMessages(library(future))"
   ]
  },
  {
   "cell_type": "code",
   "execution_count": null,
   "metadata": {},
   "outputs": [],
   "source": [
    ".libPaths()\n",
    "BiocManager::install(\"Bioconductor/GenomeInfoDb\",lib = \"/home/parulk/R/x86_64-pc-linux-gnu-library/4.1\",force = TRUE)\n",
    "library(GenomeInfoDb,lib.loc=\"/home/parulk/R/x86_64-pc-linux-gnu-library/4.1\")\n",
    "packageVersion(\"GenomeInfoDb\",lib.loc=\"/home/parulk/R/x86_64-pc-linux-gnu-library/4.1\")\n",
    "GenomeInfoDb::getChromInfoFromUCSC(\"hg38\")"
   ]
  },
  {
   "cell_type": "code",
   "execution_count": null,
   "metadata": {},
   "outputs": [],
   "source": [
    "# the code reads in barcodes from the \"MultipletBarcodes_01.txt\" file for each sample listed in \"SAMPLES.txt\" and stores them in the multiplets list.\n",
    "samples<- scan('/nfs/lab/parulk/HPAP_scATAC/samples.txt', what='', sep=' ')\n",
    "multiplets<-list()\n",
    "#metrics<- list()\n",
    "for (samp in samples){\n",
    "    multiplets[[samp]] <- read.table(sprintf(\"/nfs/lab/parulk/HPAP_scATAC/amulet/%s/MultipletBarcodes_01.txt\", samp)) %>% t() %>% as.vector()\n",
    "    #metrics[[samp]] <- read.table(sprintf(\"/home/egriffin/COVID/Mult_Samp_Init_Processing/Amulet_outs/CSVs/%s_Amuletcsv.csv\", samp), sep = ',', header = TRUE)\n",
    "}\n",
    "\n",
    "head(multiplets[[length(multiplets)]])\n",
    "#head(metrics[[length(multiplets)]])"
   ]
  },
  {
   "cell_type": "code",
   "execution_count": null,
   "metadata": {},
   "outputs": [],
   "source": [
    "#read in HVW RDS file \n",
    "adata<- readRDS(file = '/nfs/lab/parulk/HPAP_scATAC/HVW_all_samples_harmony_reduced_final_gene_activity.rds')\n"
   ]
  },
  {
   "cell_type": "code",
   "execution_count": null,
   "metadata": {},
   "outputs": [],
   "source": [
    "adata"
   ]
  },
  {
   "cell_type": "code",
   "execution_count": null,
   "metadata": {},
   "outputs": [],
   "source": [
    "options(repr.plot.width=10, repr.plot.height=10)\n",
    "DimPlot(object = adata, label = TRUE) + NoLegend()\n"
   ]
  },
  {
   "cell_type": "code",
   "execution_count": null,
   "metadata": {
    "scrolled": true
   },
   "outputs": [],
   "source": [
    "cells<- Cells(adata)\n",
    "head(cells)"
   ]
  },
  {
   "cell_type": "code",
   "execution_count": null,
   "metadata": {},
   "outputs": [],
   "source": [
    "#takes the barcode values for each sample, concatenates them with the sample name using an underscore as a separator, and stores the modified barcode values in the new_b list. Each element in new_b corresponds to a sample, and within each sample, the modified barcode values are stored as individual elements.\n",
    "new_b<- list()\n",
    "for (samp in samples){\n",
    "    barcode<-multiplets[[samp]]\n",
    "    for (i in 1:length(barcode)){\n",
    "        new_b[[samp]][i]<-paste(samp,barcode[i], sep='_')\n",
    "    }\n",
    "}"
   ]
  },
  {
   "cell_type": "code",
   "execution_count": null,
   "metadata": {},
   "outputs": [],
   "source": [
    "length(new_b[[samp]])\n",
    "length(cells)"
   ]
  },
  {
   "cell_type": "code",
   "execution_count": null,
   "metadata": {},
   "outputs": [],
   "source": [
    "# the multiplet.metadata list will contain metadata vectors for each sample, where the metadata values are initially set to \"singlet\" for all cells. However, if a cell name exists in the corresponding new_b vector, indicating it as a multiplet, the metadata value for that cell will be changed to \"multiplet\".\n",
    "multiplet.metadata <-list()\n",
    "\n",
    "for (samp in samples){\n",
    "    multiplet.metadata[[samp]]<- rep(\"singlet\", length(cells))\n",
    "    names(multiplet.metadata[[samp]])<- cells\n",
    "    vec<- multiplet.metadata[[samp]]\n",
    "    mult<-new_b[[samp]]\n",
    "    for (i in 1:length(names(vec))){\n",
    "    if (names(vec[i]) %in% mult){\n",
    "        vec[i]<- \"multiplet\"\n",
    "}\n",
    "        }\n",
    "    multiplet.metadata[[samp]]<-vec\n",
    "    }"
   ]
  },
  {
   "cell_type": "code",
   "execution_count": null,
   "metadata": {},
   "outputs": [],
   "source": [
    "# Sanity check, check if the concatenation of all new_b elements (mult) matches the expected length calculated from the multiplets list. \n",
    "for (i in 1:length(new_b)){\n",
    "    if (i == 1){\n",
    "        mult<- new_b[[i]]\n",
    "    } else {\n",
    "        mult<- append(mult, new_b[[i]])\n",
    "    }\n",
    "}\n",
    "if (length(mult) == sum(unlist(lapply(multiplets, length)))){\n",
    "    message('Done.')\n",
    "    } else {\n",
    "    message('An error has occurred')\n",
    "}"
   ]
  },
  {
   "cell_type": "code",
   "execution_count": null,
   "metadata": {
    "scrolled": false
   },
   "outputs": [],
   "source": [
    "length(mult)"
   ]
  },
  {
   "cell_type": "markdown",
   "metadata": {},
   "source": [
    "# Remove Doublets"
   ]
  },
  {
   "cell_type": "code",
   "execution_count": null,
   "metadata": {},
   "outputs": [],
   "source": [
    "head(adata)"
   ]
  },
  {
   "cell_type": "code",
   "execution_count": null,
   "metadata": {
    "scrolled": true
   },
   "outputs": [],
   "source": [
    "#remove multiplet cells from amulet output\n",
    "init<- length(Cells(adata))\n",
    "adata$remove_cells <-(Cells(adata) %in% mult)"
   ]
  },
  {
   "cell_type": "code",
   "execution_count": null,
   "metadata": {},
   "outputs": [],
   "source": [
    "DimPlot(adata, group.by = \"remove_cells\", pt.size = 0.5, \n",
    "        cols = c(\"FALSE\" = \"grey\", \"TRUE\" = \"purple\"), \n",
    "        order = c(\"TRUE\", \"FALSE\"))"
   ]
  },
  {
   "cell_type": "code",
   "execution_count": null,
   "metadata": {},
   "outputs": [],
   "source": [
    "true_count <- sum(adata$remove_cells == TRUE)\n",
    "false_count <- sum(adata$remove_cells == FALSE)\n",
    "total <- true_count + false_count\n",
    "true_percent <- (true_count / total) * 100\n",
    "false_percent <- (false_count / total) * 100\n",
    "\n",
    "# Create a pie chart\n",
    "pie(c(true_count, false_count),  col = c(\"purple\", \"grey\"))\n",
    "\n",
    "# Add a legend\n",
    "legend(\"topright\", c(paste(\"Multiplet\",true_percent, \"%\"), paste(\"Singlet\", false_percent, \"%\")), fill = c(\"purple\", \"grey\"))"
   ]
  },
  {
   "cell_type": "code",
   "execution_count": null,
   "metadata": {},
   "outputs": [],
   "source": [
    "count <- sum(adata$remove_cells == TRUE)\n",
    "print(count)"
   ]
  },
  {
   "cell_type": "code",
   "execution_count": null,
   "metadata": {},
   "outputs": [],
   "source": [
    "head(adata)"
   ]
  },
  {
   "cell_type": "code",
   "execution_count": null,
   "metadata": {},
   "outputs": [],
   "source": [
    "# Remove the multiplet cells from the Seurat object and perform the downstream analyses.\n",
    "sub_adata<- subset(adata, subset=remove_cells==FALSE)\n",
    "final<- length(Cells(sub_adata))\n",
    "    if (final/init < 1){\n",
    "        message('Completed doublet removal')\n",
    "    } else {\n",
    "        message('Some error has occured')\n",
    "    }"
   ]
  },
  {
   "cell_type": "code",
   "execution_count": null,
   "metadata": {},
   "outputs": [],
   "source": [
    "options(repr.plot.width=10, repr.plot.height=10)\n",
    "DimPlot(object = sub_adata, label = TRUE) + NoLegend()"
   ]
  },
  {
   "cell_type": "code",
   "execution_count": null,
   "metadata": {},
   "outputs": [],
   "source": [
    "sub_adata"
   ]
  },
  {
   "cell_type": "code",
   "execution_count": null,
   "metadata": {},
   "outputs": [],
   "source": [
    "saveRDS(sub_adata,  file='/nfs/lab/parulk/HPAP_scATAC/HVW_all_samples_harmony_reduced_final_gene_activity_amulet_intermediate.rds')"
   ]
  },
  {
   "cell_type": "code",
   "execution_count": null,
   "metadata": {},
   "outputs": [],
   "source": [
    "sub_adata <- readRDS('/nfs/lab/parulk/HPAP_scATAC/HVW_all_samples_harmony_reduced_final_gene_activity_amulet_intermediate.rds')"
   ]
  },
  {
   "cell_type": "code",
   "execution_count": null,
   "metadata": {},
   "outputs": [],
   "source": [
    "sub_adata"
   ]
  },
  {
   "cell_type": "code",
   "execution_count": null,
   "metadata": {},
   "outputs": [],
   "source": [
    "options(repr.plot.width=15, repr.plot.height=15)\n",
    "DimPlot(sub_adata, label = TRUE)"
   ]
  },
  {
   "cell_type": "code",
   "execution_count": null,
   "metadata": {},
   "outputs": [],
   "source": [
    "DefaultAssay(sub_adata) <- 'ATAC_windows'\n",
    "\n",
    "sub_adata <- RunTFIDF(sub_adata)\n",
    "sub_adata <- FindTopFeatures(sub_adata, min.cutoff='q0', verbose=FALSE)"
   ]
  },
  {
   "cell_type": "code",
   "execution_count": null,
   "metadata": {},
   "outputs": [],
   "source": [
    "sub_adata <- RunSVD(sub_adata)"
   ]
  },
  {
   "cell_type": "code",
   "execution_count": null,
   "metadata": {},
   "outputs": [],
   "source": [
    "DepthCor(sub_adata)"
   ]
  },
  {
   "cell_type": "code",
   "execution_count": null,
   "metadata": {},
   "outputs": [],
   "source": [
    "sub_adata@reductions"
   ]
  },
  {
   "cell_type": "code",
   "execution_count": null,
   "metadata": {},
   "outputs": [],
   "source": [
    "hm_atac <- HarmonyMatrix(Embeddings(sub_adata, reduction='lsi'),sub_adata@meta.data,  c(\"library\",\"sex\"), do_pca=FALSE,plot_convergence = TRUE, verbose = TRUE)\n"
   ]
  },
  {
   "cell_type": "code",
   "execution_count": null,
   "metadata": {},
   "outputs": [],
   "source": [
    "sub_adata[['harmony.atac']] <- CreateDimReducObject(embeddings=hm_atac, key='LSI_', assay= 'ATAC_windows')"
   ]
  },
  {
   "cell_type": "code",
   "execution_count": null,
   "metadata": {},
   "outputs": [],
   "source": [
    "sub_adata <- RunUMAP(sub_adata, dims=2:30, reduction='harmony.atac', reduction.name='umap.atac', reduction.key='atacUMAP_')\n"
   ]
  },
  {
   "cell_type": "code",
   "execution_count": null,
   "metadata": {},
   "outputs": [],
   "source": [
    "options(repr.plot.width=10, repr.plot.height=10)\n",
    "p3 <- DimPlot(sub_adata, reduction='umap.atac', group.by = 'library', label=TRUE, label.size=6, repel=TRUE, raster=FALSE) + ggtitle('WNN')\n",
    "p3 <- p3 + xlab('UMAP 1') + ylab('UMAP 2') + ggtitle('ATAC')\n",
    "p3"
   ]
  },
  {
   "cell_type": "code",
   "execution_count": null,
   "metadata": {},
   "outputs": [],
   "source": [
    "sub_adata@reductions"
   ]
  },
  {
   "cell_type": "code",
   "execution_count": null,
   "metadata": {},
   "outputs": [],
   "source": [
    "DepthCor(sub_adata, reduction = 'harmony.atac')"
   ]
  },
  {
   "cell_type": "code",
   "execution_count": null,
   "metadata": {},
   "outputs": [],
   "source": [
    "sub_adata <- FindNeighbors(object = sub_adata, reduction = 'harmony.atac', dims = 2:30)\n",
    "sub_adata <- FindClusters(object = sub_adata, algorithm=4,resolution = 1.5,method = \"igraph\") \n",
    "\n",
    "DimPlot(object = sub_adata, label = TRUE) + NoLegend()\n"
   ]
  },
  {
   "cell_type": "code",
   "execution_count": null,
   "metadata": {},
   "outputs": [],
   "source": [
    "options(repr.plot.width=10, repr.plot.height=10)\n",
    "#DimPlot(object = Atac, group.by = 'technology',label = FALSE)# + NoLegend()\n",
    "DimPlot(object = sub_adata, group.by = 'library',label = FALSE)# + NoLegend()\n",
    "DimPlot(object = sub_adata, group.by = 'condition',label = FALSE)# + NoLegend()"
   ]
  },
  {
   "cell_type": "code",
   "execution_count": null,
   "metadata": {},
   "outputs": [],
   "source": [
    "sub_adata"
   ]
  },
  {
   "cell_type": "code",
   "execution_count": null,
   "metadata": {},
   "outputs": [],
   "source": [
    "saveRDS(sub_adata,  file='/nfs/lab/parulk/HPAP_scATAC/HVW_all_samples_harmony_reduced_final_gene_activity_amulet_reclustered.rds')"
   ]
  },
  {
   "cell_type": "code",
   "execution_count": null,
   "metadata": {},
   "outputs": [],
   "source": [
    "head(sub_adata)"
   ]
  },
  {
   "cell_type": "code",
   "execution_count": null,
   "metadata": {},
   "outputs": [],
   "source": [
    "#check\n",
    "# add qc metrics from josh\n",
    "samples <- c('HPAP-035', 'HPAP-036', 'HPAP-039', 'HPAP-040', 'HPAP-044', 'HPAP-045', 'HPAP-047', 'HPAP-049', 'HPAP-050', 'HPAP-051', 'HPAP-052', 'HPAP-053', 'HPAP-054', 'HPAP-055', 'HPAP-056', 'HPAP-059', 'HPAP-061', 'HPAP-062', 'HPAP-063', 'HPAP-064', 'HPAP-067', 'HPAP-069', 'HPAP-072', 'HPAP-075', 'HPAP-077', 'HPAP-079', 'HPAP-080', 'HPAP-081', 'HPAP-083', 'HPAP-084', 'HPAP-085', 'HPAP-088', 'HPAP-092', 'HPAP-099', 'HPAP-100', 'HPAP-101', 'HPAP-103', 'HPAP-104', 'HPAP-105', 'HPAP-106', 'HPAP-109')\n",
    "qcs <- list()\n",
    "for (sample in samples) {\n",
    "    wd <- sprintf('/nfs/lab/parulk/HPAP_scATAC/lfm1/')\n",
    "    qc <- read.table(file.path(wd, sprintf('%s.qc_metrics.txt', sample, sample)), sep='\\t', header=TRUE, stringsAsFactors=FALSE)\n",
    "    #qc <- qc[qc$is_cell==1,]\n",
    "    #qc$X <- paste0(sample, '_', qc$barcodes)\n",
    "    qcs[[sample]] <- qc\n",
    "}\n",
    "qc <- as.data.frame(rbindlist(qcs))\n",
    "qc$X <- paste0(qc$X, \"-1\")\n",
    "\n",
    "head(qc)\n",
    "rownames(qc) <- qc$X\n",
    "qc <- qc[Cells(sub_adata), 6:length(colnames(qc))]\n",
    "sub_adata <- AddMetaData(object=sub_adata, metadata=qc)\n",
    "qc <- qcs <- NULL\n",
    "gc()\n",
    "head(sub_adata)\n",
    "metadata <- sub_adata@meta.data\n",
    "head(sub_adata@meta.data)"
   ]
  },
  {
   "cell_type": "code",
   "execution_count": null,
   "metadata": {},
   "outputs": [],
   "source": [
    "options(repr.plot.width=20, repr.plot.height=20)\n",
    "\n",
    "p1 <- VlnPlot(sub_adata, features='TSS.enrichment',  pt.size=0, log = TRUE, split.by = 'seurat_clusters' ) + geom_boxplot(width=.6, fill='white', alpha=.6) + geom_hline(yintercept=median(sub_adata$TSS.enrichment), linetype='dashed')#\n",
    "p2 <- VlnPlot(sub_adata, features='nucleosome_signal',  pt.size=0, log = TRUE, split.by = 'seurat_clusters' ) + geom_boxplot(width=.6, fill='white', alpha=.6) + geom_hline(yintercept=median(sub_adata$nucleosome_signal), linetype='dashed')#\n",
    "p3 <- VlnPlot(sub_adata, features='frac_reads_in_peaks',  pt.size=0,  split.by = 'seurat_clusters') + geom_boxplot(width=.6, fill='white', alpha=.6) + geom_hline(yintercept=median(sub_adata$frac_reads_in_peaks), linetype='dashed')#\n",
    "p4 <- VlnPlot(sub_adata, features='frac_reads_in_promoters',  pt.size=0, split.by = 'seurat_clusters') + geom_boxplot(width=.6, fill='white', alpha=.6) + geom_hline(yintercept=median(sub_adata$frac_reads_in_promoters), linetype='dashed')#\n",
    "\n",
    "p1 / p2 / p3 / p4"
   ]
  },
  {
   "cell_type": "code",
   "execution_count": null,
   "metadata": {},
   "outputs": [],
   "source": [
    "table(Idents(sub_adata))"
   ]
  },
  {
   "cell_type": "code",
   "execution_count": null,
   "metadata": {},
   "outputs": [],
   "source": [
    "#sub_adata <- readRDS('/nfs/lab/parulk/HPAP_scATAC/HVW_all_samples_harmony_reduced_final_gene_activity_amulet_reclustered.rds')"
   ]
  },
  {
   "cell_type": "code",
   "execution_count": null,
   "metadata": {},
   "outputs": [],
   "source": [
    "metadata"
   ]
  },
  {
   "cell_type": "code",
   "execution_count": null,
   "metadata": {},
   "outputs": [],
   "source": [
    "metadata <- sub_adata@meta.data\n",
    "frac_reads_in_peaks <- sub_adata@meta.data$frac_reads_in_peaks\n",
    "quantile(frac_reads_in_peaks)\n",
    "ggplot(data=metadata, mapping = aes(x=frac_reads_in_peaks)) +  geom_density(alpha = 0.2, color=\"green\", fill=\"lightgreen\") + \n",
    "theme_linedraw() + geom_vline(xintercept=c(0.33,0.6,0.7), colour=c(\"blue\", \"red\", \"black\"),linetype = \"longdash\")"
   ]
  },
  {
   "cell_type": "code",
   "execution_count": null,
   "metadata": {},
   "outputs": [],
   "source": [
    "frac_reads_in_promoters <- sub_adata@meta.data$frac_reads_in_promoters\n",
    "quantile(frac_reads_in_promoters)\n",
    "ggplot(data=metadata, mapping = aes(x=frac_reads_in_promoters)) +  geom_density(alpha = 0.2, fill= 'lightpink', color=\"pink\") + \n",
    "theme_linedraw() + geom_vline(xintercept=c(0.03,0.038,0.041), colour=c(\"blue\", \"red\", \"black\"),linetype = \"longdash\")"
   ]
  },
  {
   "cell_type": "code",
   "execution_count": null,
   "metadata": {},
   "outputs": [],
   "source": [
    "TSS.enrichment <- sub_adata@meta.data$TSS.enrichment\n",
    "quantile(TSS.enrichment)\n",
    "ggplot(data=metadata, mapping = aes(x=TSS.enrichment)) +  geom_density(alpha = 0.2, color=\"blue\", fill=\"lightblue\") + \n",
    "theme_linedraw() + geom_vline(xintercept=c(4.24,4.79,5.39), colour=c(\"blue\", \"red\", \"black\"),linetype = \"longdash\")\n",
    "sub_adata$high.tss <- ifelse(sub_adata$TSS.enrichment > 2, 'High', 'Low')\n",
    "TSSPlot(sub_adata, group.by = 'high.tss') + NoLegend()"
   ]
  },
  {
   "cell_type": "code",
   "execution_count": null,
   "metadata": {},
   "outputs": [],
   "source": [
    "nucleosome_signal <- sub_adata@meta.data$nucleosome_signal\n",
    "\n",
    "quantile(nucleosome_signal)\n",
    "\n",
    "ggplot(data=metadata, mapping = aes(x=nucleosome_signal)) +  geom_density(alpha = 0.2,color=\"yellow\", fill=\"yellow\") + \n",
    "theme_linedraw() \n",
    "sub_adata$nucleosome_group <- ifelse(sub_adata$nucleosome_signal > 4, 'NS > 4', 'NS < 4')\n",
    "FragmentHistogram(object = sub_adata, group.by = 'nucleosome_group')"
   ]
  },
  {
   "cell_type": "code",
   "execution_count": null,
   "metadata": {},
   "outputs": [],
   "source": [
    "DimPlot(object = sub_adata, label = TRUE) + NoLegend()"
   ]
  },
  {
   "cell_type": "code",
   "execution_count": null,
   "metadata": {},
   "outputs": [],
   "source": [
    "table(sub_adata[[]]$seurat_clusters)"
   ]
  },
  {
   "cell_type": "code",
   "execution_count": null,
   "metadata": {},
   "outputs": [],
   "source": [
    "library(ggpubr)\n",
    "library(ggbreak)\n",
    "library(gridExtra)\n",
    "library(grid)\n",
    "library(ggh4x)\n",
    "library(ggplot2)\n",
    "library(ggforce)\n",
    "library('tidyr')"
   ]
  },
  {
   "cell_type": "code",
   "execution_count": null,
   "metadata": {},
   "outputs": [],
   "source": [
    "# Load markers list\n",
    "project.dir = \"/nfs/lab/parulk/HPAP_scATAC/\"\n",
    "cell.markers = read.table(\"/nfs/lab/parulk/HPAP_scATAC/Cell.markers.txt\", sep = ',', header = TRUE)\n",
    "# Make it long, remove useless column and void markers\n",
    "cell.markers <- cell.markers %>% gather(Key, marker, c(3:ncol(cell.markers)))\n",
    "cell.markers = cell.markers[,-3]\n",
    "cell.markers = cell.markers[cell.markers$marker != \"\", ]\n",
    "head(cell.markers)\n",
    "# Factorize columns\n",
    "cell.markersCompartment <- cell.markers$cell.markersCompartment\n",
    "cell.markersCellType <- cell.markers$cell.markersCellType\n",
    "cell.markersCompartment = factor(cell.markersCompartment, levels = c(\"Endocrine cells\", \"Non-endocrine cells\"))\n",
    "cell.markersCellType = factor(cell.markersCellType, levels = c(\"Beta\", \"Alpha\", \"Delta\", \"Gamma\", \"Epsilon\", \"Ductal\", \"MUC5B Ductal\", \"Acinar\", \"Stellate\", \"Act. Stellate\", \"Q. Stellate\", \"Endothelial\", \"T Cell\", \"Schwann\", \"Macrophages\", \"Dividing Cells\"))"
   ]
  },
  {
   "cell_type": "code",
   "execution_count": null,
   "metadata": {},
   "outputs": [],
   "source": [
    "g = DotPlot(sub_adata, assay='RNA', features=cell.markers$marker, cluster.idents=TRUE, col.min=0) +\n",
    "        theme(axis.text.x=element_text(angle=45, hjust=1)) + xlab('') + ylab('')\n",
    "    meta_summary = g$data\n",
    "    colnames(meta_summary)[3] = \"marker\"\n",
    "    meta_summary = merge(meta_summary, cell.markers, by = \"marker\")\n",
    "\n",
    "    options(repr.plot.width=25, repr.plot.height=10)\n",
    "    figure <- ggplot(meta_summary, aes(x = marker, y = id)) +\n",
    "      geom_point(aes(size = pct.exp, fill = avg.exp.scaled, stroke=NA),\n",
    "                 shape = 21) +\n",
    "      scale_size(\"% detected\", range = c(0, 6)) +\n",
    "      scale_fill_gradient(low = \"lightgray\", high = \"blue\",\n",
    "                           guide = guide_colorbar(nbin = 200,\n",
    "                                                  ticks.colour = \"black\", frame.colour = \"black\"),\n",
    "                           name = \"Average\\nexpression\") +\n",
    "      ylab(\"Cluster\") + xlab(\"\") +\n",
    "      theme_bw() +\n",
    "      theme(axis.text = element_text(size = 100),\n",
    "            axis.text.x = element_text(size = 10, angle = 45, hjust = 1, color = \"black\"),\n",
    "            strip.text.x = element_text(size = 10),\n",
    "            axis.text.y = element_text(size = 12, color = \"black\"),\n",
    "            axis.title = element_text(size = 14)) +\n",
    "facet_nested(~ Compartment + CellType, scales = \"free\")\n",
    "\n",
    "figure"
   ]
  },
  {
   "cell_type": "code",
   "execution_count": null,
   "metadata": {},
   "outputs": [],
   "source": [
    "covariant.ls = c(\"library\", \"sex\", \"condition\")"
   ]
  },
  {
   "cell_type": "code",
   "execution_count": null,
   "metadata": {},
   "outputs": [],
   "source": [
    "gg.ls = list()\n",
    "\n",
    "# Library\n",
    "    i = 1\n",
    "    covariant = covariant.ls[i]\n",
    "    Covariant.table = as.data.frame(table(sub_adata$seurat_clusters, sub_adata$library))\n",
    "    colnames(Covariant.table) = c(\"cluster\", \"covariant\", \"Freq\")\n",
    "    gg.ls[[i]] = ggplot(Covariant.table, aes(fill = covariant, y = Freq, x = cluster)) +\n",
    "      theme_bw() +\n",
    "      coord_flip() +\n",
    "      geom_bar(position = position_fill(reverse = TRUE), stat = 'identity', color = 'black', size = 0.2) +\n",
    "      labs(y= \"\\n Percentage\", x = \"\", title = covariant) + \n",
    "      theme(axis.text = element_text(size = 12), axis.title = element_text(size = 12, face = \"bold\"),\n",
    "                      axis.text.x = element_text(angle = 90),\n",
    "                                 plot.title = element_text(size = 18, face = \"bold\", , hjust = 0.5))\n",
    "\n",
    "# Sex\n",
    "    i = 2\n",
    "    covariant = covariant.ls[i]\n",
    "    Covariant.table = as.data.frame(table(sub_adata$seurat_clusters, sub_adata$sex))\n",
    "    colnames(Covariant.table) = c(\"cluster\", \"covariant\", \"Freq\")\n",
    "    gg.ls[[i]] = ggplot(Covariant.table, aes(fill = covariant, y = Freq, x = cluster)) +\n",
    "      theme_bw() +\n",
    "      coord_flip() +\n",
    "      geom_bar(position = position_fill(reverse = TRUE), stat = 'identity', color = 'black', size = 0.2) +\n",
    "      labs(y= \"\\n Percentage\", x = \"\", title = covariant) + \n",
    "      theme(axis.text = element_text(size = 12), axis.title = element_text(size = 12, face = \"bold\"),\n",
    "                      axis.text.x = element_text(angle = 90),\n",
    "                                 plot.title = element_text(size = 18, face = \"bold\", , hjust = 0.5))\n",
    "\n",
    "# Condition\n",
    "    i = 3\n",
    "    covariant = covariant.ls[i]\n",
    "    Covariant.table = as.data.frame(table(sub_adata$seurat_clusters, sub_adata$condition))\n",
    "    colnames(Covariant.table) = c(\"cluster\", \"covariant\", \"Freq\")\n",
    "    gg.ls[[i]] = ggplot(Covariant.table, aes(fill = covariant, y = Freq, x = cluster)) +\n",
    "      theme_bw() +\n",
    "      coord_flip() +\n",
    "      geom_bar(position = position_fill(reverse = TRUE), stat = 'identity', color = 'black', size = 0.2) +\n",
    "      labs(y= \"\\n Percentage\", x = \"\", title = covariant) + \n",
    "      theme(axis.text = element_text(size = 12), axis.title = element_text(size = 12, face = \"bold\"),\n",
    "                      axis.text.x = element_text(angle = 90),\n",
    "                                 plot.title = element_text(size = 18, face = \"bold\", , hjust = 0.5))"
   ]
  },
  {
   "cell_type": "code",
   "execution_count": null,
   "metadata": {},
   "outputs": [],
   "source": [
    "options(repr.plot.height = 20, repr.plot.width = 40)\n",
    "cp <- gg.ls[[1]] + gg.ls[[2]] + gg.ls[[3]]\n",
    "cp"
   ]
  },
  {
   "cell_type": "code",
   "execution_count": null,
   "metadata": {
    "scrolled": true
   },
   "outputs": [],
   "source": [
    "# IMP cleanup\n",
    "sub_adata <- subset(x=sub_adata, subset = frac_reads_in_peaks > 0.3)"
   ]
  },
  {
   "cell_type": "code",
   "execution_count": null,
   "metadata": {},
   "outputs": [],
   "source": [
    "sub_adata <- subset(x=sub_adata, subset = TSS.enrichment > 3)\n",
    "sub_adata"
   ]
  },
  {
   "cell_type": "code",
   "execution_count": null,
   "metadata": {},
   "outputs": [],
   "source": [
    "sub_adata <- subset(x = sub_adata, idents = c(5, 18, 20, 22, 24, 25, 26), invert = TRUE)\n",
    "sub_adata"
   ]
  },
  {
   "cell_type": "code",
   "execution_count": null,
   "metadata": {
    "scrolled": true
   },
   "outputs": [],
   "source": [
    "table(sub_adata[[]]$seurat_clusters)"
   ]
  },
  {
   "cell_type": "code",
   "execution_count": null,
   "metadata": {},
   "outputs": [],
   "source": [
    "saveRDS(sub_adata,  file='/nfs/lab/parulk/HPAP_scATAC/HVW_all_samples_harmony_reduced_final_gene_activity_amulet_reclustered_1.rds')"
   ]
  },
  {
   "cell_type": "code",
   "execution_count": null,
   "metadata": {},
   "outputs": [],
   "source": [
    "sub_adata <- readRDS('/nfs/lab/parulk/HPAP_scATAC/HVW_all_samples_harmony_reduced_final_gene_activity_amulet_reclustered_1.rds')"
   ]
  },
  {
   "cell_type": "code",
   "execution_count": null,
   "metadata": {},
   "outputs": [],
   "source": [
    "DefaultAssay(sub_adata) <- 'ATAC_windows'\n",
    "sub_adata <- RunTFIDF(sub_adata)\n",
    "sub_adata <- FindTopFeatures(sub_adata, min.cutoff='q0', verbose=FALSE)"
   ]
  },
  {
   "cell_type": "code",
   "execution_count": null,
   "metadata": {},
   "outputs": [],
   "source": [
    "sub_adata <- RunSVD(sub_adata)"
   ]
  },
  {
   "cell_type": "code",
   "execution_count": null,
   "metadata": {},
   "outputs": [],
   "source": [
    "DepthCor(sub_adata)"
   ]
  },
  {
   "cell_type": "code",
   "execution_count": null,
   "metadata": {},
   "outputs": [],
   "source": [
    "sub_adata@reductions"
   ]
  },
  {
   "cell_type": "code",
   "execution_count": null,
   "metadata": {},
   "outputs": [],
   "source": [
    "hm_atac <- HarmonyMatrix(Embeddings(sub_adata, reduction='lsi'),sub_adata@meta.data,  c(\"library\",\"sex\"), do_pca=FALSE,plot_convergence = TRUE, verbose = TRUE)\n"
   ]
  },
  {
   "cell_type": "code",
   "execution_count": null,
   "metadata": {},
   "outputs": [],
   "source": [
    "sub_adata[['harmony.atac']] <- CreateDimReducObject(embeddings=hm_atac, key='LSI_', assay= 'ATAC_windows')"
   ]
  },
  {
   "cell_type": "code",
   "execution_count": null,
   "metadata": {},
   "outputs": [],
   "source": [
    "sub_adata <- RunUMAP(sub_adata, dims=2:30, reduction='harmony.atac', reduction.name='umap.atac', reduction.key='atacUMAP_')\n"
   ]
  },
  {
   "cell_type": "code",
   "execution_count": null,
   "metadata": {},
   "outputs": [],
   "source": [
    "options(repr.plot.width=10, repr.plot.height=10)\n",
    "p3 <- DimPlot(sub_adata, reduction='umap.atac', group.by = 'library', label=TRUE, label.size=6, repel=TRUE, raster=FALSE) + ggtitle('WNN')\n",
    "p3 <- p3 + xlab('UMAP 1') + ylab('UMAP 2') + ggtitle('ATAC')\n",
    "p3"
   ]
  },
  {
   "cell_type": "code",
   "execution_count": null,
   "metadata": {},
   "outputs": [],
   "source": [
    "sub_adata@reductions"
   ]
  },
  {
   "cell_type": "code",
   "execution_count": null,
   "metadata": {},
   "outputs": [],
   "source": [
    "DepthCor(sub_adata, reduction = 'harmony.atac')"
   ]
  },
  {
   "cell_type": "code",
   "execution_count": null,
   "metadata": {},
   "outputs": [],
   "source": [
    "sub_adata <- FindNeighbors(object = sub_adata, reduction = 'harmony.atac', dims = 2:30)\n",
    "sub_adata <- FindClusters(object = sub_adata, algorithm=4,resolution = 1.5,method = \"igraph\") \n",
    "\n",
    "DimPlot(object = sub_adata, label = TRUE) + NoLegend()\n"
   ]
  },
  {
   "cell_type": "code",
   "execution_count": null,
   "metadata": {},
   "outputs": [],
   "source": [
    "saveRDS(sub_adata, '/nfs/lab/parulk/HPAP_scATAC/HVW_all_samples_harmony_reduced_final_gene_activity_amulet_reclustered_final.rds')"
   ]
  },
  {
   "cell_type": "code",
   "execution_count": null,
   "metadata": {},
   "outputs": [],
   "source": [
    "sub_adata"
   ]
  },
  {
   "cell_type": "code",
   "execution_count": null,
   "metadata": {},
   "outputs": [],
   "source": [
    "libraries <- sub_adata$library"
   ]
  },
  {
   "cell_type": "code",
   "execution_count": null,
   "metadata": {},
   "outputs": [],
   "source": [
    "head(libraries)"
   ]
  },
  {
   "cell_type": "code",
   "execution_count": null,
   "metadata": {},
   "outputs": [],
   "source": [
    "write.csv(libraries, '/nfs/lab/parulk/HPAP_scATAC/barcodes_windows_cluster.csv')"
   ]
  }
 ],
 "metadata": {
  "kernelspec": {
   "display_name": "R",
   "language": "R",
   "name": "ir"
  },
  "language_info": {
   "codemirror_mode": "r",
   "file_extension": ".r",
   "mimetype": "text/x-r-source",
   "name": "R",
   "pygments_lexer": "r",
   "version": "4.1.1"
  }
 },
 "nbformat": 4,
 "nbformat_minor": 4
}
