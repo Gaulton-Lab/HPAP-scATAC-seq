{
 "cells": [
  {
   "cell_type": "code",
   "execution_count": null,
   "id": "0ec9c817",
   "metadata": {},
   "outputs": [],
   "source": [
    "library(Signac)\n",
    "library(Seurat)\n",
    "library(JASPAR2020)\n",
    "library(TFBSTools)\n",
    "library(BSgenome.Hsapiens.UCSC.hg38)\n",
    "library(patchwork)\n",
    "library(readr)\n",
    "library(stringr)\n",
    "library(dplyr)\n",
    "set.seed(1234)\n",
    "\n",
    "#### Send to channel code\n",
    "library(parallel)\n",
    "library(ggpubr)\n",
    "library(car)\n",
    "library(qvalue)\n",
    "\n",
    "suppressMessages(library(chromVAR))\n",
    "suppressMessages(library(motifmatchr))\n",
    "suppressMessages(library(SummarizedExperiment))\n",
    "\n",
    "library(pheatmap)\n",
    "library(RColorBrewer)\n",
    "library(beeswarm)"
   ]
  },
  {
   "cell_type": "code",
   "execution_count": null,
   "id": "273ed662",
   "metadata": {},
   "outputs": [],
   "source": [
    "in_dir <- '/nfs/lab/parulk/HPAP_scATAC/motif_analysis/'\n",
    "\n",
    "#Load in devscores, info, motif\n",
    "motifdata <- read.table(file=paste0(in_dir,'motifdata.txt'), sep=\"\\t\")\n",
    "info <- read.table(file=paste0(in_dir,'info_table.txt'), sep=\"\\t\")\n",
    "TFClass_Lookup <- read_csv(\"/nfs/lab/welison/References/220907_WE_Chromvar_to_Gene_By_Subfam_Complete(JAPRAR2022_TFClass).csv\")\n",
    "TFClass_Full <- read_csv(\"/nfs/lab/welison/References/220907_WE_Chromvar_to_Gene_Jaspar2022.csv\")\n",
    "variability <- read.table(file=paste0(in_dir,'variability.txt'), sep=\"\\t\")\n",
    "\n",
    "head(motifdata)\n",
    "head(info)\n",
    "dim(TFClass_Lookup)\n",
    "head(TFClass_Lookup)\n",
    "\n",
    "head(variability)\n",
    "dim(variability)"
   ]
  },
  {
   "cell_type": "code",
   "execution_count": null,
   "id": "30538776",
   "metadata": {},
   "outputs": [],
   "source": [
    "#Devscores are slow to load, so this is a faster but awkward workaround\n",
    "dev_file <- paste0(in_dir,'devscores.txt')\n",
    "\n",
    "devscores <- vroom::vroom(file=dev_file, skip=1, col_names=FALSE)\n",
    "devscores <- tibble::column_to_rownames(devscores, var=\"X1\")\n",
    "colnames(devscores) <- str_split(readLines(file(dev_file),n=1), \" \")[[1]]\n",
    "\n",
    "head(devscores)"
   ]
  },
  {
   "cell_type": "code",
   "execution_count": null,
   "id": "2ffe1601",
   "metadata": {},
   "outputs": [],
   "source": [
    "# Originial deviaiton score matrix, may not be needed now that I am loading in variability directly\n",
    "dev <- readRDS(\"/nfs/lab/parulk/HPAP_scATAC/motif_analysis/ChromVAR_Object.RDS\")\n",
    "jaspar.motifs <- readRDS(file ='/nfs/lab/welison/multiome/chromvar/jaspar_2022_object.Rdata')\n",
    "\n",
    "dev"
   ]
  },
  {
   "cell_type": "code",
   "execution_count": null,
   "id": "cab24d81",
   "metadata": {},
   "outputs": [],
   "source": [
    "# Filter by variability\n",
    "\n",
    "ggplot(variability, aes(x=variability)) +\n",
    "geom_histogram() + geom_vline(xintercept = 1.2) + geom_vline(xintercept = 1.6)\n",
    "\n",
    "sum(variability$variability > 1.2)\n",
    "length(variability$variability > 1.2)\n",
    "\n",
    "sum(variability$p_value < 0.05)\n",
    "sum(variability$p_value_adj < 0.05)\n",
    "\n",
    "sum(variability$p_value_adj < 0.05 & variability$variability > 1.2)"
   ]
  },
  {
   "cell_type": "code",
   "execution_count": null,
   "id": "cb427243",
   "metadata": {
    "scrolled": true
   },
   "outputs": [],
   "source": [
    "# Subset deviation scores by variability\n",
    "variable_to_keep <- rownames(filter(variability, variability > 1.2))\n",
    "\n",
    "var_subset_devscores <- devscores[variable_to_keep,]\n",
    "dim(var_subset_devscores)\n",
    "head(var_subset_devscores)\n",
    "\n",
    "mat_type = sapply(unique(info$cluster), \n",
    "                function(i) rowMeans(var_subset_devscores[info$cells[info$cluster==i]], na.rm=TRUE))\n",
    "head(mat_type)\n",
    "dim(mat_type)\n",
    "\n",
    "mat_df <- as.data.frame(mat_type)\n",
    "\n",
    "mat_df_high_dev <- mat_df[apply(abs(mat_df) > 5, 1, na.rm=TRUE, any),]\n",
    "\n",
    "dim(mat_df_high_dev)\n",
    "head(mat_df_high_dev, n=10)\n",
    "\n",
    "# Some cell types don't have enough cells for this to be meaningful\n",
    "table(info$cluster)\n",
    "\n",
    "#Remove cell types with less then 50 cells\n",
    "mat_df_filt <-select(mat_df)\n",
    "\n",
    "colnames(motifdata) <- c('Motif','Name','jaspar_family')\n",
    "\n",
    "motifdata_fixed <- left_join(motifdata, select(TFClass_Full, Name=jaspar_name_1, TFClass_family=lowest_level_fam_1))\n",
    "motifdata_fixed <- motifdata_fixed[!duplicated(motifdata_fixed),]\n",
    "head(motifdata_fixed)\n",
    "dim(motifdata_fixed)\n",
    "\n",
    "head(mat_df)"
   ]
  },
  {
   "cell_type": "markdown",
   "id": "3a460fa3",
   "metadata": {},
   "source": [
    "# Plots"
   ]
  },
  {
   "cell_type": "code",
   "execution_count": null,
   "id": "5c6b7458",
   "metadata": {},
   "outputs": [],
   "source": [
    "head(read.table(paste0(out_dir,\"variable_devscores.csv\"), header=TRUE, row.names=1, sep=\",\"))"
   ]
  },
  {
   "cell_type": "code",
   "execution_count": null,
   "id": "9f21d379",
   "metadata": {},
   "outputs": [],
   "source": [
    "head(read.table(paste0(out_dir,\"celltype_average_deviations.csv\"), header=TRUE, row.names=1, sep=\",\"))"
   ]
  },
  {
   "cell_type": "code",
   "execution_count": null,
   "id": "8ba296ca",
   "metadata": {},
   "outputs": [],
   "source": [
    "info$groups <- sub(\"Control\", \"ND\", info$groups)\n",
    "\n",
    "wd_meta='/nfs/lab/parulk/HPAP_scATAC/'\n",
    "meta.data =read.csv(paste0(wd_meta,'HPAP-scATAC-metadata-qc.csv'))\n",
    "disease = meta.data[,c(\"Sample_Name\",\"Disease\",\"Age\",\"Gender\",\"BMI\")]\n",
    "\n",
    "disease_remove <- left_join(disease, select(info[!duplicated(info$samples),], Sample_Name=def, sample=samples)) %>%\n",
    "                    filter(!is.na(sample))\n",
    "disease_remove$sample <- as.character(disease_remove$sample)\n",
    "\n",
    "head(disease_remove)"
   ]
  },
  {
   "cell_type": "code",
   "execution_count": null,
   "id": "36d363d4",
   "metadata": {},
   "outputs": [],
   "source": [
    "disease_remove"
   ]
  },
  {
   "cell_type": "code",
   "execution_count": null,
   "id": "a4e0663d",
   "metadata": {},
   "outputs": [],
   "source": [
    "info$cluster_samples <- paste0(info$cluster, \":\", info$samples)"
   ]
  },
  {
   "cell_type": "code",
   "execution_count": null,
   "id": "73c07aaf",
   "metadata": {},
   "outputs": [],
   "source": [
    "head(info)"
   ]
  },
  {
   "cell_type": "code",
   "execution_count": null,
   "id": "42d7bccb",
   "metadata": {},
   "outputs": [],
   "source": [
    "# Subset deviation scores by variability\n",
    "variable_to_keep <- rownames(filter(variability, variability > 1.2))\n",
    "\n",
    "var_subset_devscores <- devscores[variable_to_keep,]\n",
    "dim(var_subset_devscores)\n",
    "head(var_subset_devscores)"
   ]
  },
  {
   "cell_type": "code",
   "execution_count": null,
   "id": "926f15da",
   "metadata": {},
   "outputs": [],
   "source": [
    "persamp_pertype =sapply(unique(info$cluster_samples), \n",
    "                function(i) rowMeans(as.data.frame(var_subset_devscores[info$cells[info$cluster_samples==i]]), na.rm=TRUE))\n",
    "\n",
    "head(persamp_pertype)\n",
    "                        \n",
    "persamp_pertype_transform <- t(persamp_pertype)\n",
    "persamp_pertype_transform <- as.data.frame(persamp_pertype_transform)\n",
    "persamp_pertype_transform$Cell_Type <- str_split(rownames(persamp_pertype_transform), \":\", simplify=TRUE)[,1]\n",
    "persamp_pertype_transform$sample <- str_split(rownames(persamp_pertype_transform), \":\", simplify=TRUE)[,2]\n",
    "  \n",
    "dim(persamp_pertype_transform)\n",
    "head(persamp_pertype_transform)\n",
    "\n",
    "motif_matrix <- dplyr::inner_join(persamp_pertype_transform,disease_remove, by = 'sample')\n",
    "dim(motif_matrix)\n",
    "head(motif_matrix)"
   ]
  },
  {
   "cell_type": "code",
   "execution_count": null,
   "id": "c541f275",
   "metadata": {},
   "outputs": [],
   "source": [
    "write.table(motif_matrix, file=paste0(in_dir,'motif_matrix_boxplot.txt'),quote = FALSE, sep='\\t')"
   ]
  },
  {
   "cell_type": "code",
   "execution_count": null,
   "id": "72defce2",
   "metadata": {},
   "outputs": [],
   "source": [
    "ggplot(motif_matrix,aes(y=MA0081.2_SPIB,x=Cell_Type)) +\n",
    "    geom_boxplot()"
   ]
  },
  {
   "cell_type": "raw",
   "id": "edb87837",
   "metadata": {},
   "source": []
  },
  {
   "cell_type": "code",
   "execution_count": null,
   "id": "e21461c8",
   "metadata": {},
   "outputs": [],
   "source": [
    "out_dir <- \"/nfs/lab/parulk/HPAP_scATAC/motif_analysis/\"\n",
    "\n",
    "#write.csv(devscores, paste0(out_dir,\"devscores.csv\"))\n",
    "write.csv(var_subset_devscores, paste0(out_dir,\"variable_devscores.csv\"))\n",
    "write.csv(mat_df, paste0(out_dir,\"celltype_average_deviations.csv\"))"
   ]
  },
  {
   "cell_type": "code",
   "execution_count": null,
   "id": "9bd87b3e",
   "metadata": {
    "scrolled": true
   },
   "outputs": [],
   "source": [
    "out_dir <- \"/nfs/lab/parulk/HPAP_scATAC/motif_analysis/\"\n",
    "\n",
    "head(read.csv(paste0(out_dir,\"variable_devscores.csv\"), header=TRUE))"
   ]
  },
  {
   "cell_type": "code",
   "execution_count": null,
   "id": "f3bf4bab",
   "metadata": {},
   "outputs": [],
   "source": [
    "out_dir"
   ]
  },
  {
   "cell_type": "code",
   "execution_count": null,
   "id": "31f8cdf9",
   "metadata": {},
   "outputs": [],
   "source": [
    "head(read.table(paste0(out_dir,\"variable_devscores.csv\"), header=TRUE, row.names=1, sep=\",\"))"
   ]
  },
  {
   "cell_type": "code",
   "execution_count": null,
   "id": "982e18df",
   "metadata": {},
   "outputs": [],
   "source": [
    "head(read.table(paste0(out_dir,\"celltype_average_deviations.csv\"), header=TRUE, row.names=1, sep=\",\"))"
   ]
  },
  {
   "cell_type": "markdown",
   "id": "73a02b25",
   "metadata": {},
   "source": [
    "# Decided to plot just the top most variable deviation scores. Try a few thresholds."
   ]
  },
  {
   "cell_type": "code",
   "execution_count": null,
   "id": "bc0bec1d",
   "metadata": {
    "scrolled": true
   },
   "outputs": [],
   "source": [
    "var_1.2 <- rownames(filter(variability, variability > 1.2))\n",
    "var_1.3 <- rownames(filter(variability, variability > 1.3))\n",
    "var_1.4 <- rownames(filter(variability, variability > 1.4))\n",
    "var_1.5 <- rownames(filter(variability, variability > 1.5))"
   ]
  },
  {
   "cell_type": "code",
   "execution_count": null,
   "id": "10190820",
   "metadata": {
    "scrolled": true
   },
   "outputs": [],
   "source": [
    "top_50 <- rownames(arrange(variability, -variability)[1:50,])\n",
    "top_100 <- rownames(arrange(variability, -variability)[1:100,])\n",
    "top_150 <- rownames(arrange(variability, -variability)[1:150,])\n",
    "top_200 <- rownames(arrange(variability, -variability)[1:200,])\n",
    "top_250 <- rownames(arrange(variability, -variability)[1:250,])"
   ]
  },
  {
   "cell_type": "code",
   "execution_count": null,
   "id": "e7f598b1",
   "metadata": {},
   "outputs": [],
   "source": [
    "#Remove cell types with less then 50 cells\n",
    "mat_full = sapply(unique(info$cluster), \n",
    "                function(i) rowMeans(devscores[info$cells[info$cluster==i]], na.rm=TRUE))\n",
    "                  \n",
    "mat_full <- data.frame(mat_full)\n",
    "                  \n",
    "#mat_full <- select(mat_full, -Schwann, -MUC5b_Ductal, - Bcells, -Mast, -LymphEndo)\n",
    "                  \n",
    "head(mat_full)\n",
    "dim(mat_full)"
   ]
  },
  {
   "cell_type": "code",
   "execution_count": null,
   "id": "54508762",
   "metadata": {},
   "outputs": [],
   "source": [
    "head(mat)\n",
    "dim(mat)"
   ]
  }
 ],
 "metadata": {
  "kernelspec": {
   "display_name": "R",
   "language": "R",
   "name": "ir"
  },
  "language_info": {
   "codemirror_mode": "r",
   "file_extension": ".r",
   "mimetype": "text/x-r-source",
   "name": "R",
   "pygments_lexer": "r",
   "version": "4.1.1"
  }
 },
 "nbformat": 4,
 "nbformat_minor": 5
}
